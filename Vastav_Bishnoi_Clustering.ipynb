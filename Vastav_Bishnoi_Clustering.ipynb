{
 "cells": [
  {
   "cell_type": "markdown",
   "id": "38bfd657-631b-4da0-9129-2fedf8a4417a",
   "metadata": {},
   "source": [
    "## **Preprocessing Dataset features with Davis Bouldin Index and Calculation was implemented with cluster report**\n"
   ]
  },
  {
   "cell_type": "code",
   "execution_count": 40,
   "id": "afeae56a-0de4-4e73-b94e-81a763856fed",
   "metadata": {},
   "outputs": [],
   "source": [
    "import pandas as pd\n",
    "import numpy as np\n",
    "from sklearn.preprocessing import StandardScaler\n",
    "from sklearn.cluster import KMeans\n",
    "from sklearn.metrics import silhouette_score, calinski_harabasz_score\n",
    "import matplotlib.pyplot as plt\n",
    "import seaborn as sns\n",
    "from scipy.spatial.distance import pdist, squareform\n",
    "import warnings\n",
    "warnings.filterwarnings('ignore', category=FutureWarning)\n",
    "\n",
    "customers_df = pd.read_csv('Customers.csv')\n",
    "transactions_df = pd.read_csv('Transactions.csv')\n",
    "\n",
    "class CustomerSegmentation:\n",
    "    def __init__(self):\n",
    "        self.scaler = StandardScaler()\n",
    "        self.best_model = None\n",
    "        self.feature_matrix = None\n",
    "        self.n_clusters = None\n",
    "        \n",
    "    def preprocess_features(self, customers_df, transactions_df):\n",
    "  \n",
    "\n",
    "        customer_features = pd.get_dummies(customers_df, columns=['Region'])\n",
    "        customer_features['SignupDate'] = pd.to_datetime(customer_features['SignupDate'])\n",
    "        customer_features['DaysSinceSignup'] = (\n",
    "            pd.Timestamp('2024-01-01') - customer_features['SignupDate']\n",
    "        ).dt.days\n",
    "        \n",
    "\n",
    "        transaction_features = transactions_df.groupby('CustomerID').agg({\n",
    "            'TotalValue': ['sum', 'mean', 'count'],\n",
    "            'Quantity': ['sum', 'mean'],\n",
    "            'TransactionDate': ['min', 'max']\n",
    "        }).fillna(0)\n",
    "        \n",
    "        transaction_features.columns = [\n",
    "            'total_spend', 'avg_transaction', 'transaction_count',\n",
    "            'total_items', 'avg_items',\n",
    "            'first_purchase', 'last_purchase'\n",
    "        ]\n",
    "\n",
    "        transaction_features['recency'] = (\n",
    "            pd.Timestamp('2024-01-01') - \n",
    "            pd.to_datetime(transaction_features['last_purchase'])\n",
    "        ).dt.days\n",
    "        \n",
    "        transaction_features['frequency'] = transaction_features['transaction_count'] / \\\n",
    "            ((pd.to_datetime(transaction_features['last_purchase']) - \n",
    "              pd.to_datetime(transaction_features['first_purchase'])).dt.days + 1)\n",
    "        \n",
    "\n",
    "        combined_features = customer_features.join(\n",
    "            transaction_features, on='CustomerID'\n",
    "        ).fillna(0)\n",
    "        \n",
    "\n",
    "        numerical_features = combined_features.select_dtypes(include=[np.number])\n",
    "        \n",
    "\n",
    "        self.feature_matrix = self.scaler.fit_transform(numerical_features)\n",
    "        return self.feature_matrix\n",
    "    \n",
    "    def davies_bouldin_index(self, X, labels):\n",
    " \n",
    "        n_clusters = len(np.unique(labels))\n",
    "        cluster_centers = np.array([X[labels == i].mean(axis=0) \n",
    "                                  for i in range(n_clusters)])\n",
    "        \n",
    "\n",
    "        dispersions = np.zeros(n_clusters)\n",
    "        for i in range(n_clusters):\n",
    "            if np.sum(labels == i) > 0: \n",
    "                cluster_points = X[labels == i]\n",
    "                dispersions[i] = np.mean(\n",
    "                    np.linalg.norm(cluster_points - cluster_centers[i], axis=1)\n",
    "                )\n",
    "        \n",
    "\n",
    "        db_index = 0\n",
    "        for i in range(n_clusters):\n",
    "            max_ratio = 0\n",
    "            for j in range(n_clusters):\n",
    "                if i != j:\n",
    "                    center_distance = np.linalg.norm(\n",
    "                        cluster_centers[i] - cluster_centers[j]\n",
    "                    )\n",
    "                    if center_distance != 0:  # Avoid division by zero\n",
    "                        ratio = (dispersions[i] + dispersions[j]) / center_distance\n",
    "                        max_ratio = max(max_ratio, ratio)\n",
    "            db_index += max_ratio\n",
    "        \n",
    "        return db_index / n_clusters\n",
    "    \n",
    "    def find_optimal_clusters(self, min_clusters=2, max_clusters=10):\n",
    "  \n",
    "        results = []\n",
    "        \n",
    "        for n_clusters in range(min_clusters, max_clusters + 1):\n",
    "            kmeans = KMeans(n_clusters=n_clusters, random_state=42)\n",
    "            labels = kmeans.fit_predict(self.feature_matrix)\n",
    "            \n",
    "            db_index = self.davies_bouldin_index(self.feature_matrix, labels)\n",
    "            silhouette = silhouette_score(self.feature_matrix, labels)\n",
    "            calinski = calinski_harabasz_score(self.feature_matrix, labels)\n",
    "            \n",
    "            results.append({\n",
    "                'n_clusters': n_clusters,\n",
    "                'db_index': db_index,\n",
    "                'silhouette': silhouette,\n",
    "                'calinski': calinski\n",
    "            })\n",
    "            \n",
    "        results_df = pd.DataFrame(results)\n",
    "\n",
    "        self.n_clusters = results_df.loc[\n",
    "            results_df['db_index'].idxmin(), 'n_clusters'\n",
    "        ]\n",
    "        \n",
    "  \n",
    "        self.best_model = KMeans(\n",
    "            n_clusters=self.n_clusters, random_state=42\n",
    "        ).fit(self.feature_matrix)\n",
    "        \n",
    "        return results_df\n",
    "    \n",
    "    def visualize_clusters(self):\n",
    "\n",
    "\n",
    "        from sklearn.decomposition import PCA\n",
    "        pca = PCA(n_components=2)\n",
    "        reduced_features = pca.fit_transform(self.feature_matrix)\n",
    "        \n",
    "\n",
    "        fig, (ax1, ax2) = plt.subplots(1, 2, figsize=(15, 6))\n",
    "        \n",
    "  \n",
    "        scatter = ax1.scatter(\n",
    "            reduced_features[:, 0], \n",
    "            reduced_features[:, 1], \n",
    "            c=self.best_model.labels_,\n",
    "            cmap='viridis'\n",
    "        )\n",
    "        ax1.set_title('Customer Segments (PCA)')\n",
    "        ax1.set_xlabel('First Principal Component')\n",
    "        ax1.set_ylabel('Second Principal Component')\n",
    "        ax1.legend(*scatter.legend_elements(), title=\"Clusters\")\n",
    "        \n",
    "\n",
    "        cluster_sizes = pd.Series(\n",
    "            self.best_model.labels_\n",
    "        ).value_counts().sort_index()\n",
    "        cluster_sizes.plot(kind='bar', ax=ax2)\n",
    "        ax2.set_title('Cluster Size Distribution')\n",
    "        ax2.set_xlabel('Cluster')\n",
    "        ax2.set_ylabel('Number of Customers')\n",
    "        \n",
    "        plt.tight_layout()\n",
    "        return fig\n",
    "\n",
    "    def generate_cluster_report(self):\n",
    "\n",
    "        report = {\n",
    "            'n_clusters': self.n_clusters,\n",
    "            'db_index': self.davies_bouldin_index(\n",
    "                self.feature_matrix, \n",
    "                self.best_model.labels_\n",
    "            ),\n",
    "            'silhouette_score': silhouette_score(\n",
    "                self.feature_matrix, \n",
    "                self.best_model.labels_\n",
    "            ),\n",
    "            'calinski_score': calinski_harabasz_score(\n",
    "                self.feature_matrix, \n",
    "                self.best_model.labels_\n",
    "            ),\n",
    "            'cluster_sizes': pd.Series(\n",
    "                self.best_model.labels_\n",
    "            ).value_counts().to_dict()\n",
    "        }\n",
    "        return report"
   ]
  },
  {
   "cell_type": "markdown",
   "id": "72a19a02-e898-4479-9e5c-6b10b6f38efe",
   "metadata": {},
   "source": [
    "# **Segmenting and creating cluster matrix with plotly visualisation**\n"
   ]
  },
  {
   "cell_type": "code",
   "execution_count": 43,
   "id": "eef4f090-632c-4e86-8ca0-6ee2eea4c7dc",
   "metadata": {},
   "outputs": [
    {
     "data": {
      "text/plain": [
       "<Figure size 1000x600 with 0 Axes>"
      ]
     },
     "metadata": {},
     "output_type": "display_data"
    },
    {
     "data": {
      "image/png": "[encoded data removed]",
      "text/plain": [
       "<Figure size 1500x600 with 2 Axes>"
      ]
     },
     "metadata": {},
     "output_type": "display_data"
    },
    {
     "name": "stdout",
     "output_type": "stream",
     "text": [
      "\n",
      "Clustering Report:\n",
      "Number of clusters: 3\n",
      "Davies-Bouldin Index: 1.2467\n",
      "Silhouette Score: 0.2749\n",
      "Calinski-Harabasz Score: 78.4733\n",
      "\n",
      "Cluster sizes:\n",
      "Cluster 1: 118 customers\n",
      "Cluster 2: 69 customers\n",
      "Cluster 0: 13 customers\n"
     ]
    }
   ],
   "source": [
    "\n",
    "segmentation = CustomerSegmentation()\n",
    "feature_matrix = segmentation.preprocess_features(customers_df, transactions_df)\n",
    "\n",
    "\n",
    "clustering_metrics = segmentation.find_optimal_clusters(min_clusters=2, max_clusters=10)\n",
    "\n",
    "\n",
    "plt.figure(figsize=(10, 6))\n",
    "fig = segmentation.visualize_clusters()\n",
    "plt.show()   #Copyright to Vastav Bishnoi\n",
    "\n",
    "\n",
    "report = segmentation.generate_cluster_report()\n",
    "print(\"\\nClustering Report:\")\n",
    "print(f\"Number of clusters: {report['n_clusters']}\")\n",
    "print(f\"Davies-Bouldin Index: {report['db_index']:.4f}\")\n",
    "print(f\"Silhouette Score: {report['silhouette_score']:.4f}\")\n",
    "print(f\"Calinski-Harabasz Score: {report['calinski_score']:.4f}\")\n",
    "print(\"\\nCluster sizes:\")\n",
    "for cluster, size in report['cluster_sizes'].items():\n",
    "    print(f\"Cluster {cluster}: {size} customers\")"
   ]
  },
  {
   "cell_type": "markdown",
   "id": "1fa129b2-2479-4dc2-82dd-415d56b84581",
   "metadata": {},
   "source": [
    "# **3d - Customer Segmentation**"
   ]
  },
  {
   "cell_type": "code",
   "execution_count": 80,
   "id": "3d1df42b-8a00-4f83-80e4-60915807b227",
   "metadata": {},
   "outputs": [
    {
     "name": "stderr",
     "output_type": "stream",
     "text": [
      "/var/folders/jm/t_p6_mqs729_c9yg28w4k5hh0000gn/T/ipykernel_80312/4123954869.py:11: MatplotlibDeprecationWarning:\n",
      "\n",
      "The seaborn styles shipped by Matplotlib are deprecated since 3.6, as they no longer correspond to the styles shipped by seaborn. However, they will remain available as 'seaborn-v0_8-<style>'. Alternatively, directly use the seaborn API instead.\n",
      "\n"
     ]
    }
   ],
   "source": [
    "import pandas as pd\n",
    "import numpy as np\n",
    "import matplotlib.pyplot as plt\n",
    "import seaborn as sns\n",
    "from datetime import datetime\n",
    "import plotly.express as px\n",
    "import plotly.graph_objects as go\n",
    "from plotly.subplots import make_subplots\n",
    "\n",
    "\n",
    "plt.style.use('seaborn')\n",
    "sns.set_palette(\"husl\")\n",
    "\n",
    "class EcommerceVisualizer:\n",
    "    def __init__(self, customers_df, products_df, transactions_df):\n",
    "        \"\"\"Initialize with the three main dataframes\"\"\"\n",
    "        self.customers_df = customers_df.copy()\n",
    "        self.products_df = products_df.copy()\n",
    "        self.transactions_df = transactions_df.copy()\n",
    "        self.prepare_data()\n",
    "\n",
    "    def prepare_data(self):\n",
    "        \n",
    "        \n",
    "        self.customers_df['SignupDate'] = pd.to_datetime(self.customers_df['SignupDate'])\n",
    "        self.transactions_df['TransactionDate'] = pd.to_datetime(self.transactions_df['TransactionDate'])\n",
    "        \n",
    "        \n",
    "        self.enriched_transactions = self.transactions_df.merge(\n",
    "            self.customers_df[['CustomerID', 'Region', 'SignupDate']], \n",
    "            on='CustomerID'\n",
    "        ).merge(\n",
    "            self.products_df[['ProductID', 'Category']], \n",
    "            on='ProductID'\n",
    "        )\n",
    "\n",
    "    def plot_sales_trends(self):\n",
    "        \n",
    "        # Prepare daily sales data\n",
    "        daily_sales = self.enriched_transactions.groupby(\n",
    "            self.enriched_transactions['TransactionDate'].dt.date\n",
    "        ).agg({\n",
    "            'TotalValue': 'sum',\n",
    "            'TransactionID': 'count',\n",
    "            'CustomerID': 'nunique'\n",
    "        }).reset_index()\n",
    "\n",
    "        \n",
    "        fig = make_subplots(\n",
    "            rows=2, cols=1,\n",
    "            subplot_titles=('Daily Sales Value', 'Daily Transaction Count'),\n",
    "            vertical_spacing=0.12\n",
    "        )\n",
    "\n",
    "        \n",
    "        fig.add_trace(\n",
    "            go.Scatter(\n",
    "                x=daily_sales['TransactionDate'],\n",
    "                y=daily_sales['TotalValue'],\n",
    "                mode='lines',\n",
    "                name='Sales Value',\n",
    "                line=dict(color='#1f77b4', width=2)\n",
    "            ),\n",
    "            row=1, col=1\n",
    "        )\n",
    "\n",
    "        \n",
    "        fig.add_trace(\n",
    "            go.Scatter(\n",
    "                x=daily_sales['TransactionDate'],\n",
    "                y=daily_sales['TransactionID'],\n",
    "                mode='lines',\n",
    "                name='Transaction Count',\n",
    "                line=dict(color='#2ca02c', width=2)\n",
    "            ),\n",
    "            row=2, col=1\n",
    "        )\n",
    "\n",
    "        \n",
    "        fig.update_layout(\n",
    "            height=800,\n",
    "            showlegend=True,\n",
    "            title_text=\"Sales and Transaction Trends\",\n",
    "            title_x=0.5,\n",
    "            template='plotly_white'\n",
    "        )\n",
    "\n",
    "        return fig   #Copyright to Vastav Bishnoi\n",
    "\n",
    "\n",
    "    def plot_customer_segments(self):\n",
    "        \n",
    "        \n",
    "        current_date = self.transactions_df['TransactionDate'].max()\n",
    "        \n",
    "        rfm = self.transactions_df.groupby('CustomerID').agg({\n",
    "            'TransactionDate': lambda x: (current_date - x.max()).days,  # Recency\n",
    "            'TransactionID': 'count',  # Frequency\n",
    "            'TotalValue': 'sum'  # Monetary\n",
    "        }).reset_index()\n",
    "        \n",
    "        \n",
    "        rfm.columns = ['CustomerID', 'Recency', 'Frequency', 'Monetary']\n",
    "\n",
    "        \n",
    "        fig = px.scatter_3d(\n",
    "            rfm,\n",
    "            x='Recency',\n",
    "            y='Frequency',\n",
    "            z='Monetary',\n",
    "            color='Monetary',\n",
    "            size='Frequency',\n",
    "            opacity=0.7,\n",
    "            color_continuous_scale='Viridis'\n",
    "        )\n",
    "\n",
    "        \n",
    "        fig.update_layout(\n",
    "            title='Customer Segmentation (RFM Analysis)',\n",
    "            scene=dict(\n",
    "                xaxis_title='Recency (days)',\n",
    "                yaxis_title='Frequency (orders)',\n",
    "                zaxis_title='Monetary (total spend)'\n",
    "            ),\n",
    "            template='plotly_white',\n",
    "            height=800\n",
    "        )\n",
    "\n",
    "        return fig\n"
   ]
  },
  {
   "cell_type": "code",
   "execution_count": 82,
   "id": "ee3508af-3ee7-498d-8973-e75b198d2827",
   "metadata": {},
   "outputs": [],
   "source": [
    "customers_df = pd.read_csv('Customers.csv')\n",
    "products_df = pd.read_csv('Products.csv')\n",
    "transactions_df = pd.read_csv('Transactions.csv')\n",
    "\n",
    "visualizer = EcommerceVisualizer(customers_df, products_df, transactions_df)"
   ]
  },
  {
   "cell_type": "code",
   "execution_count": 84,
   "id": "68114b97-009f-4e26-9cf2-ee35cbd6b41c",
   "metadata": {},
   "outputs": [
    {
     "data": {
      "application/vnd.plotly.v1+json": {
       "config": {
        "plotlyServerURL": "https://plot.ly"
       },
       "data": [
        {
         "hovertemplate": "Recency=%{x}<br>Frequency=%{marker.size}<br>Monetary=%{marker.color}<extra></extra>",
         "legendgroup": "",
         "marker": {
          "color": [
           3354.5200000000004,
           1862.74,
           2725.38,
           5354.88,
           2034.24,
           4227.57,
           2579.8199999999997,
           4271.61,
           896.5,
           1717.5500000000002,
           3730,
           5231.259999999999,
           6000.56,
           318.66,
           1157.48,
           3874.42,
           4753.82,
           4781.85,
           2185.8199999999997,
           922.41,
           5419.92,
           4655.07,
           5158.65,
           3627.02,
           1589.81,
           3549.05,
           2562.94,
           6819.57,
           1785.8700000000001,
           2549.6800000000003,
           2005.38,
           673,
           132.64,
           3073.2000000000003,
           2587.61,
           1877.96,
           4252.77,
           2696.85,
           4239.6,
           3969.3999999999996,
           6149.78,
           2402.49,
           1131.3200000000002,
           3230.1099999999997,
           6021.8,
           5627.83,
           2870.54,
           3850.9399999999996,
           2315.48,
           3068.83,
           5699.57,
           2488.01,
           5316.46,
           8040.389999999999,
           2857.6800000000003,
           3182.94,
           4536.4,
           396.34,
           7073.28,
           82.36,
           2138.26,
           1639.54,
           1378.1699999999998,
           4039.77,
           7663.7,
           3799.2799999999997,
           4090.84,
           5950.42,
           2878.69,
           3125.49,
           1400.83,
           2999.59,
           2060.54,
           3055.2200000000003,
           5848.97,
           2333.06,
           837.3,
           995.52,
           4251.5599999999995,
           1007.52,
           3542.48,
           7572.91,
           642.8,
           4441.1,
           2598.33,
           2754.68,
           6604.23,
           2135.38,
           2556.2200000000003,
           4138.16,
           3137.66,
           3015.95,
           5294.99,
           1166.97,
           1284.27,
           6072.92,
           137.54,
           3158.02,
           6715.72,
           5003.45,
           5550.99,
           6132.360000000001,
           2462.5499999999997,
           6579.1,
           4807.45,
           2939.3,
           3623.92,
           4848.54,
           5487.25,
           942.32,
           1973.02,
           1959.51,
           4812.1,
           5780.43,
           3137.18,
           2758.6800000000003,
           4028.2700000000004,
           3434.77,
           1191.61,
           2470.02,
           974.52,
           5072.55,
           1400.06,
           4264.33,
           2973.96,
           4565.57,
           3232.88,
           773.19,
           2339.61,
           601.36,
           1943.82,
           1851.2599999999998,
           2884.33,
           2679.28,
           3135.58,
           4298.99,
           3332.55,
           5610.25,
           3703.64,
           1888.1399999999999,
           10673.869999999999,
           2239.04,
           6044.63,
           1304.6799999999998,
           5771.27,
           2570.8,
           2948.44,
           5457.79,
           4404.78,
           580.34,
           223.96,
           3385.8599999999997,
           4744.79,
           3703.61,
           5377.83,
           7634.45,
           1876.1,
           3716.52,
           2072.41,
           2926.93,
           3141.83,
           4802.24,
           5775.28,
           3087.69,
           6708.1,
           2405.3500000000004,
           2300.42,
           5053.83,
           4533.32,
           4931.74,
           5145.35,
           2201.7,
           5808.04,
           2891.95,
           6210.53,
           2331.32,
           2509.81,
           2708.83,
           3652.83,
           3347.6000000000004,
           4980.7699999999995,
           3850.2200000000003,
           3393.1800000000003,
           3424.3199999999997,
           1761.6399999999999,
           4612.44,
           7111.320000000001,
           2643.21,
           2983.02,
           2997.9700000000003,
           2072.7200000000003,
           3009.2900000000004,
           3869.17,
           4036.27,
           4982.88,
           1928.65,
           931.83,
           1979.28,
           4758.6
          ],
          "coloraxis": "coloraxis",
          "opacity": 0.7,
          "size": [
           5,
           4,
           4,
           8,
           3,
           4,
           3,
           10,
           3,
           4,
           5,
           7,
           7,
           1,
           2,
           5,
           8,
           5,
           6,
           1,
           8,
           6,
           6,
           7,
           4,
           4,
           4,
           8,
           4,
           5,
           4,
           3,
           1,
           6,
           4,
           3,
           5,
           5,
           6,
           3,
           7,
           3,
           3,
           3,
           7,
           7,
           7,
           5,
           8,
           3,
           7,
           4,
           6,
           8,
           5,
           5,
           6,
           1,
           8,
           1,
           3,
           3,
           2,
           5,
           10,
           3,
           6,
           8,
           5,
           4,
           3,
           5,
           3,
           3,
           9,
           5,
           3,
           1,
           4,
           1,
           6,
           7,
           3,
           9,
           3,
           5,
           7,
           5,
           2,
           7,
           6,
           4,
           9,
           4,
           2,
           5,
           1,
           8,
           8,
           6,
           8,
           8,
           5,
           8,
           6,
           5,
           5,
           7,
           11,
           1,
           5,
           3,
           8,
           5,
           3,
           6,
           4,
           6,
           5,
           3,
           4,
           7,
           2,
           7,
           4,
           6,
           6,
           2,
           3,
           1,
           3,
           3,
           4,
           5,
           4,
           6,
           5,
           5,
           8,
           2,
           10,
           4,
           7,
           2,
           8,
           4,
           9,
           5,
           5,
           1,
           1,
           5,
           6,
           6,
           7,
           11,
           5,
           4,
           3,
           5,
           8,
           8,
           6,
           5,
           9,
           4,
           3,
           4,
           6,
           5,
           5,
           6,
           8,
           5,
           10,
           3,
           4,
           4,
           6,
           6,
           5,
           5,
           7,
           3,
           3,
           5,
           8,
           5,
           5,
           5,
           4,
           4,
           7,
           6,
           4,
           3,
           2,
           4,
           5
          ],
          "sizemode": "area",
          "sizeref": 0.0275,
          "symbol": "circle"
         },
         "mode": "markers",
         "name": "",
         "scene": "scene",
         "showlegend": false,
         "type": "scatter3d",
         "x": [
          55,
          25,
          125,
          4,
          54,
          82,
          125,
          11,
          77,
          41,
          2,
          3,
          55,
          345,
          98,
          47,
          26,
          146,
          50,
          333,
          77,
          101,
          47,
          94,
          136,
          79,
          77,
          3,
          2,
          13,
          33,
          30,
          175,
          65,
          88,
          55,
          88,
          15,
          61,
          162,
          12,
          48,
          99,
          67,
          123,
          94,
          127,
          23,
          120,
          40,
          11,
          117,
          56,
          81,
          88,
          2,
          9,
          330,
          65,
          116,
          17,
          171,
          91,
          21,
          14,
          121,
          72,
          3,
          18,
          81,
          126,
          55,
          283,
          152,
          17,
          26,
          55,
          18,
          150,
          290,
          49,
          28,
          10,
          11,
          77,
          2,
          105,
          13,
          24,
          107,
          137,
          12,
          103,
          53,
          89,
          16,
          280,
          4,
          4,
          114,
          0,
          117,
          88,
          54,
          115,
          31,
          66,
          86,
          51,
          360,
          15,
          171,
          30,
          96,
          5,
          59,
          144,
          10,
          1,
          142,
          91,
          10,
          44,
          82,
          126,
          29,
          99,
          216,
          78,
          227,
          8,
          21,
          22,
          18,
          85,
          47,
          4,
          10,
          83,
          73,
          24,
          3,
          9,
          244,
          32,
          9,
          3,
          86,
          120,
          216,
          3,
          68,
          107,
          99,
          47,
          13,
          20,
          107,
          14,
          134,
          135,
          41,
          77,
          56,
          2,
          66,
          87,
          66,
          24,
          106,
          65,
          36,
          117,
          15,
          38,
          173,
          54,
          7,
          79,
          0,
          232,
          44,
          111,
          130,
          65,
          77,
          1,
          7,
          12,
          15,
          150,
          215,
          67,
          33,
          13,
          0,
          84,
          63,
          17
         ],
         "y": [
          5,
          4,
          4,
          8,
          3,
          4,
          3,
          10,
          3,
          4,
          5,
          7,
          7,
          1,
          2,
          5,
          8,
          5,
          6,
          1,
          8,
          6,
          6,
          7,
          4,
          4,
          4,
          8,
          4,
          5,
          4,
          3,
          1,
          6,
          4,
          3,
          5,
          5,
          6,
          3,
          7,
          3,
          3,
          3,
          7,
          7,
          7,
          5,
          8,
          3,
          7,
          4,
          6,
          8,
          5,
          5,
          6,
          1,
          8,
          1,
          3,
          3,
          2,
          5,
          10,
          3,
          6,
          8,
          5,
          4,
          3,
          5,
          3,
          3,
          9,
          5,
          3,
          1,
          4,
          1,
          6,
          7,
          3,
          9,
          3,
          5,
          7,
          5,
          2,
          7,
          6,
          4,
          9,
          4,
          2,
          5,
          1,
          8,
          8,
          6,
          8,
          8,
          5,
          8,
          6,
          5,
          5,
          7,
          11,
          1,
          5,
          3,
          8,
          5,
          3,
          6,
          4,
          6,
          5,
          3,
          4,
          7,
          2,
          7,
          4,
          6,
          6,
          2,
          3,
          1,
          3,
          3,
          4,
          5,
          4,
          6,
          5,
          5,
          8,
          2,
          10,
          4,
          7,
          2,
          8,
          4,
          9,
          5,
          5,
          1,
          1,
          5,
          6,
          6,
          7,
          11,
          5,
          4,
          3,
          5,
          8,
          8,
          6,
          5,
          9,
          4,
          3,
          4,
          6,
          5,
          5,
          6,
          8,
          5,
          10,
          3,
          4,
          4,
          6,
          6,
          5,
          5,
          7,
          3,
          3,
          5,
          8,
          5,
          5,
          5,
          4,
          4,
          7,
          6,
          4,
          3,
          2,
          4,
          5
         ],
         "z": [
          3354.5200000000004,
          1862.74,
          2725.38,
          5354.88,
          2034.24,
          4227.57,
          2579.8199999999997,
          4271.61,
          896.5,
          1717.5500000000002,
          3730,
          5231.259999999999,
          6000.56,
          318.66,
          1157.48,
          3874.42,
          4753.82,
          4781.85,
          2185.8199999999997,
          922.41,
          5419.92,
          4655.07,
          5158.65,
          3627.02,
          1589.81,
          3549.05,
          2562.94,
          6819.57,
          1785.8700000000001,
          2549.6800000000003,
          2005.38,
          673,
          132.64,
          3073.2000000000003,
          2587.61,
          1877.96,
          4252.77,
          2696.85,
          4239.6,
          3969.3999999999996,
          6149.78,
          2402.49,
          1131.3200000000002,
          3230.1099999999997,
          6021.8,
          5627.83,
          2870.54,
          3850.9399999999996,
          2315.48,
          3068.83,
          5699.57,
          2488.01,
          5316.46,
          8040.389999999999,
          2857.6800000000003,
          3182.94,
          4536.4,
          396.34,
          7073.28,
          82.36,
          2138.26,
          1639.54,
          1378.1699999999998,
          4039.77,
          7663.7,
          3799.2799999999997,
          4090.84,
          5950.42,
          2878.69,
          3125.49,
          1400.83,
          2999.59,
          2060.54,
          3055.2200000000003,
          5848.97,
          2333.06,
          837.3,
          995.52,
          4251.5599999999995,
          1007.52,
          3542.48,
          7572.91,
          642.8,
          4441.1,
          2598.33,
          2754.68,
          6604.23,
          2135.38,
          2556.2200000000003,
          4138.16,
          3137.66,
          3015.95,
          5294.99,
          1166.97,
          1284.27,
          6072.92,
          137.54,
          3158.02,
          6715.72,
          5003.45,
          5550.99,
          6132.360000000001,
          2462.5499999999997,
          6579.1,
          4807.45,
          2939.3,
          3623.92,
          4848.54,
          5487.25,
          942.32,
          1973.02,
          1959.51,
          4812.1,
          5780.43,
          3137.18,
          2758.6800000000003,
          4028.2700000000004,
          3434.77,
          1191.61,
          2470.02,
          974.52,
          5072.55,
          1400.06,
          4264.33,
          2973.96,
          4565.57,
          3232.88,
          773.19,
          2339.61,
          601.36,
          1943.82,
          1851.2599999999998,
          2884.33,
          2679.28,
          3135.58,
          4298.99,
          3332.55,
          5610.25,
          3703.64,
          1888.1399999999999,
          10673.869999999999,
          2239.04,
          6044.63,
          1304.6799999999998,
          5771.27,
          2570.8,
          2948.44,
          5457.79,
          4404.78,
          580.34,
          223.96,
          3385.8599999999997,
          4744.79,
          3703.61,
          5377.83,
          7634.45,
          1876.1,
          3716.52,
          2072.41,
          2926.93,
          3141.83,
          4802.24,
          5775.28,
          3087.69,
          6708.1,
          2405.3500000000004,
          2300.42,
          5053.83,
          4533.32,
          4931.74,
          5145.35,
          2201.7,
          5808.04,
          2891.95,
          6210.53,
          2331.32,
          2509.81,
          2708.83,
          3652.83,
          3347.6000000000004,
          4980.7699999999995,
          3850.2200000000003,
          3393.1800000000003,
          3424.3199999999997,
          1761.6399999999999,
          4612.44,
          7111.320000000001,
          2643.21,
          2983.02,
          2997.9700000000003,
          2072.7200000000003,
          3009.2900000000004,
          3869.17,
          4036.27,
          4982.88,
          1928.65,
          931.83,
          1979.28,
          4758.6
         ]
        }
       ],
       "layout": {
        "autosize": true,
        "coloraxis": {
         "colorbar": {
          "title": {
           "text": "Monetary"
          }
         },
         "colorscale": [
          [
           0,
           "#440154"
          ],
          [
           0.1111111111111111,
           "#482878"
          ],
          [
           0.2222222222222222,
           "#3e4989"
          ],
          [
           0.3333333333333333,
           "#31688e"
          ],
          [
           0.4444444444444444,
           "#26828e"
          ],
          [
           0.5555555555555556,
           "#1f9e89"
          ],
          [
           0.6666666666666666,
           "#35b779"
          ],
          [
           0.7777777777777778,
           "#6ece58"
          ],
          [
           0.8888888888888888,
           "#b5de2b"
          ],
          [
           1,
           "#fde725"
          ]
         ]
        },
        "legend": {
         "itemsizing": "constant",
         "tracegroupgap": 0
        },
        "margin": {
         "t": 60
        },
        "scene": {
         "aspectmode": "auto",
         "aspectratio": {
          "x": 1,
          "y": 1,
          "z": 1
         },
         "camera": {
          "center": {
           "x": 0,
           "y": 0,
           "z": 0
          },
          "eye": {
           "x": 1.60872277724448,
           "y": 1.6087227772444812,
           "z": 1.6087227772444797
          },
          "projection": {
           "type": "perspective"
          },
          "up": {
           "x": 0,
           "y": 0,
           "z": 1
          }
         },
         "domain": {
          "x": [
           0,
           1
          ],
          "y": [
           0,
           1
          ]
         },
         "xaxis": {
          "title": {
           "text": "Recency (days)"
          },
          "type": "linear"
         },
         "yaxis": {
          "title": {
           "text": "Frequency (orders)"
          },
          "type": "linear"
         },
         "zaxis": {
          "title": {
           "text": "Monetary (total spend)"
          },
          "type": "linear"
         }
        },
        "template": {
         "data": {
          "bar": [
           {
            "error_x": {
             "color": "#2a3f5f"
            },
            "error_y": {
             "color": "#2a3f5f"
            },
            "marker": {
             "line": {
              "color": "white",
              "width": 0.5
             },
             "pattern": {
              "fillmode": "overlay",
              "size": 10,
              "solidity": 0.2
             }
            },
            "type": "bar"
           }
          ],
          "barpolar": [
           {
            "marker": {
             "line": {
              "color": "white",
              "width": 0.5
             },
             "pattern": {
              "fillmode": "overlay",
              "size": 10,
              "solidity": 0.2
             }
            },
            "type": "barpolar"
           }
          ],
          "carpet": [
           {
            "aaxis": {
             "endlinecolor": "#2a3f5f",
             "gridcolor": "#C8D4E3",
             "linecolor": "#C8D4E3",
             "minorgridcolor": "#C8D4E3",
             "startlinecolor": "#2a3f5f"
            },
            "baxis": {
             "endlinecolor": "#2a3f5f",
             "gridcolor": "#C8D4E3",
             "linecolor": "#C8D4E3",
             "minorgridcolor": "#C8D4E3",
             "startlinecolor": "#2a3f5f"
            },
            "type": "carpet"
           }
          ],
          "choropleth": [
           {
            "colorbar": {
             "outlinewidth": 0,
             "ticks": ""
            },
            "type": "choropleth"
           }
          ],
          "contour": [
           {
            "colorbar": {
             "outlinewidth": 0,
             "ticks": ""
            },
            "colorscale": [
             [
              0,
              "#0d0887"
             ],
             [
              0.1111111111111111,
              "#46039f"
             ],
             [
              0.2222222222222222,
              "#7201a8"
             ],
             [
              0.3333333333333333,
              "#9c179e"
             ],
             [
              0.4444444444444444,
              "#bd3786"
             ],
             [
              0.5555555555555556,
              "#d8576b"
             ],
             [
              0.6666666666666666,
              "#ed7953"
             ],
             [
              0.7777777777777778,
              "#fb9f3a"
             ],
             [
              0.8888888888888888,
              "#fdca26"
             ],
             [
              1,
              "#f0f921"
             ]
            ],
            "type": "contour"
           }
          ],
          "contourcarpet": [
           {
            "colorbar": {
             "outlinewidth": 0,
             "ticks": ""
            },
            "type": "contourcarpet"
           }
          ],
          "heatmap": [
           {
            "colorbar": {
             "outlinewidth": 0,
             "ticks": ""
            },
            "colorscale": [
             [
              0,
              "#0d0887"
             ],
             [
              0.1111111111111111,
              "#46039f"
             ],
             [
              0.2222222222222222,
              "#7201a8"
             ],
             [
              0.3333333333333333,
              "#9c179e"
             ],
             [
              0.4444444444444444,
              "#bd3786"
             ],
             [
              0.5555555555555556,
              "#d8576b"
             ],
             [
              0.6666666666666666,
              "#ed7953"
             ],
             [
              0.7777777777777778,
              "#fb9f3a"
             ],
             [
              0.8888888888888888,
              "#fdca26"
             ],
             [
              1,
              "#f0f921"
             ]
            ],
            "type": "heatmap"
           }
          ],
          "heatmapgl": [
           {
            "colorbar": {
             "outlinewidth": 0,
             "ticks": ""
            },
            "colorscale": [
             [
              0,
              "#0d0887"
             ],
             [
              0.1111111111111111,
              "#46039f"
             ],
             [
              0.2222222222222222,
              "#7201a8"
             ],
             [
              0.3333333333333333,
              "#9c179e"
             ],
             [
              0.4444444444444444,
              "#bd3786"
             ],
             [
              0.5555555555555556,
              "#d8576b"
             ],
             [
              0.6666666666666666,
              "#ed7953"
             ],
             [
              0.7777777777777778,
              "#fb9f3a"
             ],
             [
              0.8888888888888888,
              "#fdca26"
             ],
             [
              1,
              "#f0f921"
             ]
            ],
            "type": "heatmapgl"
           }
          ],
          "histogram": [
           {
            "marker": {
             "pattern": {
              "fillmode": "overlay",
              "size": 10,
              "solidity": 0.2
             }
            },
            "type": "histogram"
           }
          ],
          "histogram2d": [
           {
            "colorbar": {
             "outlinewidth": 0,
             "ticks": ""
            },
            "colorscale": [
             [
              0,
              "#0d0887"
             ],
             [
              0.1111111111111111,
              "#46039f"
             ],
             [
              0.2222222222222222,
              "#7201a8"
             ],
             [
              0.3333333333333333,
              "#9c179e"
             ],
             [
              0.4444444444444444,
              "#bd3786"
             ],
             [
              0.5555555555555556,
              "#d8576b"
             ],
             [
              0.6666666666666666,
              "#ed7953"
             ],
             [
              0.7777777777777778,
              "#fb9f3a"
             ],
             [
              0.8888888888888888,
              "#fdca26"
             ],
             [
              1,
              "#f0f921"
             ]
            ],
            "type": "histogram2d"
           }
          ],
          "histogram2dcontour": [
           {
            "colorbar": {
             "outlinewidth": 0,
             "ticks": ""
            },
            "colorscale": [
             [
              0,
              "#0d0887"
             ],
             [
              0.1111111111111111,
              "#46039f"
             ],
             [
              0.2222222222222222,
              "#7201a8"
             ],
             [
              0.3333333333333333,
              "#9c179e"
             ],
             [
              0.4444444444444444,
              "#bd3786"
             ],
             [
              0.5555555555555556,
              "#d8576b"
             ],
             [
              0.6666666666666666,
              "#ed7953"
             ],
             [
              0.7777777777777778,
              "#fb9f3a"
             ],
             [
              0.8888888888888888,
              "#fdca26"
             ],
             [
              1,
              "#f0f921"
             ]
            ],
            "type": "histogram2dcontour"
           }
          ],
          "mesh3d": [
           {
            "colorbar": {
             "outlinewidth": 0,
             "ticks": ""
            },
            "type": "mesh3d"
           }
          ],
          "parcoords": [
           {
            "line": {
             "colorbar": {
              "outlinewidth": 0,
              "ticks": ""
             }
            },
            "type": "parcoords"
           }
          ],
          "pie": [
           {
            "automargin": true,
            "type": "pie"
           }
          ],
          "scatter": [
           {
            "fillpattern": {
             "fillmode": "overlay",
             "size": 10,
             "solidity": 0.2
            },
            "type": "scatter"
           }
          ],
          "scatter3d": [
           {
            "line": {
             "colorbar": {
              "outlinewidth": 0,
              "ticks": ""
             }
            },
            "marker": {
             "colorbar": {
              "outlinewidth": 0,
              "ticks": ""
             }
            },
            "type": "scatter3d"
           }
          ],
          "scattercarpet": [
           {
            "marker": {
             "colorbar": {
              "outlinewidth": 0,
              "ticks": ""
             }
            },
            "type": "scattercarpet"
           }
          ],
          "scattergeo": [
           {
            "marker": {
             "colorbar": {
              "outlinewidth": 0,
              "ticks": ""
             }
            },
            "type": "scattergeo"
           }
          ],
          "scattergl": [
           {
            "marker": {
             "colorbar": {
              "outlinewidth": 0,
              "ticks": ""
             }
            },
            "type": "scattergl"
           }
          ],
          "scattermapbox": [
           {
            "marker": {
             "colorbar": {
              "outlinewidth": 0,
              "ticks": ""
             }
            },
            "type": "scattermapbox"
           }
          ],
          "scatterpolar": [
           {
            "marker": {
             "colorbar": {
              "outlinewidth": 0,
              "ticks": ""
             }
            },
            "type": "scatterpolar"
           }
          ],
          "scatterpolargl": [
           {
            "marker": {
             "colorbar": {
              "outlinewidth": 0,
              "ticks": ""
             }
            },
            "type": "scatterpolargl"
           }
          ],
          "scatterternary": [
           {
            "marker": {
             "colorbar": {
              "outlinewidth": 0,
              "ticks": ""
             }
            },
            "type": "scatterternary"
           }
          ],
          "surface": [
           {
            "colorbar": {
             "outlinewidth": 0,
             "ticks": ""
            },
            "colorscale": [
             [
              0,
              "#0d0887"
             ],
             [
              0.1111111111111111,
              "#46039f"
             ],
             [
              0.2222222222222222,
              "#7201a8"
             ],
             [
              0.3333333333333333,
              "#9c179e"
             ],
             [
              0.4444444444444444,
              "#bd3786"
             ],
             [
              0.5555555555555556,
              "#d8576b"
             ],
             [
              0.6666666666666666,
              "#ed7953"
             ],
             [
              0.7777777777777778,
              "#fb9f3a"
             ],
             [
              0.8888888888888888,
              "#fdca26"
             ],
             [
              1,
              "#f0f921"
             ]
            ],
            "type": "surface"
           }
          ],
          "table": [
           {
            "cells": {
             "fill": {
              "color": "#EBF0F8"
             },
             "line": {
              "color": "white"
             }
            },
            "header": {
             "fill": {
              "color": "#C8D4E3"
             },
             "line": {
              "color": "white"
             }
            },
            "type": "table"
           }
          ]
         },
         "layout": {
          "annotationdefaults": {
           "arrowcolor": "#2a3f5f",
           "arrowhead": 0,
           "arrowwidth": 1
          },
          "autotypenumbers": "strict",
          "coloraxis": {
           "colorbar": {
            "outlinewidth": 0,
            "ticks": ""
           }
          },
          "colorscale": {
           "diverging": [
            [
             0,
             "#8e0152"
            ],
            [
             0.1,
             "#c51b7d"
            ],
            [
             0.2,
             "#de77ae"
            ],
            [
             0.3,
             "#f1b6da"
            ],
            [
             0.4,
             "#fde0ef"
            ],
            [
             0.5,
             "#f7f7f7"
            ],
            [
             0.6,
             "#e6f5d0"
            ],
            [
             0.7,
             "#b8e186"
            ],
            [
             0.8,
             "#7fbc41"
            ],
            [
             0.9,
             "#4d9221"
            ],
            [
             1,
             "#276419"
            ]
           ],
           "sequential": [
            [
             0,
             "#0d0887"
            ],
            [
             0.1111111111111111,
             "#46039f"
            ],
            [
             0.2222222222222222,
             "#7201a8"
            ],
            [
             0.3333333333333333,
             "#9c179e"
            ],
            [
             0.4444444444444444,
             "#bd3786"
            ],
            [
             0.5555555555555556,
             "#d8576b"
            ],
            [
             0.6666666666666666,
             "#ed7953"
            ],
            [
             0.7777777777777778,
             "#fb9f3a"
            ],
            [
             0.8888888888888888,
             "#fdca26"
            ],
            [
             1,
             "#f0f921"
            ]
           ],
           "sequentialminus": [
            [
             0,
             "#0d0887"
            ],
            [
             0.1111111111111111,
             "#46039f"
            ],
            [
             0.2222222222222222,
             "#7201a8"
            ],
            [
             0.3333333333333333,
             "#9c179e"
            ],
            [
             0.4444444444444444,
             "#bd3786"
            ],
            [
             0.5555555555555556,
             "#d8576b"
            ],
            [
             0.6666666666666666,
             "#ed7953"
            ],
            [
             0.7777777777777778,
             "#fb9f3a"
            ],
            [
             0.8888888888888888,
             "#fdca26"
            ],
            [
             1,
             "#f0f921"
            ]
           ]
          },
          "colorway": [
           "#636efa",
           "#EF553B",
           "#00cc96",
           "#ab63fa",
           "#FFA15A",
           "#19d3f3",
           "#FF6692",
           "#B6E880",
           "#FF97FF",
           "#FECB52"
          ],
          "font": {
           "color": "#2a3f5f"
          },
          "geo": {
           "bgcolor": "white",
           "lakecolor": "white",
           "landcolor": "white",
           "showlakes": true,
           "showland": true,
           "subunitcolor": "#C8D4E3"
          },
          "hoverlabel": {
           "align": "left"
          },
          "hovermode": "closest",
          "mapbox": {
           "style": "light"
          },
          "paper_bgcolor": "white",
          "plot_bgcolor": "white",
          "polar": {
           "angularaxis": {
            "gridcolor": "#EBF0F8",
            "linecolor": "#EBF0F8",
            "ticks": ""
           },
           "bgcolor": "white",
           "radialaxis": {
            "gridcolor": "#EBF0F8",
            "linecolor": "#EBF0F8",
            "ticks": ""
           }
          },
          "scene": {
           "xaxis": {
            "backgroundcolor": "white",
            "gridcolor": "#DFE8F3",
            "gridwidth": 2,
            "linecolor": "#EBF0F8",
            "showbackground": true,
            "ticks": "",
            "zerolinecolor": "#EBF0F8"
           },
           "yaxis": {
            "backgroundcolor": "white",
            "gridcolor": "#DFE8F3",
            "gridwidth": 2,
            "linecolor": "#EBF0F8",
            "showbackground": true,
            "ticks": "",
            "zerolinecolor": "#EBF0F8"
           },
           "zaxis": {
            "backgroundcolor": "white",
            "gridcolor": "#DFE8F3",
            "gridwidth": 2,
            "linecolor": "#EBF0F8",
            "showbackground": true,
            "ticks": "",
            "zerolinecolor": "#EBF0F8"
           }
          },
          "shapedefaults": {
           "line": {
            "color": "#2a3f5f"
           }
          },
          "ternary": {
           "aaxis": {
            "gridcolor": "#DFE8F3",
            "linecolor": "#A2B1C6",
            "ticks": ""
           },
           "baxis": {
            "gridcolor": "#DFE8F3",
            "linecolor": "#A2B1C6",
            "ticks": ""
           },
           "bgcolor": "white",
           "caxis": {
            "gridcolor": "#DFE8F3",
            "linecolor": "#A2B1C6",
            "ticks": ""
           }
          },
          "title": {
           "x": 0.05
          },
          "xaxis": {
           "automargin": true,
           "gridcolor": "#EBF0F8",
           "linecolor": "#EBF0F8",
           "ticks": "",
           "title": {
            "standoff": 15
           },
           "zerolinecolor": "#EBF0F8",
           "zerolinewidth": 2
          },
          "yaxis": {
           "automargin": true,
           "gridcolor": "#EBF0F8",
           "linecolor": "#EBF0F8",
           "ticks": "",
           "title": {
            "standoff": 15
           },
           "zerolinecolor": "#EBF0F8",
           "zerolinewidth": 2
          }
         }
        },
        "title": {
         "text": "Customer Segmentation (RFM Analysis)"
        }
       }
      },
      "image/png": "[encoded data removed]",
      "text/html": [
       "<div>                            <div id=\"65893bc5-6b76-4f21-989f-ab701a67c7bf\" class=\"plotly-graph-div\" style=\"height:800px; width:100%;\"></div>            <script type=\"text/javascript\">                require([\"plotly\"], function(Plotly) {                    window.PLOTLYENV=window.PLOTLYENV || {};                                    if (document.getElementById(\"65893bc5-6b76-4f21-989f-ab701a67c7bf\")) {                    Plotly.newPlot(                        \"65893bc5-6b76-4f21-989f-ab701a67c7bf\",                        [{\"hovertemplate\":\"Recency=%{x}\\u003cbr\\u003eFrequency=%{marker.size}\\u003cbr\\u003eMonetary=%{marker.color}\\u003cextra\\u003e\\u003c\\u002fextra\\u003e\",\"legendgroup\":\"\",\"marker\":{\"color\":[3354.5200000000004,1862.74,2725.38,5354.88,2034.24,4227.57,2579.8199999999997,4271.61,896.5,1717.5500000000002,3730.0,5231.259999999999,6000.56,318.66,1157.48,3874.42,4753.82,4781.85,2185.8199999999997,922.41,5419.92,4655.07,5158.65,3627.02,1589.81,3549.05,2562.94,6819.57,1785.8700000000001,2549.6800000000003,2005.38,673.0,132.64,3073.2000000000003,2587.61,1877.96,4252.77,2696.85,4239.6,3969.3999999999996,6149.78,2402.49,1131.3200000000002,3230.1099999999997,6021.8,5627.83,2870.54,3850.9399999999996,2315.48,3068.83,5699.57,2488.01,5316.46,8040.389999999999,2857.6800000000003,3182.94,4536.4,396.34,7073.28,82.36,2138.26,1639.54,1378.1699999999998,4039.77,7663.7,3799.2799999999997,4090.84,5950.42,2878.69,3125.49,1400.83,2999.59,2060.54,3055.2200000000003,5848.97,2333.06,837.3,995.52,4251.5599999999995,1007.52,3542.48,7572.91,642.8,4441.1,2598.33,2754.68,6604.23,2135.38,2556.2200000000003,4138.16,3137.66,3015.95,5294.99,1166.97,1284.27,6072.92,137.54,3158.02,6715.72,5003.45,5550.99,6132.360000000001,2462.5499999999997,6579.1,4807.45,2939.3,3623.92,4848.54,5487.25,942.32,1973.02,1959.51,4812.1,5780.43,3137.18,2758.6800000000003,4028.2700000000004,3434.77,1191.61,2470.02,974.52,5072.55,1400.06,4264.33,2973.96,4565.57,3232.88,773.19,2339.61,601.36,1943.82,1851.2599999999998,2884.33,2679.28,3135.58,4298.99,3332.55,5610.25,3703.64,1888.1399999999999,10673.869999999999,2239.04,6044.63,1304.6799999999998,5771.27,2570.8,2948.44,5457.79,4404.78,580.34,223.96,3385.8599999999997,4744.79,3703.61,5377.83,7634.45,1876.1,3716.52,2072.41,2926.93,3141.83,4802.24,5775.28,3087.69,6708.1,2405.3500000000004,2300.42,5053.83,4533.32,4931.74,5145.35,2201.7,5808.04,2891.95,6210.53,2331.32,2509.81,2708.83,3652.83,3347.6000000000004,4980.7699999999995,3850.2200000000003,3393.1800000000003,3424.3199999999997,1761.6399999999999,4612.44,7111.320000000001,2643.21,2983.02,2997.9700000000003,2072.7200000000003,3009.2900000000004,3869.17,4036.27,4982.88,1928.65,931.83,1979.28,4758.6],\"coloraxis\":\"coloraxis\",\"opacity\":0.7,\"size\":[5,4,4,8,3,4,3,10,3,4,5,7,7,1,2,5,8,5,6,1,8,6,6,7,4,4,4,8,4,5,4,3,1,6,4,3,5,5,6,3,7,3,3,3,7,7,7,5,8,3,7,4,6,8,5,5,6,1,8,1,3,3,2,5,10,3,6,8,5,4,3,5,3,3,9,5,3,1,4,1,6,7,3,9,3,5,7,5,2,7,6,4,9,4,2,5,1,8,8,6,8,8,5,8,6,5,5,7,11,1,5,3,8,5,3,6,4,6,5,3,4,7,2,7,4,6,6,2,3,1,3,3,4,5,4,6,5,5,8,2,10,4,7,2,8,4,9,5,5,1,1,5,6,6,7,11,5,4,3,5,8,8,6,5,9,4,3,4,6,5,5,6,8,5,10,3,4,4,6,6,5,5,7,3,3,5,8,5,5,5,4,4,7,6,4,3,2,4,5],\"sizemode\":\"area\",\"sizeref\":0.0275,\"symbol\":\"circle\"},\"mode\":\"markers\",\"name\":\"\",\"scene\":\"scene\",\"showlegend\":false,\"x\":[55,25,125,4,54,82,125,11,77,41,2,3,55,345,98,47,26,146,50,333,77,101,47,94,136,79,77,3,2,13,33,30,175,65,88,55,88,15,61,162,12,48,99,67,123,94,127,23,120,40,11,117,56,81,88,2,9,330,65,116,17,171,91,21,14,121,72,3,18,81,126,55,283,152,17,26,55,18,150,290,49,28,10,11,77,2,105,13,24,107,137,12,103,53,89,16,280,4,4,114,0,117,88,54,115,31,66,86,51,360,15,171,30,96,5,59,144,10,1,142,91,10,44,82,126,29,99,216,78,227,8,21,22,18,85,47,4,10,83,73,24,3,9,244,32,9,3,86,120,216,3,68,107,99,47,13,20,107,14,134,135,41,77,56,2,66,87,66,24,106,65,36,117,15,38,173,54,7,79,0,232,44,111,130,65,77,1,7,12,15,150,215,67,33,13,0,84,63,17],\"y\":[5,4,4,8,3,4,3,10,3,4,5,7,7,1,2,5,8,5,6,1,8,6,6,7,4,4,4,8,4,5,4,3,1,6,4,3,5,5,6,3,7,3,3,3,7,7,7,5,8,3,7,4,6,8,5,5,6,1,8,1,3,3,2,5,10,3,6,8,5,4,3,5,3,3,9,5,3,1,4,1,6,7,3,9,3,5,7,5,2,7,6,4,9,4,2,5,1,8,8,6,8,8,5,8,6,5,5,7,11,1,5,3,8,5,3,6,4,6,5,3,4,7,2,7,4,6,6,2,3,1,3,3,4,5,4,6,5,5,8,2,10,4,7,2,8,4,9,5,5,1,1,5,6,6,7,11,5,4,3,5,8,8,6,5,9,4,3,4,6,5,5,6,8,5,10,3,4,4,6,6,5,5,7,3,3,5,8,5,5,5,4,4,7,6,4,3,2,4,5],\"z\":[3354.5200000000004,1862.74,2725.38,5354.88,2034.24,4227.57,2579.8199999999997,4271.61,896.5,1717.5500000000002,3730.0,5231.259999999999,6000.56,318.66,1157.48,3874.42,4753.82,4781.85,2185.8199999999997,922.41,5419.92,4655.07,5158.65,3627.02,1589.81,3549.05,2562.94,6819.57,1785.8700000000001,2549.6800000000003,2005.38,673.0,132.64,3073.2000000000003,2587.61,1877.96,4252.77,2696.85,4239.6,3969.3999999999996,6149.78,2402.49,1131.3200000000002,3230.1099999999997,6021.8,5627.83,2870.54,3850.9399999999996,2315.48,3068.83,5699.57,2488.01,5316.46,8040.389999999999,2857.6800000000003,3182.94,4536.4,396.34,7073.28,82.36,2138.26,1639.54,1378.1699999999998,4039.77,7663.7,3799.2799999999997,4090.84,5950.42,2878.69,3125.49,1400.83,2999.59,2060.54,3055.2200000000003,5848.97,2333.06,837.3,995.52,4251.5599999999995,1007.52,3542.48,7572.91,642.8,4441.1,2598.33,2754.68,6604.23,2135.38,2556.2200000000003,4138.16,3137.66,3015.95,5294.99,1166.97,1284.27,6072.92,137.54,3158.02,6715.72,5003.45,5550.99,6132.360000000001,2462.5499999999997,6579.1,4807.45,2939.3,3623.92,4848.54,5487.25,942.32,1973.02,1959.51,4812.1,5780.43,3137.18,2758.6800000000003,4028.2700000000004,3434.77,1191.61,2470.02,974.52,5072.55,1400.06,4264.33,2973.96,4565.57,3232.88,773.19,2339.61,601.36,1943.82,1851.2599999999998,2884.33,2679.28,3135.58,4298.99,3332.55,5610.25,3703.64,1888.1399999999999,10673.869999999999,2239.04,6044.63,1304.6799999999998,5771.27,2570.8,2948.44,5457.79,4404.78,580.34,223.96,3385.8599999999997,4744.79,3703.61,5377.83,7634.45,1876.1,3716.52,2072.41,2926.93,3141.83,4802.24,5775.28,3087.69,6708.1,2405.3500000000004,2300.42,5053.83,4533.32,4931.74,5145.35,2201.7,5808.04,2891.95,6210.53,2331.32,2509.81,2708.83,3652.83,3347.6000000000004,4980.7699999999995,3850.2200000000003,3393.1800000000003,3424.3199999999997,1761.6399999999999,4612.44,7111.320000000001,2643.21,2983.02,2997.9700000000003,2072.7200000000003,3009.2900000000004,3869.17,4036.27,4982.88,1928.65,931.83,1979.28,4758.6],\"type\":\"scatter3d\"}],                        {\"template\":{\"data\":{\"barpolar\":[{\"marker\":{\"line\":{\"color\":\"white\",\"width\":0.5},\"pattern\":{\"fillmode\":\"overlay\",\"size\":10,\"solidity\":0.2}},\"type\":\"barpolar\"}],\"bar\":[{\"error_x\":{\"color\":\"#2a3f5f\"},\"error_y\":{\"color\":\"#2a3f5f\"},\"marker\":{\"line\":{\"color\":\"white\",\"width\":0.5},\"pattern\":{\"fillmode\":\"overlay\",\"size\":10,\"solidity\":0.2}},\"type\":\"bar\"}],\"carpet\":[{\"aaxis\":{\"endlinecolor\":\"#2a3f5f\",\"gridcolor\":\"#C8D4E3\",\"linecolor\":\"#C8D4E3\",\"minorgridcolor\":\"#C8D4E3\",\"startlinecolor\":\"#2a3f5f\"},\"baxis\":{\"endlinecolor\":\"#2a3f5f\",\"gridcolor\":\"#C8D4E3\",\"linecolor\":\"#C8D4E3\",\"minorgridcolor\":\"#C8D4E3\",\"startlinecolor\":\"#2a3f5f\"},\"type\":\"carpet\"}],\"choropleth\":[{\"colorbar\":{\"outlinewidth\":0,\"ticks\":\"\"},\"type\":\"choropleth\"}],\"contourcarpet\":[{\"colorbar\":{\"outlinewidth\":0,\"ticks\":\"\"},\"type\":\"contourcarpet\"}],\"contour\":[{\"colorbar\":{\"outlinewidth\":0,\"ticks\":\"\"},\"colorscale\":[[0.0,\"#0d0887\"],[0.1111111111111111,\"#46039f\"],[0.2222222222222222,\"#7201a8\"],[0.3333333333333333,\"#9c179e\"],[0.4444444444444444,\"#bd3786\"],[0.5555555555555556,\"#d8576b\"],[0.6666666666666666,\"#ed7953\"],[0.7777777777777778,\"#fb9f3a\"],[0.8888888888888888,\"#fdca26\"],[1.0,\"#f0f921\"]],\"type\":\"contour\"}],\"heatmapgl\":[{\"colorbar\":{\"outlinewidth\":0,\"ticks\":\"\"},\"colorscale\":[[0.0,\"#0d0887\"],[0.1111111111111111,\"#46039f\"],[0.2222222222222222,\"#7201a8\"],[0.3333333333333333,\"#9c179e\"],[0.4444444444444444,\"#bd3786\"],[0.5555555555555556,\"#d8576b\"],[0.6666666666666666,\"#ed7953\"],[0.7777777777777778,\"#fb9f3a\"],[0.8888888888888888,\"#fdca26\"],[1.0,\"#f0f921\"]],\"type\":\"heatmapgl\"}],\"heatmap\":[{\"colorbar\":{\"outlinewidth\":0,\"ticks\":\"\"},\"colorscale\":[[0.0,\"#0d0887\"],[0.1111111111111111,\"#46039f\"],[0.2222222222222222,\"#7201a8\"],[0.3333333333333333,\"#9c179e\"],[0.4444444444444444,\"#bd3786\"],[0.5555555555555556,\"#d8576b\"],[0.6666666666666666,\"#ed7953\"],[0.7777777777777778,\"#fb9f3a\"],[0.8888888888888888,\"#fdca26\"],[1.0,\"#f0f921\"]],\"type\":\"heatmap\"}],\"histogram2dcontour\":[{\"colorbar\":{\"outlinewidth\":0,\"ticks\":\"\"},\"colorscale\":[[0.0,\"#0d0887\"],[0.1111111111111111,\"#46039f\"],[0.2222222222222222,\"#7201a8\"],[0.3333333333333333,\"#9c179e\"],[0.4444444444444444,\"#bd3786\"],[0.5555555555555556,\"#d8576b\"],[0.6666666666666666,\"#ed7953\"],[0.7777777777777778,\"#fb9f3a\"],[0.8888888888888888,\"#fdca26\"],[1.0,\"#f0f921\"]],\"type\":\"histogram2dcontour\"}],\"histogram2d\":[{\"colorbar\":{\"outlinewidth\":0,\"ticks\":\"\"},\"colorscale\":[[0.0,\"#0d0887\"],[0.1111111111111111,\"#46039f\"],[0.2222222222222222,\"#7201a8\"],[0.3333333333333333,\"#9c179e\"],[0.4444444444444444,\"#bd3786\"],[0.5555555555555556,\"#d8576b\"],[0.6666666666666666,\"#ed7953\"],[0.7777777777777778,\"#fb9f3a\"],[0.8888888888888888,\"#fdca26\"],[1.0,\"#f0f921\"]],\"type\":\"histogram2d\"}],\"histogram\":[{\"marker\":{\"pattern\":{\"fillmode\":\"overlay\",\"size\":10,\"solidity\":0.2}},\"type\":\"histogram\"}],\"mesh3d\":[{\"colorbar\":{\"outlinewidth\":0,\"ticks\":\"\"},\"type\":\"mesh3d\"}],\"parcoords\":[{\"line\":{\"colorbar\":{\"outlinewidth\":0,\"ticks\":\"\"}},\"type\":\"parcoords\"}],\"pie\":[{\"automargin\":true,\"type\":\"pie\"}],\"scatter3d\":[{\"line\":{\"colorbar\":{\"outlinewidth\":0,\"ticks\":\"\"}},\"marker\":{\"colorbar\":{\"outlinewidth\":0,\"ticks\":\"\"}},\"type\":\"scatter3d\"}],\"scattercarpet\":[{\"marker\":{\"colorbar\":{\"outlinewidth\":0,\"ticks\":\"\"}},\"type\":\"scattercarpet\"}],\"scattergeo\":[{\"marker\":{\"colorbar\":{\"outlinewidth\":0,\"ticks\":\"\"}},\"type\":\"scattergeo\"}],\"scattergl\":[{\"marker\":{\"colorbar\":{\"outlinewidth\":0,\"ticks\":\"\"}},\"type\":\"scattergl\"}],\"scattermapbox\":[{\"marker\":{\"colorbar\":{\"outlinewidth\":0,\"ticks\":\"\"}},\"type\":\"scattermapbox\"}],\"scatterpolargl\":[{\"marker\":{\"colorbar\":{\"outlinewidth\":0,\"ticks\":\"\"}},\"type\":\"scatterpolargl\"}],\"scatterpolar\":[{\"marker\":{\"colorbar\":{\"outlinewidth\":0,\"ticks\":\"\"}},\"type\":\"scatterpolar\"}],\"scatter\":[{\"fillpattern\":{\"fillmode\":\"overlay\",\"size\":10,\"solidity\":0.2},\"type\":\"scatter\"}],\"scatterternary\":[{\"marker\":{\"colorbar\":{\"outlinewidth\":0,\"ticks\":\"\"}},\"type\":\"scatterternary\"}],\"surface\":[{\"colorbar\":{\"outlinewidth\":0,\"ticks\":\"\"},\"colorscale\":[[0.0,\"#0d0887\"],[0.1111111111111111,\"#46039f\"],[0.2222222222222222,\"#7201a8\"],[0.3333333333333333,\"#9c179e\"],[0.4444444444444444,\"#bd3786\"],[0.5555555555555556,\"#d8576b\"],[0.6666666666666666,\"#ed7953\"],[0.7777777777777778,\"#fb9f3a\"],[0.8888888888888888,\"#fdca26\"],[1.0,\"#f0f921\"]],\"type\":\"surface\"}],\"table\":[{\"cells\":{\"fill\":{\"color\":\"#EBF0F8\"},\"line\":{\"color\":\"white\"}},\"header\":{\"fill\":{\"color\":\"#C8D4E3\"},\"line\":{\"color\":\"white\"}},\"type\":\"table\"}]},\"layout\":{\"annotationdefaults\":{\"arrowcolor\":\"#2a3f5f\",\"arrowhead\":0,\"arrowwidth\":1},\"autotypenumbers\":\"strict\",\"coloraxis\":{\"colorbar\":{\"outlinewidth\":0,\"ticks\":\"\"}},\"colorscale\":{\"diverging\":[[0,\"#8e0152\"],[0.1,\"#c51b7d\"],[0.2,\"#de77ae\"],[0.3,\"#f1b6da\"],[0.4,\"#fde0ef\"],[0.5,\"#f7f7f7\"],[0.6,\"#e6f5d0\"],[0.7,\"#b8e186\"],[0.8,\"#7fbc41\"],[0.9,\"#4d9221\"],[1,\"#276419\"]],\"sequential\":[[0.0,\"#0d0887\"],[0.1111111111111111,\"#46039f\"],[0.2222222222222222,\"#7201a8\"],[0.3333333333333333,\"#9c179e\"],[0.4444444444444444,\"#bd3786\"],[0.5555555555555556,\"#d8576b\"],[0.6666666666666666,\"#ed7953\"],[0.7777777777777778,\"#fb9f3a\"],[0.8888888888888888,\"#fdca26\"],[1.0,\"#f0f921\"]],\"sequentialminus\":[[0.0,\"#0d0887\"],[0.1111111111111111,\"#46039f\"],[0.2222222222222222,\"#7201a8\"],[0.3333333333333333,\"#9c179e\"],[0.4444444444444444,\"#bd3786\"],[0.5555555555555556,\"#d8576b\"],[0.6666666666666666,\"#ed7953\"],[0.7777777777777778,\"#fb9f3a\"],[0.8888888888888888,\"#fdca26\"],[1.0,\"#f0f921\"]]},\"colorway\":[\"#636efa\",\"#EF553B\",\"#00cc96\",\"#ab63fa\",\"#FFA15A\",\"#19d3f3\",\"#FF6692\",\"#B6E880\",\"#FF97FF\",\"#FECB52\"],\"font\":{\"color\":\"#2a3f5f\"},\"geo\":{\"bgcolor\":\"white\",\"lakecolor\":\"white\",\"landcolor\":\"white\",\"showlakes\":true,\"showland\":true,\"subunitcolor\":\"#C8D4E3\"},\"hoverlabel\":{\"align\":\"left\"},\"hovermode\":\"closest\",\"mapbox\":{\"style\":\"light\"},\"paper_bgcolor\":\"white\",\"plot_bgcolor\":\"white\",\"polar\":{\"angularaxis\":{\"gridcolor\":\"#EBF0F8\",\"linecolor\":\"#EBF0F8\",\"ticks\":\"\"},\"bgcolor\":\"white\",\"radialaxis\":{\"gridcolor\":\"#EBF0F8\",\"linecolor\":\"#EBF0F8\",\"ticks\":\"\"}},\"scene\":{\"xaxis\":{\"backgroundcolor\":\"white\",\"gridcolor\":\"#DFE8F3\",\"gridwidth\":2,\"linecolor\":\"#EBF0F8\",\"showbackground\":true,\"ticks\":\"\",\"zerolinecolor\":\"#EBF0F8\"},\"yaxis\":{\"backgroundcolor\":\"white\",\"gridcolor\":\"#DFE8F3\",\"gridwidth\":2,\"linecolor\":\"#EBF0F8\",\"showbackground\":true,\"ticks\":\"\",\"zerolinecolor\":\"#EBF0F8\"},\"zaxis\":{\"backgroundcolor\":\"white\",\"gridcolor\":\"#DFE8F3\",\"gridwidth\":2,\"linecolor\":\"#EBF0F8\",\"showbackground\":true,\"ticks\":\"\",\"zerolinecolor\":\"#EBF0F8\"}},\"shapedefaults\":{\"line\":{\"color\":\"#2a3f5f\"}},\"ternary\":{\"aaxis\":{\"gridcolor\":\"#DFE8F3\",\"linecolor\":\"#A2B1C6\",\"ticks\":\"\"},\"baxis\":{\"gridcolor\":\"#DFE8F3\",\"linecolor\":\"#A2B1C6\",\"ticks\":\"\"},\"bgcolor\":\"white\",\"caxis\":{\"gridcolor\":\"#DFE8F3\",\"linecolor\":\"#A2B1C6\",\"ticks\":\"\"}},\"title\":{\"x\":0.05},\"xaxis\":{\"automargin\":true,\"gridcolor\":\"#EBF0F8\",\"linecolor\":\"#EBF0F8\",\"ticks\":\"\",\"title\":{\"standoff\":15},\"zerolinecolor\":\"#EBF0F8\",\"zerolinewidth\":2},\"yaxis\":{\"automargin\":true,\"gridcolor\":\"#EBF0F8\",\"linecolor\":\"#EBF0F8\",\"ticks\":\"\",\"title\":{\"standoff\":15},\"zerolinecolor\":\"#EBF0F8\",\"zerolinewidth\":2}}},\"scene\":{\"domain\":{\"x\":[0.0,1.0],\"y\":[0.0,1.0]},\"xaxis\":{\"title\":{\"text\":\"Recency (days)\"}},\"yaxis\":{\"title\":{\"text\":\"Frequency (orders)\"}},\"zaxis\":{\"title\":{\"text\":\"Monetary (total spend)\"}}},\"coloraxis\":{\"colorbar\":{\"title\":{\"text\":\"Monetary\"}},\"colorscale\":[[0.0,\"#440154\"],[0.1111111111111111,\"#482878\"],[0.2222222222222222,\"#3e4989\"],[0.3333333333333333,\"#31688e\"],[0.4444444444444444,\"#26828e\"],[0.5555555555555556,\"#1f9e89\"],[0.6666666666666666,\"#35b779\"],[0.7777777777777778,\"#6ece58\"],[0.8888888888888888,\"#b5de2b\"],[1.0,\"#fde725\"]]},\"legend\":{\"tracegroupgap\":0,\"itemsizing\":\"constant\"},\"margin\":{\"t\":60},\"title\":{\"text\":\"Customer Segmentation (RFM Analysis)\"},\"height\":800},                        {\"responsive\": true}                    ).then(function(){\n",
       "                            \n",
       "var gd = document.getElementById('65893bc5-6b76-4f21-989f-ab701a67c7bf');\n",
       "var x = new MutationObserver(function (mutations, observer) {{\n",
       "        var display = window.getComputedStyle(gd).display;\n",
       "        if (!display || display === 'none') {{\n",
       "            console.log([gd, 'removed!']);\n",
       "            Plotly.purge(gd);\n",
       "            observer.disconnect();\n",
       "        }}\n",
       "}});\n",
       "\n",
       "// Listen for the removal of the full notebook cells\n",
       "var notebookContainer = gd.closest('#notebook-container');\n",
       "if (notebookContainer) {{\n",
       "    x.observe(notebookContainer, {childList: true});\n",
       "}}\n",
       "\n",
       "// Listen for the clearing of the current output cell\n",
       "var outputEl = gd.closest('.output');\n",
       "if (outputEl) {{\n",
       "    x.observe(outputEl, {childList: true});\n",
       "}}\n",
       "\n",
       "                        })                };                });            </script>        </div>"
      ]
     },
     "metadata": {},
     "output_type": "display_data"
    }
   ],
   "source": [
    "fig_segments = visualizer.plot_customer_segments()\n",
    "fig_segments.show()"
   ]
  },
  {
   "cell_type": "code",
   "execution_count": 92,
   "id": "66d3ac43-9e8d-4057-b2ae-987273ffee3a",
   "metadata": {},
   "outputs": [
    {
     "name": "stdout",
     "output_type": "stream",
     "text": [
      "Collecting reportlab\n",
      "  Downloading reportlab-4.2.5-py3-none-any.whl (1.9 MB)\n",
      "\u001b[2K     \u001b[90m━━━━━━━━━━━━━━━━━━━━━━━━━━━━━━━━━━━━━━━━\u001b[0m \u001b[32m1.9/1.9 MB\u001b[0m \u001b[31m12.6 MB/s\u001b[0m eta \u001b[36m0:00:00\u001b[0m \u001b[36m0:00:01\u001b[0m\n",
      "\u001b[?25hRequirement already satisfied: chardet in /Users/vastav/anaconda3/lib/python3.10/site-packages (from reportlab) (4.0.0)\n",
      "Requirement already satisfied: pillow>=9.0.0 in /Users/vastav/anaconda3/lib/python3.10/site-packages (from reportlab) (10.4.0)\n",
      "Installing collected packages: reportlab\n",
      "Successfully installed reportlab-4.2.5\n"
     ]
    }
   ],
   "source": [
    "!pip install reportlab"
   ]
  },
  {
   "cell_type": "code",
   "execution_count": 113,
   "id": "cd848134-5c83-4c14-8598-554a20d3fc30",
   "metadata": {},
   "outputs": [],
   "source": [
    "from reportlab.lib import colors\n",
    "from reportlab.lib.pagesizes import letter\n",
    "from reportlab.platypus import SimpleDocTemplate, Paragraph, Spacer, Image, Table, TableStyle\n",
    "from reportlab.lib.styles import getSampleStyleSheet, ParagraphStyle\n",
    "from reportlab.lib.units import inch\n",
    "import io\n",
    "import matplotlib.pyplot as plt\n",
    "\n",
    "def save_cluster_report_pdf(self, filename=\"cluster_analysis_report.pdf\"):\n",
    "    \n",
    "    doc = SimpleDocTemplate(filename, pagesize=letter)\n",
    "    styles = getSampleStyleSheet()\n",
    "    story = []\n",
    "\n",
    "    \n",
    "    title_style = ParagraphStyle(\n",
    "        'CustomTitle',\n",
    "        parent=styles['Heading1'],\n",
    "        fontSize=24,\n",
    "        spaceAfter=30\n",
    "    )\n",
    "    story.append(Paragraph(\"Customer Segmentation Analysis Report -- Vastav Bishnoi\", title_style))\n",
    "    story.append(Spacer(1, 12))\n",
    "\n",
    "    \n",
    "    story.append(Paragraph(\"Clustering Statistics\", styles['Heading2']))\n",
    "    story.append(Spacer(1, 12))\n",
    "    \n",
    "    report_data = self.generate_cluster_report()\n",
    "    \n",
    "    \n",
    "    stats_data = [\n",
    "        ['Metric', 'Value'],\n",
    "        ['Number of Clusters', str(report_data['n_clusters'])],\n",
    "        ['Davies-Bouldin Index', f\"{report_data['db_index']:.3f}\"],\n",
    "        ['Silhouette Score', f\"{report_data['silhouette_score']:.3f}\"],\n",
    "        ['Calinski-Harabasz Score', f\"{report_data['calinski_score']:.3f}\"]\n",
    "    ]\n",
    "    \n",
    "    stats_table = Table(stats_data, colWidths=[4*inch, 2*inch])\n",
    "    stats_table.setStyle(TableStyle([\n",
    "        ('BACKGROUND', (0, 0), (-1, 0), colors.grey),\n",
    "        ('TEXTCOLOR', (0, 0), (-1, 0), colors.whitesmoke),\n",
    "        ('ALIGN', (0, 0), (-1, -1), 'CENTER'),\n",
    "        ('FONTNAME', (0, 0), (-1, 0), 'Helvetica-Bold'),\n",
    "        ('FONTSIZE', (0, 0), (-1, 0), 14),\n",
    "        ('BOTTOMPADDING', (0, 0), (-1, 0), 12),\n",
    "        ('BACKGROUND', (0, 1), (-1, -1), colors.beige),\n",
    "        ('TEXTCOLOR', (0, 1), (-1, -1), colors.black),\n",
    "        ('FONTNAME', (0, 1), (-1, -1), 'Helvetica'),\n",
    "        ('FONTSIZE', (0, 1), (-1, -1), 12),\n",
    "        ('GRID', (0, 0), (-1, -1), 1, colors.black)\n",
    "    ]))\n",
    "    story.append(stats_table)\n",
    "    story.append(Spacer(1, 20))\n",
    "\n",
    "    \n",
    "    story.append(Paragraph(\"Cluster Size Distribution\", styles['Heading2']))\n",
    "    story.append(Spacer(1, 12))\n",
    "    \n",
    "    cluster_sizes = [\n",
    "        ['Cluster', 'Number of Customers']\n",
    "    ]\n",
    "    for cluster, size in report_data['cluster_sizes'].items():\n",
    "        cluster_sizes.append([f\"Cluster {cluster}\", str(size)])\n",
    "    \n",
    "    size_table = Table(cluster_sizes, colWidths=[3*inch, 3*inch])\n",
    "    size_table.setStyle(TableStyle([\n",
    "        ('BACKGROUND', (0, 0), (-1, 0), colors.grey),\n",
    "        ('TEXTCOLOR', (0, 0), (-1, 0), colors.whitesmoke),\n",
    "        ('ALIGN', (0, 0), (-1, -1), 'CENTER'),\n",
    "        ('FONTNAME', (0, 0), (-1, 0), 'Helvetica-Bold'),\n",
    "        ('FONTSIZE', (0, 0), (-1, 0), 14),\n",
    "        ('BOTTOMPADDING', (0, 0), (-1, 0), 12),\n",
    "        ('BACKGROUND', (0, 1), (-1, -1), colors.beige),\n",
    "        ('TEXTCOLOR', (0, 1), (-1, -1), colors.black),\n",
    "        ('FONTNAME', (0, 1), (-1, -1), 'Helvetica'),\n",
    "        ('FONTSIZE', (0, 1), (-1, -1), 12),\n",
    "        ('GRID', (0, 0), (-1, -1), 1, colors.black)\n",
    "    ]))\n",
    "    story.append(size_table)\n",
    "    story.append(Spacer(1, 20))#Copyright to Vastav Bishnoi\n",
    "\n",
    "  \n",
    "    story.append(Paragraph(\"Cluster Visualizations\", styles['Heading2']))\n",
    "    story.append(Spacer(1, 12))\n",
    "    \n",
    "  \n",
    "    buf = io.BytesIO()\n",
    "    fig = self.visualize_clusters()\n",
    "    fig.savefig(buf, format='png', dpi=300, bbox_inches='tight')\n",
    "    buf.seek(0)\n",
    "    \n",
    "    img = Image(buf)\n",
    "    img.drawHeight = 4*inch\n",
    "    img.drawWidth = 7*inch\n",
    "    story.append(img)\n",
    "    \n",
    " \n",
    "    doc.build(story)\n",
    "    plt.close()\n",
    "\n",
    "\n",
    "CustomerSegmentation.save_cluster_report_pdf = save_cluster_report_pdf"
   ]
  },
  {
   "cell_type": "code",
   "execution_count": 115,
   "id": "2e4534d6-f07a-45de-a4fc-c4d58064bc3d",
   "metadata": {},
   "outputs": [],
   "source": [
    "\n",
    "segmentation = CustomerSegmentation()\n",
    "segmentation.preprocess_features(customers_df, transactions_df)\n",
    "segmentation.find_optimal_clusters()\n",
    "\n",
    "\n",
    "segmentation.save_cluster_report_pdf(\"Vastav_Bishnoi_Clustering.pdf\")"
   ]
  },
  {
   "cell_type": "code",
   "execution_count": null,
   "id": "edc58a92-9afc-4de7-bc15-997156850e37",
   "metadata": {},
   "outputs": [],
   "source": []
  }
 ],
 "metadata": {
  "kernelspec": {
   "display_name": "Python 3 (ipykernel)",
   "language": "python",
   "name": "python3"
  },
  "language_info": {
   "codemirror_mode": {
    "name": "ipython",
    "version": 3
   },
   "file_extension": ".py",
   "mimetype": "text/x-python",
   "name": "python",
   "nbconvert_exporter": "python",
   "pygments_lexer": "ipython3",
   "version": "3.10.9"
  }
 },
 "nbformat": 4,
 "nbformat_minor": 5
}
