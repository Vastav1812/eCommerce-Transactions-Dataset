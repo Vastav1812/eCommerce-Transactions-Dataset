{
 "cells": [
  {
   "cell_type": "code",
   "execution_count": 242,
   "metadata": {},
   "outputs": [
    {
     "name": "stdout",
     "output_type": "stream",
     "text": [
      "Requirement already satisfied: plotly in /Users/vastav/anaconda3/lib/python3.10/site-packages (5.24.1)\n",
      "Requirement already satisfied: pandas in /Users/vastav/anaconda3/lib/python3.10/site-packages (2.2.3)\n",
      "Requirement already satisfied: numpy in /Users/vastav/anaconda3/lib/python3.10/site-packages (1.23.5)\n",
      "Requirement already satisfied: seaborn in /Users/vastav/anaconda3/lib/python3.10/site-packages (0.12.2)\n",
      "Requirement already satisfied: matplotlib in /Users/vastav/anaconda3/lib/python3.10/site-packages (3.9.2)\n",
      "Requirement already satisfied: packaging in /Users/vastav/anaconda3/lib/python3.10/site-packages (from plotly) (22.0)\n",
      "Requirement already satisfied: tenacity>=6.2.0 in /Users/vastav/anaconda3/lib/python3.10/site-packages (from plotly) (8.0.1)\n",
      "Requirement already satisfied: python-dateutil>=2.8.2 in /Users/vastav/anaconda3/lib/python3.10/site-packages (from pandas) (2.8.2)\n",
      "Requirement already satisfied: pytz>=2020.1 in /Users/vastav/anaconda3/lib/python3.10/site-packages (from pandas) (2022.7)\n",
      "Requirement already satisfied: tzdata>=2022.7 in /Users/vastav/anaconda3/lib/python3.10/site-packages (from pandas) (2025.1)\n",
      "Requirement already satisfied: fonttools>=4.22.0 in /Users/vastav/anaconda3/lib/python3.10/site-packages (from matplotlib) (4.25.0)\n",
      "Requirement already satisfied: pyparsing>=2.3.1 in /Users/vastav/anaconda3/lib/python3.10/site-packages (from matplotlib) (3.0.9)\n",
      "Requirement already satisfied: contourpy>=1.0.1 in /Users/vastav/anaconda3/lib/python3.10/site-packages (from matplotlib) (1.0.5)\n",
      "Requirement already satisfied: kiwisolver>=1.3.1 in /Users/vastav/anaconda3/lib/python3.10/site-packages (from matplotlib) (1.4.4)\n",
      "Requirement already satisfied: pillow>=8 in /Users/vastav/anaconda3/lib/python3.10/site-packages (from matplotlib) (10.4.0)\n",
      "Requirement already satisfied: cycler>=0.10 in /Users/vastav/anaconda3/lib/python3.10/site-packages (from matplotlib) (0.11.0)\n",
      "Requirement already satisfied: six>=1.5 in /Users/vastav/anaconda3/lib/python3.10/site-packages (from python-dateutil>=2.8.2->pandas) (1.16.0)\n"
     ]
    }
   ],
   "source": [
    "!pip install plotly pandas numpy seaborn matplotlib"
   ]
  },
  {
   "cell_type": "markdown",
   "metadata": {},
   "source": [
    "## **Import and Loading of datasets**"
   ]
  },
  {
   "cell_type": "code",
   "execution_count": 244,
   "metadata": {},
   "outputs": [],
   "source": [
    "\n",
    "import pandas as pd\n",
    "import numpy as np\n",
    "from datetime import datetime\n",
    "\n",
    "customers_df = pd.read_csv('Customers.csv')\n",
    "products_df = pd.read_csv('Products.csv')\n",
    "transactions_df = pd.read_csv('Transactions.csv')"
   ]
  },
  {
   "cell_type": "markdown",
   "metadata": {},
   "source": [
    "## **Verifying Loading and DataTypes and Datetime and Missing Values**"
   ]
  },
  {
   "cell_type": "code",
   "execution_count": 248,
   "metadata": {},
   "outputs": [
    {
     "name": "stdout",
     "output_type": "stream",
     "text": [
      "Customers Dataset Preview:\n",
      "  CustomerID        CustomerName         Region  SignupDate\n",
      "0      C0001    Lawrence Carroll  South America  2022-07-10\n",
      "1      C0002      Elizabeth Lutz           Asia  2022-02-13\n",
      "2      C0003      Michael Rivera  South America  2024-03-07\n",
      "3      C0004  Kathleen Rodriguez  South America  2022-10-09\n",
      "4      C0005         Laura Weber           Asia  2022-08-15\n",
      "\n",
      "Products Dataset Preview:\n",
      "  ProductID              ProductName     Category   Price\n",
      "0      P001     ActiveWear Biography        Books  169.30\n",
      "1      P002    ActiveWear Smartwatch  Electronics  346.30\n",
      "2      P003  ComfortLiving Biography        Books   44.12\n",
      "3      P004            BookWorld Rug   Home Decor   95.69\n",
      "4      P005          TechPro T-Shirt     Clothing  429.31\n",
      "\n",
      "Transactions Dataset Preview:\n",
      "  TransactionID CustomerID ProductID      TransactionDate  Quantity  \\\n",
      "0        T00001      C0199      P067  2024-08-25 12:38:23         1   \n",
      "1        T00112      C0146      P067  2024-05-27 22:23:54         1   \n",
      "2        T00166      C0127      P067  2024-04-25 07:38:55         1   \n",
      "3        T00272      C0087      P067  2024-03-26 22:55:37         2   \n",
      "4        T00363      C0070      P067  2024-03-21 15:10:10         3   \n",
      "\n",
      "   TotalValue   Price  \n",
      "0      300.68  300.68  \n",
      "1      300.68  300.68  \n",
      "2      300.68  300.68  \n",
      "3      601.36  300.68  \n",
      "4      902.04  300.68  \n",
      "\n",
      "Customers Dataset Info:\n",
      "<class 'pandas.core.frame.DataFrame'>\n",
      "RangeIndex: 200 entries, 0 to 199\n",
      "Data columns (total 4 columns):\n",
      " #   Column        Non-Null Count  Dtype \n",
      "---  ------        --------------  ----- \n",
      " 0   CustomerID    200 non-null    object\n",
      " 1   CustomerName  200 non-null    object\n",
      " 2   Region        200 non-null    object\n",
      " 3   SignupDate    200 non-null    object\n",
      "dtypes: object(4)\n",
      "memory usage: 6.4+ KB\n",
      "None\n",
      "\n",
      "Products Dataset Info:\n",
      "<class 'pandas.core.frame.DataFrame'>\n",
      "RangeIndex: 100 entries, 0 to 99\n",
      "Data columns (total 4 columns):\n",
      " #   Column       Non-Null Count  Dtype  \n",
      "---  ------       --------------  -----  \n",
      " 0   ProductID    100 non-null    object \n",
      " 1   ProductName  100 non-null    object \n",
      " 2   Category     100 non-null    object \n",
      " 3   Price        100 non-null    float64\n",
      "dtypes: float64(1), object(3)\n",
      "memory usage: 3.2+ KB\n",
      "None\n",
      "\n",
      "Transactions Dataset Info:\n",
      "<class 'pandas.core.frame.DataFrame'>\n",
      "RangeIndex: 1000 entries, 0 to 999\n",
      "Data columns (total 7 columns):\n",
      " #   Column           Non-Null Count  Dtype  \n",
      "---  ------           --------------  -----  \n",
      " 0   TransactionID    1000 non-null   object \n",
      " 1   CustomerID       1000 non-null   object \n",
      " 2   ProductID        1000 non-null   object \n",
      " 3   TransactionDate  1000 non-null   object \n",
      " 4   Quantity         1000 non-null   int64  \n",
      " 5   TotalValue       1000 non-null   float64\n",
      " 6   Price            1000 non-null   float64\n",
      "dtypes: float64(2), int64(1), object(4)\n",
      "memory usage: 54.8+ KB\n",
      "None\n",
      "\n",
      "After date conversion:\n",
      "SignupDate dtype: datetime64[ns]\n",
      "TransactionDate dtype: datetime64[ns]\n",
      "\n",
      "Missing values in Customers dataset:\n",
      "CustomerID      0\n",
      "CustomerName    0\n",
      "Region          0\n",
      "SignupDate      0\n",
      "dtype: int64\n",
      "\n",
      "Missing values in Products dataset:\n",
      "ProductID      0\n",
      "ProductName    0\n",
      "Category       0\n",
      "Price          0\n",
      "dtype: int64\n",
      "\n",
      "Missing values in Transactions dataset:\n",
      "TransactionID      0\n",
      "CustomerID         0\n",
      "ProductID          0\n",
      "TransactionDate    0\n",
      "Quantity           0\n",
      "TotalValue         0\n",
      "Price              0\n",
      "dtype: int64\n"
     ]
    }
   ],
   "source": [
    "\n",
    "print(\"Customers Dataset Preview:\")\n",
    "print(customers_df.head())\n",
    "print(\"\\nProducts Dataset Preview:\")\n",
    "print(products_df.head())\n",
    "print(\"\\nTransactions Dataset Preview:\")\n",
    "print(transactions_df.head())\n",
    "\n",
    "\n",
    "print(\"\\nCustomers Dataset Info:\")\n",
    "print(customers_df.info())\n",
    "print(\"\\nProducts Dataset Info:\")\n",
    "print(products_df.info())\n",
    "print(\"\\nTransactions Dataset Info:\")\n",
    "print(transactions_df.info())\n",
    "\n",
    "\n",
    "customers_df['SignupDate'] = pd.to_datetime(customers_df['SignupDate'])\n",
    "transactions_df['TransactionDate'] = pd.to_datetime(transactions_df['TransactionDate'])\n",
    "\n",
    "\n",
    "print(\"\\nAfter date conversion:\")\n",
    "print(\"SignupDate dtype:\", customers_df['SignupDate'].dtype)\n",
    "print(\"TransactionDate dtype:\", transactions_df['TransactionDate'].dtype)\n",
    "\n",
    "\n",
    "print(\"\\nMissing values in Customers dataset:\")\n",
    "print(customers_df.isnull().sum())\n",
    "print(\"\\nMissing values in Products dataset:\")\n",
    "print(products_df.isnull().sum())\n",
    "print(\"\\nMissing values in Transactions dataset:\")\n",
    "print(transactions_df.isnull().sum())"
   ]
  },
  {
   "cell_type": "markdown",
   "metadata": {},
   "source": [
    "Setting up Logging"
   ]
  },
  {
   "cell_type": "code",
   "execution_count": 251,
   "metadata": {},
   "outputs": [],
   "source": [
    "#Copyright to Vastav Bishnoi\n",
    "import pandas as pd\n",
    "import numpy as np\n",
    "import matplotlib.pyplot as plt\n",
    "import seaborn as sns\n",
    "from datetime import datetime\n",
    "import plotly.express as px\n",
    "from scipy import stats\n",
    "import logging\n",
    "from pathlib import Path\n",
    "\n",
    "logging.basicConfig(level=logging.INFO, format='%(asctime)s - %(levelname)s - %(message)s')\n",
    "logger = logging.getLogger(__name__)"
   ]
  },
  {
   "cell_type": "markdown",
   "metadata": {},
   "source": [
    "# **Data Loading and Csv File Reading and Converting the dates and cleaning - validating missing values**"
   ]
  },
  {
   "cell_type": "code",
   "execution_count": 254,
   "metadata": {},
   "outputs": [],
   "source": [
    "class DataLoader:\n",
    "\n",
    "    def __init__(self, data_dir='.'):\n",
    "        self.data_dir = Path(data_dir)\n",
    "    \n",
    "    def load_and_clean_data(self):\n",
    " \n",
    "        try:\n",
    "            logger.info(\"Loading datasets...\")\n",
    "            \n",
    "            customers_df = self._safe_read_csv('Customers.csv')\n",
    "            products_df = self._safe_read_csv('Products.csv')\n",
    "            transactions_df = self._safe_read_csv('Transactions.csv')\n",
    "            \n",
    "            customers_df = self._convert_dates(customers_df, 'SignupDate')\n",
    "            transactions_df = self._convert_dates(transactions_df, 'TransactionDate')\n",
    "            \n",
    "           \n",
    "            customers_df = self._clean_and_validate(customers_df, 'customers')\n",
    "            products_df = self._clean_and_validate(products_df, 'products')\n",
    "            transactions_df = self._clean_and_validate(transactions_df, 'transactions')\n",
    "            \n",
    "            return customers_df, products_df, transactions_df\n",
    "            \n",
    "        except Exception as e:\n",
    "            logger.error(f\"Error in data loading: {str(e)}\")\n",
    "            raise\n",
    "            \n",
    "    def _safe_read_csv(self, filename):\n",
    "        \n",
    "        try:\n",
    "            filepath = self.data_dir / filename\n",
    "            return pd.read_csv(filepath)\n",
    "        except FileNotFoundError:\n",
    "            logger.error(f\"File not found: {filename}\")\n",
    "            raise\n",
    "        except pd.errors.EmptyDataError:\n",
    "            logger.error(f\"Empty file: {filename}\")\n",
    "            raise\n",
    "    \n",
    "    def _convert_dates(self, df, date_column):\n",
    "        \n",
    "        try:\n",
    "            df[date_column] = pd.to_datetime(df[date_column])\n",
    "            return df\n",
    "        except Exception as e:\n",
    "            logger.error(f\"Error converting dates in column {date_column}: {str(e)}\")\n",
    "            raise\n",
    "    \n",
    "    def _clean_and_validate(self, df, dataset_name):\n",
    "        \n",
    "        \n",
    "        initial_rows = len(df)\n",
    "        df = df.drop_duplicates()\n",
    "        dropped_rows = initial_rows - len(df)\n",
    "        if dropped_rows > 0:\n",
    "            logger.info(f\"Removed {dropped_rows} duplicate rows from {dataset_name} dataset\")\n",
    "        \n",
    "        \n",
    "        missing_values = df.isnull().sum()\n",
    "        if missing_values.any():\n",
    "            logger.warning(f\"Missing values found in {dataset_name} dataset:\\n{missing_values[missing_values > 0]}\")\n",
    "        \n",
    "        return df"
   ]
  },
  {
   "cell_type": "markdown",
   "metadata": {},
   "source": [
    "# **Data Analyzer and Merging the datasets and analyzing the customers, products, patterns and pricing and Visualizing the dataset for EDA**"
   ]
  },
  {
   "cell_type": "code",
   "execution_count": 302,
   "metadata": {},
   "outputs": [
    {
     "name": "stderr",
     "output_type": "stream",
     "text": [
      "2025-01-27 22:48:57,675 - INFO - Loading datasets...\n",
      "2025-01-27 22:48:57,718 - INFO - Starting exploratory data analysis...\n",
      "2025-01-27 22:48:57,814 - INFO - EDA completed successfully\n",
      "2025-01-27 22:48:57,815 - INFO - Creating visualizations...\n",
      "2025-01-27 22:48:58,075 - INFO - Visualizations created successfully\n"
     ]
    },
    {
     "data": {
      "image/png": "[encoded data removed]",
      "text/plain": [
       "<Figure size 1200x600 with 1 Axes>"
      ]
     },
     "metadata": {},
     "output_type": "display_data"
    },
    {
     "data": {
      "image/png": "[encoded data removed]",
      "text/plain": [
       "<Figure size 1200x600 with 1 Axes>"
      ]
     },
     "metadata": {},
     "output_type": "display_data"
    },
    {
     "data": {
      "image/png": "[encoded data removed]",
      "text/plain": [
       "<Figure size 1000x800 with 1 Axes>"
      ]
     },
     "metadata": {},
     "output_type": "display_data"
    },
    {
     "name": "stderr",
     "output_type": "stream",
     "text": [
      "2025-01-27 22:48:58,390 - INFO - Analysis completed successfully\n"
     ]
    }
   ],
   "source": [
    "class DataAnalyzer:\n",
    "\n",
    "    \n",
    "    def perform_eda(self, customers_df, products_df, transactions_df):\n",
    "      \n",
    "        try:\n",
    "            logger.info(\"Starting exploratory data analysis...\")\n",
    "            \n",
    "           \n",
    "            merged_df = self._merge_datasets(transactions_df, customers_df, products_df)\n",
    "            \n",
    "        \n",
    "            analysis_results = {\n",
    "                'customer_analysis': self._analyze_customers(transactions_df, customers_df),\n",
    "                'product_analysis': self._analyze_products(transactions_df, products_df),\n",
    "                'temporal_analysis': self._analyze_temporal_patterns(transactions_df),\n",
    "                'price_analysis': self._analyze_pricing(transactions_df),\n",
    "                'customer_segments': self._perform_customer_segmentation(transactions_df)\n",
    "            }\n",
    "            \n",
    "            logger.info(\"EDA completed successfully\")\n",
    "            return analysis_results\n",
    "            \n",
    "        except Exception as e:\n",
    "            logger.error(f\"Error in EDA: {str(e)}\")\n",
    "            raise\n",
    "    \n",
    "    def _merge_datasets(self, transactions_df, customers_df, products_df):\n",
    "        \n",
    "        return transactions_df.merge(customers_df, on='CustomerID')\\\n",
    "                            .merge(products_df, on='ProductID')\n",
    "    \n",
    "    def _analyze_customers(self, transactions_df, customers_df):\n",
    "        \n",
    "        return {\n",
    "            'purchase_frequency': transactions_df.groupby('CustomerID').size().value_counts().sort_index(),\n",
    "            'total_spend': transactions_df.groupby('CustomerID')['TotalValue'].sum().describe(),\n",
    "            'regions': customers_df['Region'].value_counts()\n",
    "        }\n",
    "    \n",
    "    def _analyze_products(self, transactions_df, products_df):\n",
    "       \n",
    "        return {\n",
    "            'category_performance': transactions_df.merge(\n",
    "                products_df[['ProductID', 'Category']], \n",
    "                on='ProductID'\n",
    "            ).groupby('Category').agg({\n",
    "                'Quantity': 'sum',\n",
    "                'TotalValue': 'sum'\n",
    "            }).sort_values('TotalValue', ascending=False)\n",
    "        }\n",
    "    \n",
    "    def _analyze_temporal_patterns(self, transactions_df):\n",
    "        \n",
    "        transactions_df['Month'] = transactions_df['TransactionDate'].dt.to_period('M')\n",
    "        return {\n",
    "            'monthly_sales': transactions_df.groupby('Month')['TotalValue'].sum()\n",
    "        }\n",
    "    \n",
    "    def _analyze_pricing(self, transactions_df):\n",
    "        \n",
    "        return {\n",
    "            'price_correlation': stats.pearsonr(\n",
    "                transactions_df['Price'],\n",
    "                transactions_df['Quantity']\n",
    "            )\n",
    "        }\n",
    "    \n",
    "    def _perform_customer_segmentation(self, transactions_df):\n",
    "        \n",
    "        current_date = transactions_df['TransactionDate'].max()\n",
    "        \n",
    "        return transactions_df.groupby('CustomerID').agg({\n",
    "            'TransactionDate': lambda x: (current_date - x.max()).days,\n",
    "            'TransactionID': 'count',\n",
    "            'TotalValue': 'sum'\n",
    "        })\n",
    "\n",
    "class Visualizer:\n",
    "    \n",
    "    def __init__(self):\n",
    "        self.setup_visualization_style()\n",
    "    \n",
    "    def setup_visualization_style(self):\n",
    "        \n",
    "        sns.set_theme(style=\"whitegrid\", palette=\"muted\")\n",
    "        plt.rcParams.update({\n",
    "            'figure.figsize': (12, 6),\n",
    "            'figure.dpi': 100,\n",
    "            'font.size': 12,\n",
    "            'axes.titlesize': 14,\n",
    "            'axes.labelsize': 12\n",
    "        })\n",
    "    \n",
    "    def create_all_visualizations(self, analysis_results, customers_df, products_df, transactions_df):\n",
    "       \n",
    "        try:\n",
    "            logger.info(\"Creating visualizations...\")\n",
    "            \n",
    "            figs = {\n",
    "                'sales_trend': self.create_sales_trend_visualization(transactions_df),\n",
    "                'category_performance': self.create_category_performance_visualization(\n",
    "                    products_df, transactions_df\n",
    "                ),\n",
    "                'customer_regions': self.create_customer_region_visualization(customers_df)\n",
    "            }\n",
    "            \n",
    "            logger.info(\"Visualizations created successfully\")\n",
    "            return figs\n",
    "            \n",
    "        except Exception as e:\n",
    "            logger.error(f\"Error creating visualizations: {str(e)}\")\n",
    "            raise\n",
    "\n",
    "    def create_sales_trend_visualization(self, transactions_df):\n",
    "        \n",
    "        return create_sales_trend_visualization(transactions_df)\n",
    "    \n",
    "    def create_category_performance_visualization(self, products_df, transactions_df):\n",
    "        \n",
    "        return create_category_performance_visualization(products_df, transactions_df)\n",
    "    \n",
    "    def create_customer_region_visualization(self, customers_df):\n",
    "        \n",
    "        return create_customer_region_visualization(customers_df)\n",
    "\n",
    "def main():\n",
    "   \n",
    "    try:\n",
    "        \n",
    "        data_loader = DataLoader()\n",
    "        analyzer = DataAnalyzer()\n",
    "        visualizer = Visualizer()\n",
    "        \n",
    "        \n",
    "        customers_df, products_df, transactions_df = data_loader.load_and_clean_data()\n",
    "        \n",
    "        \n",
    "        analysis_results = analyzer.perform_eda(customers_df, products_df, transactions_df)\n",
    "        \n",
    "  \n",
    "        figures = visualizer.create_all_visualizations(\n",
    "            analysis_results, customers_df, products_df, transactions_df\n",
    "        )\n",
    "        \n",
    " \n",
    "        plt.show()\n",
    "        \n",
    "        logger.info(\"Analysis completed successfully\")\n",
    "        return analysis_results, figures\n",
    "        \n",
    "    except Exception as e:\n",
    "        logger.error(f\"Error in main execution: {str(e)}\")\n",
    "        raise\n",
    "\n",
    "if __name__ == \"__main__\":\n",
    "    main()\n",
    "    #Copyright to Vastav Bishnoi"
   ]
  },
  {
   "cell_type": "code",
   "execution_count": 259,
   "metadata": {},
   "outputs": [],
   "source": [
    "import pandas as pd\n",
    "import numpy as np\n",
    "import matplotlib.pyplot as plt\n",
    "import seaborn as sns\n",
    "from datetime import datetime\n",
    "import plotly.express as px\n",
    "import plotly.graph_objects as go\n",
    "from plotly.subplots import make_subplots\n",
    "\n",
    "\n",
    "plt.style.use('seaborn')\n",
    "sns.set_palette(\"husl\")\n",
    "\n",
    "class EcommerceVisualizer:\n",
    "    def __init__(self, customers_df, products_df, transactions_df):\n",
    "       \n",
    "        self.customers_df = customers_df.copy()\n",
    "        self.products_df = products_df.copy()\n",
    "        self.transactions_df = transactions_df.copy()\n",
    "        self.prepare_data()\n",
    "\n",
    "    def prepare_data(self):\n",
    "        \n",
    "        \n",
    "        self.customers_df['SignupDate'] = pd.to_datetime(self.customers_df['SignupDate'])\n",
    "        self.transactions_df['TransactionDate'] = pd.to_datetime(self.transactions_df['TransactionDate'])\n",
    "        \n",
    "        \n",
    "        self.enriched_transactions = self.transactions_df.merge(\n",
    "            self.customers_df[['CustomerID', 'Region', 'SignupDate']], \n",
    "            on='CustomerID'\n",
    "        ).merge(\n",
    "            self.products_df[['ProductID', 'Category']], \n",
    "            on='ProductID'\n",
    "        )\n",
    "\n",
    "    def plot_sales_trends(self):\n",
    "        \n",
    "        daily_sales = self.enriched_transactions.groupby(\n",
    "            self.enriched_transactions['TransactionDate'].dt.date\n",
    "        ).agg({\n",
    "            'TotalValue': 'sum',\n",
    "            'TransactionID': 'count',\n",
    "            'CustomerID': 'nunique'\n",
    "        }).reset_index()\n",
    "\n",
    "       \n",
    "        fig = make_subplots(\n",
    "            rows=2, cols=1,\n",
    "            subplot_titles=('Daily Sales Value', 'Daily Transaction Count'),\n",
    "            vertical_spacing=0.12\n",
    "        )\n",
    "\n",
    "        \n",
    "        fig.add_trace(\n",
    "            go.Scatter(\n",
    "                x=daily_sales['TransactionDate'],\n",
    "                y=daily_sales['TotalValue'],\n",
    "                mode='lines',\n",
    "                name='Sales Value',\n",
    "                line=dict(color='#1f77b4', width=2)\n",
    "            ),\n",
    "            row=1, col=1\n",
    "        )\n",
    "\n",
    "       \n",
    "        fig.add_trace(\n",
    "            go.Scatter(\n",
    "                x=daily_sales['TransactionDate'],\n",
    "                y=daily_sales['TransactionID'],\n",
    "                mode='lines',\n",
    "                name='Transaction Count',\n",
    "                line=dict(color='#2ca02c', width=2)\n",
    "            ),\n",
    "            row=2, col=1\n",
    "        )\n",
    "\n",
    "        \n",
    "        fig.update_layout(\n",
    "            height=800,\n",
    "            showlegend=True,\n",
    "            title_text=\"Sales and Transaction Trends\",\n",
    "            title_x=0.5,\n",
    "            template='plotly_white'\n",
    "        )\n",
    "\n",
    "        return fig\n",
    "\n",
    "    def plot_regional_performance(self):\n",
    "        \n",
    "        regional_metrics = self.enriched_transactions.groupby('Region').agg({\n",
    "            'TotalValue': 'sum',\n",
    "            'CustomerID': 'nunique',\n",
    "            'TransactionID': 'count',\n",
    "            'Quantity': 'sum'\n",
    "        }).reset_index()\n",
    "\n",
    "        \n",
    "        regional_metrics['AvgOrderValue'] = regional_metrics['TotalValue'] / regional_metrics['TransactionID']\n",
    "\n",
    "        \n",
    "        fig = go.Figure()\n",
    "\n",
    "        \n",
    "        fig.add_trace(go.Bar(\n",
    "            name='Total Sales',\n",
    "            x=regional_metrics['Region'],\n",
    "            y=regional_metrics['TotalValue'],\n",
    "            marker_color='#1f77b4'\n",
    "        ))\n",
    "\n",
    "        \n",
    "        fig.add_trace(go.Scatter(\n",
    "            name='Avg Order Value',\n",
    "            x=regional_metrics['Region'],\n",
    "            y=regional_metrics['AvgOrderValue'],\n",
    "            yaxis='y2',\n",
    "            mode='lines+markers',\n",
    "            marker=dict(size=8, color='#ff7f0e'),\n",
    "            line=dict(width=2)\n",
    "        ))\n",
    "\n",
    "       \n",
    "        fig.update_layout(\n",
    "            title='Regional Performance Analysis',\n",
    "            yaxis=dict(title='Total Sales Value'),\n",
    "            yaxis2=dict(title='Average Order Value', overlaying='y', side='right'),\n",
    "            barmode='group',\n",
    "            template='plotly_white',\n",
    "            height=600\n",
    "        )\n",
    "\n",
    "        return fig\n",
    "\n",
    "    def plot_category_analysis(self):\n",
    "        \n",
    "        category_metrics = self.enriched_transactions.groupby('Category').agg({\n",
    "            'TotalValue': 'sum',\n",
    "            'Quantity': 'sum',\n",
    "            'TransactionID': 'count',\n",
    "            'CustomerID': 'nunique'\n",
    "        }).reset_index()\n",
    "\n",
    "       \n",
    "        category_metrics['AvgOrderValue'] = category_metrics['TotalValue'] / category_metrics['TransactionID']\n",
    "        category_metrics['UnitsPerTransaction'] = category_metrics['Quantity'] / category_metrics['TransactionID']\n",
    "\n",
    "        \n",
    "        fig = px.treemap(\n",
    "            category_metrics,\n",
    "            path=['Category'],\n",
    "            values='TotalValue',\n",
    "            color='AvgOrderValue',\n",
    "            custom_data=['UnitsPerTransaction', 'CustomerID'],\n",
    "            color_continuous_scale='Viridis'\n",
    "        )\n",
    "\n",
    "        \n",
    "        fig.update_layout(\n",
    "            title='Category Performance Analysis',\n",
    "            height=600,\n",
    "            template='plotly_white'\n",
    "        )\n",
    "\n",
    "       \n",
    "        fig.update_traces(\n",
    "            hovertemplate=\"\"\"\n",
    "            Category: %{label}<br>\n",
    "            Total Sales: $%{value:,.2f}<br>\n",
    "            Avg Order Value: $%{color:,.2f}<br>\n",
    "            Units/Transaction: %{customdata[0]:.1f}<br>\n",
    "            Unique Customers: %{customdata[1]}<br>\n",
    "            <extra></extra>\n",
    "            \"\"\"\n",
    "        )\n",
    "\n",
    "        return fig\n",
    "\n",
    " "
   ]
  },
  {
   "cell_type": "code",
   "execution_count": 261,
   "metadata": {},
   "outputs": [],
   "source": [
    "visualizer = EcommerceVisualizer(customers_df, products_df, transactions_df)"
   ]
  },
  {
   "cell_type": "markdown",
   "metadata": {},
   "source": [
    "# **Sales and Transaction Trends**"
   ]
  },
  {
   "cell_type": "code",
   "execution_count": 263,
   "metadata": {},
   "outputs": [
    {
     "data": {
      "application/vnd.plotly.v1+json": {
       "config": {
        "plotlyServerURL": "https://plot.ly"
       },
       "data": [
        {
         "line": {
          "color": "#1f77b4",
          "width": 2
         },
         "mode": "lines",
         "name": "Sales Value",
         "type": "scatter",
         "x": [
          "2023-12-30",
          "2023-12-31",
          "2024-01-01",
          "2024-01-02",
          "2024-01-03",
          "2024-01-04",
          "2024-01-05",
          "2024-01-06",
          "2024-01-07",
          "2024-01-08",
          "2024-01-09",
          "2024-01-11",
          "2024-01-12",
          "2024-01-13",
          "2024-01-14",
          "2024-01-15",
          "2024-01-16",
          "2024-01-17",
          "2024-01-18",
          "2024-01-19",
          "2024-01-20",
          "2024-01-21",
          "2024-01-22",
          "2024-01-23",
          "2024-01-24",
          "2024-01-25",
          "2024-01-26",
          "2024-01-27",
          "2024-01-28",
          "2024-01-29",
          "2024-01-30",
          "2024-01-31",
          "2024-02-01",
          "2024-02-02",
          "2024-02-03",
          "2024-02-04",
          "2024-02-05",
          "2024-02-06",
          "2024-02-07",
          "2024-02-08",
          "2024-02-10",
          "2024-02-12",
          "2024-02-13",
          "2024-02-14",
          "2024-02-15",
          "2024-02-16",
          "2024-02-17",
          "2024-02-18",
          "2024-02-20",
          "2024-02-21",
          "2024-02-22",
          "2024-02-23",
          "2024-02-24",
          "2024-02-25",
          "2024-02-27",
          "2024-02-28",
          "2024-02-29",
          "2024-03-01",
          "2024-03-02",
          "2024-03-03",
          "2024-03-04",
          "2024-03-05",
          "2024-03-06",
          "2024-03-07",
          "2024-03-08",
          "2024-03-09",
          "2024-03-10",
          "2024-03-11",
          "2024-03-12",
          "2024-03-13",
          "2024-03-14",
          "2024-03-15",
          "2024-03-16",
          "2024-03-18",
          "2024-03-19",
          "2024-03-20",
          "2024-03-21",
          "2024-03-22",
          "2024-03-23",
          "2024-03-24",
          "2024-03-25",
          "2024-03-26",
          "2024-03-27",
          "2024-03-28",
          "2024-03-29",
          "2024-03-30",
          "2024-03-31",
          "2024-04-01",
          "2024-04-02",
          "2024-04-03",
          "2024-04-04",
          "2024-04-05",
          "2024-04-06",
          "2024-04-07",
          "2024-04-08",
          "2024-04-09",
          "2024-04-11",
          "2024-04-12",
          "2024-04-13",
          "2024-04-14",
          "2024-04-15",
          "2024-04-16",
          "2024-04-17",
          "2024-04-18",
          "2024-04-19",
          "2024-04-20",
          "2024-04-21",
          "2024-04-22",
          "2024-04-23",
          "2024-04-24",
          "2024-04-25",
          "2024-04-26",
          "2024-04-27",
          "2024-04-28",
          "2024-04-29",
          "2024-04-30",
          "2024-05-02",
          "2024-05-03",
          "2024-05-04",
          "2024-05-05",
          "2024-05-06",
          "2024-05-07",
          "2024-05-08",
          "2024-05-09",
          "2024-05-10",
          "2024-05-11",
          "2024-05-12",
          "2024-05-13",
          "2024-05-14",
          "2024-05-15",
          "2024-05-16",
          "2024-05-18",
          "2024-05-19",
          "2024-05-20",
          "2024-05-21",
          "2024-05-22",
          "2024-05-23",
          "2024-05-24",
          "2024-05-25",
          "2024-05-26",
          "2024-05-27",
          "2024-05-28",
          "2024-05-29",
          "2024-05-30",
          "2024-06-02",
          "2024-06-03",
          "2024-06-04",
          "2024-06-05",
          "2024-06-07",
          "2024-06-08",
          "2024-06-09",
          "2024-06-10",
          "2024-06-11",
          "2024-06-12",
          "2024-06-13",
          "2024-06-14",
          "2024-06-15",
          "2024-06-16",
          "2024-06-17",
          "2024-06-18",
          "2024-06-19",
          "2024-06-20",
          "2024-06-21",
          "2024-06-22",
          "2024-06-23",
          "2024-06-24",
          "2024-06-25",
          "2024-06-27",
          "2024-06-29",
          "2024-06-30",
          "2024-07-01",
          "2024-07-02",
          "2024-07-03",
          "2024-07-04",
          "2024-07-05",
          "2024-07-06",
          "2024-07-07",
          "2024-07-08",
          "2024-07-09",
          "2024-07-10",
          "2024-07-11",
          "2024-07-12",
          "2024-07-13",
          "2024-07-14",
          "2024-07-15",
          "2024-07-16",
          "2024-07-17",
          "2024-07-18",
          "2024-07-19",
          "2024-07-20",
          "2024-07-21",
          "2024-07-22",
          "2024-07-23",
          "2024-07-24",
          "2024-07-25",
          "2024-07-26",
          "2024-07-27",
          "2024-07-28",
          "2024-07-29",
          "2024-07-30",
          "2024-07-31",
          "2024-08-01",
          "2024-08-02",
          "2024-08-03",
          "2024-08-04",
          "2024-08-05",
          "2024-08-06",
          "2024-08-07",
          "2024-08-08",
          "2024-08-09",
          "2024-08-10",
          "2024-08-11",
          "2024-08-12",
          "2024-08-13",
          "2024-08-14",
          "2024-08-15",
          "2024-08-16",
          "2024-08-17",
          "2024-08-18",
          "2024-08-19",
          "2024-08-20",
          "2024-08-22",
          "2024-08-23",
          "2024-08-24",
          "2024-08-25",
          "2024-08-26",
          "2024-08-27",
          "2024-08-28",
          "2024-08-29",
          "2024-08-30",
          "2024-08-31",
          "2024-09-01",
          "2024-09-03",
          "2024-09-04",
          "2024-09-05",
          "2024-09-06",
          "2024-09-08",
          "2024-09-09",
          "2024-09-10",
          "2024-09-11",
          "2024-09-12",
          "2024-09-13",
          "2024-09-14",
          "2024-09-15",
          "2024-09-16",
          "2024-09-17",
          "2024-09-18",
          "2024-09-19",
          "2024-09-20",
          "2024-09-21",
          "2024-09-22",
          "2024-09-23",
          "2024-09-24",
          "2024-09-25",
          "2024-09-26",
          "2024-09-27",
          "2024-09-28",
          "2024-09-29",
          "2024-09-30",
          "2024-10-01",
          "2024-10-02",
          "2024-10-03",
          "2024-10-04",
          "2024-10-05",
          "2024-10-06",
          "2024-10-07",
          "2024-10-08",
          "2024-10-09",
          "2024-10-10",
          "2024-10-11",
          "2024-10-12",
          "2024-10-13",
          "2024-10-14",
          "2024-10-15",
          "2024-10-16",
          "2024-10-17",
          "2024-10-19",
          "2024-10-20",
          "2024-10-21",
          "2024-10-22",
          "2024-10-23",
          "2024-10-24",
          "2024-10-26",
          "2024-10-27",
          "2024-10-28",
          "2024-10-29",
          "2024-10-30",
          "2024-11-01",
          "2024-11-02",
          "2024-11-03",
          "2024-11-04",
          "2024-11-05",
          "2024-11-07",
          "2024-11-08",
          "2024-11-09",
          "2024-11-10",
          "2024-11-11",
          "2024-11-13",
          "2024-11-14",
          "2024-11-15",
          "2024-11-16",
          "2024-11-17",
          "2024-11-20",
          "2024-11-21",
          "2024-11-22",
          "2024-11-24",
          "2024-11-26",
          "2024-11-27",
          "2024-11-28",
          "2024-11-29",
          "2024-11-30",
          "2024-12-01",
          "2024-12-03",
          "2024-12-04",
          "2024-12-05",
          "2024-12-06",
          "2024-12-07",
          "2024-12-08",
          "2024-12-09",
          "2024-12-10",
          "2024-12-11",
          "2024-12-12",
          "2024-12-13",
          "2024-12-14",
          "2024-12-15",
          "2024-12-16",
          "2024-12-17",
          "2024-12-18",
          "2024-12-19",
          "2024-12-21",
          "2024-12-22",
          "2024-12-23",
          "2024-12-24",
          "2024-12-25",
          "2024-12-26",
          "2024-12-27",
          "2024-12-28"
         ],
         "xaxis": "x",
         "y": [
          313.92,
          3455.6,
          1468.94,
          1818.03,
          2224.41,
          2790.76,
          1049.92,
          2325.7400000000002,
          1395.63,
          686.15,
          3846.7999999999997,
          1803.79,
          2474.35,
          4049.45,
          1506.83,
          1212.8,
          2454.63,
          3350.92,
          2107.08,
          114.6,
          3160.33,
          2064.18,
          2460.23,
          1791.33,
          3302.32,
          2544.16,
          260.86,
          2134.57,
          2625.76,
          1842.8799999999999,
          2606.18,
          4902.76,
          1597.6799999999998,
          926.81,
          509.44,
          3436.86,
          4170.28,
          4917.87,
          1071.85,
          986.6400000000001,
          488.63,
          4349.7,
          3417.38,
          1038.9,
          3625.26,
          169,
          2165.44,
          1106.06,
          1350.21,
          2453.82,
          1343.87,
          1302.47,
          1312.1100000000001,
          1766.5099999999998,
          1974.3200000000002,
          4522.26,
          1455.9,
          1182.32,
          916.24,
          421.78,
          2242.68,
          2905.99,
          257,
          1522.66,
          306.38,
          1356.16,
          3133.3999999999996,
          2947.84,
          3850.83,
          3769.29,
          502.83,
          2152.95,
          1371.76,
          433.90999999999997,
          1017.73,
          750.76,
          902.04,
          100.77,
          2048.12,
          158.93,
          1892.3,
          1582.08,
          995.52,
          2060.6,
          3243.84,
          1201.9,
          2600.12,
          2126.16,
          1747.9,
          2037.3100000000002,
          1349.81,
          2384.29,
          5000.1900000000005,
          1026.8799999999999,
          2180.8700000000003,
          4308.77,
          219.74,
          967.06,
          2162.17,
          3694.67,
          198.96,
          607,
          1619.9699999999998,
          454.53,
          963.56,
          954.6800000000001,
          833.38,
          1927.6999999999998,
          2791.06,
          1855.6,
          3653.8500000000004,
          3443.07,
          2828.46,
          2146.91,
          1666.22,
          2368.29,
          3107.2,
          3339.3,
          1880.9199999999998,
          1772.8000000000002,
          5408.469999999999,
          1765.3000000000002,
          5813.4400000000005,
          4065.6,
          883.64,
          925.4,
          281.52,
          769.5699999999999,
          702.1700000000001,
          5290.219999999999,
          4276.860000000001,
          494.86,
          1247.28,
          2656.01,
          2402.88,
          1866.06,
          1249.2,
          3229.68,
          891.3800000000001,
          1152.24,
          1949.08,
          2446.6,
          1493.28,
          3166.7799999999997,
          198.59,
          3387.66,
          5136.94,
          306.38,
          1111.44,
          1669.6,
          65.16,
          1762.8,
          2115.6,
          2334.56,
          3908.6099999999997,
          3164.13,
          100.77,
          2222.2,
          1098.21,
          627.84,
          2917.9700000000003,
          2284.68,
          1938.74,
          1600.09,
          1291.77,
          338.6,
          1114.98,
          2701.74,
          1086.18,
          4285.9400000000005,
          4368.9400000000005,
          2172.5499999999997,
          1174.88,
          325.01,
          1602.25,
          2172.66,
          1860.92,
          1069.26,
          164.72,
          1829.5900000000001,
          3716.7,
          5366.5599999999995,
          1969.8400000000001,
          5880.49,
          1993.98,
          2185.96,
          1849.24,
          5086.96,
          3994.59,
          305.01,
          1773.1499999999999,
          3396.14,
          756.67,
          2475.82,
          1114.36,
          2652.14,
          293.7,
          1034.08,
          1437.19,
          3832.67,
          3510.3599999999997,
          447.23,
          4528.95,
          3627.3500000000004,
          1630.4,
          2461.34,
          1933.27,
          4186.94,
          1511.78,
          1955.55,
          500.81,
          2747.43,
          886.74,
          2001.04,
          290.17,
          2660.2200000000003,
          2186.4700000000003,
          834.74,
          835.4200000000001,
          3070.31,
          2263.8999999999996,
          1476.71,
          3232.7,
          3480.92,
          2168.42,
          1363.32,
          2741.68,
          4125.54,
          1364.65,
          629.6700000000001,
          2293.0699999999997,
          3393.04,
          2371.2599999999998,
          7585.5,
          945.72,
          5051.67,
          1651.59,
          626.1300000000001,
          1731.9199999999998,
          3462.56,
          2804.89,
          3036.47,
          1351.64,
          325.01,
          3090.84,
          1422,
          789.06,
          727.52,
          1708.59,
          4563.88,
          2068.4500000000003,
          3561.18,
          782.35,
          2821.22,
          5151.76,
          295.9,
          933.51,
          3682.58,
          4667.51,
          1182.98,
          4205.96,
          2105.58,
          1527.3899999999999,
          1844.68,
          274.94,
          4527.889999999999,
          2017.2600000000002,
          1229.88,
          2267,
          454.34000000000003,
          3044.4900000000002,
          307.47,
          975.03,
          137.54,
          1217.9,
          473.36,
          977.26,
          497.76,
          4424.67,
          2817.06,
          4389.73,
          1245.75,
          293.7,
          1121.72,
          412.62,
          1367.16,
          1722.1,
          5092.5,
          4078.31,
          1117.65,
          1677.6100000000001,
          662.73,
          1240.03,
          1523.8300000000002,
          454.03999999999996,
          2470.09,
          2483.83,
          972.1700000000001,
          114.2,
          416.4,
          1198.6200000000001,
          2236.31,
          1809.68,
          437.65,
          855.22,
          1594.6399999999999,
          303.2,
          2022.69,
          1762.8,
          2358.48,
          1341.69,
          2173.7000000000003,
          6258.32,
          612.76,
          1296.57,
          2021.7,
          1647.1399999999999,
          2026.32,
          1862.8,
          2662.21,
          4556.96,
          1327.3400000000001,
          1078.98,
          41.18,
          4225.75,
          1491.49,
          2540.87,
          6843.9400000000005,
          808.8,
          726.2,
          1617.6,
          2957.49,
          2589.58,
          1343.9,
          5108.25,
          752.56,
          476.79
         ],
         "yaxis": "y"
        },
        {
         "line": {
          "color": "#2ca02c",
          "width": 2
         },
         "mode": "lines",
         "name": "Transaction Count",
         "type": "scatter",
         "x": [
          "2023-12-30",
          "2023-12-31",
          "2024-01-01",
          "2024-01-02",
          "2024-01-03",
          "2024-01-04",
          "2024-01-05",
          "2024-01-06",
          "2024-01-07",
          "2024-01-08",
          "2024-01-09",
          "2024-01-11",
          "2024-01-12",
          "2024-01-13",
          "2024-01-14",
          "2024-01-15",
          "2024-01-16",
          "2024-01-17",
          "2024-01-18",
          "2024-01-19",
          "2024-01-20",
          "2024-01-21",
          "2024-01-22",
          "2024-01-23",
          "2024-01-24",
          "2024-01-25",
          "2024-01-26",
          "2024-01-27",
          "2024-01-28",
          "2024-01-29",
          "2024-01-30",
          "2024-01-31",
          "2024-02-01",
          "2024-02-02",
          "2024-02-03",
          "2024-02-04",
          "2024-02-05",
          "2024-02-06",
          "2024-02-07",
          "2024-02-08",
          "2024-02-10",
          "2024-02-12",
          "2024-02-13",
          "2024-02-14",
          "2024-02-15",
          "2024-02-16",
          "2024-02-17",
          "2024-02-18",
          "2024-02-20",
          "2024-02-21",
          "2024-02-22",
          "2024-02-23",
          "2024-02-24",
          "2024-02-25",
          "2024-02-27",
          "2024-02-28",
          "2024-02-29",
          "2024-03-01",
          "2024-03-02",
          "2024-03-03",
          "2024-03-04",
          "2024-03-05",
          "2024-03-06",
          "2024-03-07",
          "2024-03-08",
          "2024-03-09",
          "2024-03-10",
          "2024-03-11",
          "2024-03-12",
          "2024-03-13",
          "2024-03-14",
          "2024-03-15",
          "2024-03-16",
          "2024-03-18",
          "2024-03-19",
          "2024-03-20",
          "2024-03-21",
          "2024-03-22",
          "2024-03-23",
          "2024-03-24",
          "2024-03-25",
          "2024-03-26",
          "2024-03-27",
          "2024-03-28",
          "2024-03-29",
          "2024-03-30",
          "2024-03-31",
          "2024-04-01",
          "2024-04-02",
          "2024-04-03",
          "2024-04-04",
          "2024-04-05",
          "2024-04-06",
          "2024-04-07",
          "2024-04-08",
          "2024-04-09",
          "2024-04-11",
          "2024-04-12",
          "2024-04-13",
          "2024-04-14",
          "2024-04-15",
          "2024-04-16",
          "2024-04-17",
          "2024-04-18",
          "2024-04-19",
          "2024-04-20",
          "2024-04-21",
          "2024-04-22",
          "2024-04-23",
          "2024-04-24",
          "2024-04-25",
          "2024-04-26",
          "2024-04-27",
          "2024-04-28",
          "2024-04-29",
          "2024-04-30",
          "2024-05-02",
          "2024-05-03",
          "2024-05-04",
          "2024-05-05",
          "2024-05-06",
          "2024-05-07",
          "2024-05-08",
          "2024-05-09",
          "2024-05-10",
          "2024-05-11",
          "2024-05-12",
          "2024-05-13",
          "2024-05-14",
          "2024-05-15",
          "2024-05-16",
          "2024-05-18",
          "2024-05-19",
          "2024-05-20",
          "2024-05-21",
          "2024-05-22",
          "2024-05-23",
          "2024-05-24",
          "2024-05-25",
          "2024-05-26",
          "2024-05-27",
          "2024-05-28",
          "2024-05-29",
          "2024-05-30",
          "2024-06-02",
          "2024-06-03",
          "2024-06-04",
          "2024-06-05",
          "2024-06-07",
          "2024-06-08",
          "2024-06-09",
          "2024-06-10",
          "2024-06-11",
          "2024-06-12",
          "2024-06-13",
          "2024-06-14",
          "2024-06-15",
          "2024-06-16",
          "2024-06-17",
          "2024-06-18",
          "2024-06-19",
          "2024-06-20",
          "2024-06-21",
          "2024-06-22",
          "2024-06-23",
          "2024-06-24",
          "2024-06-25",
          "2024-06-27",
          "2024-06-29",
          "2024-06-30",
          "2024-07-01",
          "2024-07-02",
          "2024-07-03",
          "2024-07-04",
          "2024-07-05",
          "2024-07-06",
          "2024-07-07",
          "2024-07-08",
          "2024-07-09",
          "2024-07-10",
          "2024-07-11",
          "2024-07-12",
          "2024-07-13",
          "2024-07-14",
          "2024-07-15",
          "2024-07-16",
          "2024-07-17",
          "2024-07-18",
          "2024-07-19",
          "2024-07-20",
          "2024-07-21",
          "2024-07-22",
          "2024-07-23",
          "2024-07-24",
          "2024-07-25",
          "2024-07-26",
          "2024-07-27",
          "2024-07-28",
          "2024-07-29",
          "2024-07-30",
          "2024-07-31",
          "2024-08-01",
          "2024-08-02",
          "2024-08-03",
          "2024-08-04",
          "2024-08-05",
          "2024-08-06",
          "2024-08-07",
          "2024-08-08",
          "2024-08-09",
          "2024-08-10",
          "2024-08-11",
          "2024-08-12",
          "2024-08-13",
          "2024-08-14",
          "2024-08-15",
          "2024-08-16",
          "2024-08-17",
          "2024-08-18",
          "2024-08-19",
          "2024-08-20",
          "2024-08-22",
          "2024-08-23",
          "2024-08-24",
          "2024-08-25",
          "2024-08-26",
          "2024-08-27",
          "2024-08-28",
          "2024-08-29",
          "2024-08-30",
          "2024-08-31",
          "2024-09-01",
          "2024-09-03",
          "2024-09-04",
          "2024-09-05",
          "2024-09-06",
          "2024-09-08",
          "2024-09-09",
          "2024-09-10",
          "2024-09-11",
          "2024-09-12",
          "2024-09-13",
          "2024-09-14",
          "2024-09-15",
          "2024-09-16",
          "2024-09-17",
          "2024-09-18",
          "2024-09-19",
          "2024-09-20",
          "2024-09-21",
          "2024-09-22",
          "2024-09-23",
          "2024-09-24",
          "2024-09-25",
          "2024-09-26",
          "2024-09-27",
          "2024-09-28",
          "2024-09-29",
          "2024-09-30",
          "2024-10-01",
          "2024-10-02",
          "2024-10-03",
          "2024-10-04",
          "2024-10-05",
          "2024-10-06",
          "2024-10-07",
          "2024-10-08",
          "2024-10-09",
          "2024-10-10",
          "2024-10-11",
          "2024-10-12",
          "2024-10-13",
          "2024-10-14",
          "2024-10-15",
          "2024-10-16",
          "2024-10-17",
          "2024-10-19",
          "2024-10-20",
          "2024-10-21",
          "2024-10-22",
          "2024-10-23",
          "2024-10-24",
          "2024-10-26",
          "2024-10-27",
          "2024-10-28",
          "2024-10-29",
          "2024-10-30",
          "2024-11-01",
          "2024-11-02",
          "2024-11-03",
          "2024-11-04",
          "2024-11-05",
          "2024-11-07",
          "2024-11-08",
          "2024-11-09",
          "2024-11-10",
          "2024-11-11",
          "2024-11-13",
          "2024-11-14",
          "2024-11-15",
          "2024-11-16",
          "2024-11-17",
          "2024-11-20",
          "2024-11-21",
          "2024-11-22",
          "2024-11-24",
          "2024-11-26",
          "2024-11-27",
          "2024-11-28",
          "2024-11-29",
          "2024-11-30",
          "2024-12-01",
          "2024-12-03",
          "2024-12-04",
          "2024-12-05",
          "2024-12-06",
          "2024-12-07",
          "2024-12-08",
          "2024-12-09",
          "2024-12-10",
          "2024-12-11",
          "2024-12-12",
          "2024-12-13",
          "2024-12-14",
          "2024-12-15",
          "2024-12-16",
          "2024-12-17",
          "2024-12-18",
          "2024-12-19",
          "2024-12-21",
          "2024-12-22",
          "2024-12-23",
          "2024-12-24",
          "2024-12-25",
          "2024-12-26",
          "2024-12-27",
          "2024-12-28"
         ],
         "xaxis": "x2",
         "y": [
          1,
          3,
          4,
          4,
          4,
          4,
          2,
          3,
          3,
          3,
          4,
          3,
          4,
          5,
          2,
          1,
          4,
          7,
          4,
          1,
          4,
          3,
          4,
          2,
          6,
          2,
          2,
          3,
          4,
          2,
          4,
          9,
          4,
          2,
          1,
          4,
          3,
          5,
          4,
          4,
          1,
          4,
          3,
          1,
          3,
          3,
          2,
          3,
          2,
          5,
          4,
          2,
          3,
          3,
          4,
          5,
          2,
          1,
          1,
          2,
          3,
          4,
          1,
          2,
          1,
          2,
          5,
          5,
          4,
          4,
          3,
          2,
          3,
          3,
          3,
          3,
          1,
          1,
          5,
          1,
          2,
          4,
          1,
          3,
          3,
          3,
          4,
          3,
          4,
          3,
          2,
          3,
          5,
          2,
          3,
          5,
          2,
          2,
          2,
          5,
          1,
          1,
          2,
          1,
          1,
          2,
          3,
          2,
          4,
          2,
          5,
          6,
          4,
          5,
          3,
          3,
          3,
          3,
          2,
          3,
          5,
          2,
          6,
          6,
          1,
          2,
          2,
          2,
          2,
          4,
          5,
          2,
          2,
          5,
          2,
          3,
          1,
          4,
          3,
          2,
          3,
          7,
          1,
          3,
          3,
          3,
          5,
          1,
          1,
          2,
          1,
          1,
          4,
          4,
          6,
          3,
          1,
          4,
          1,
          1,
          6,
          3,
          3,
          3,
          1,
          1,
          2,
          3,
          2,
          4,
          4,
          3,
          2,
          1,
          4,
          3,
          2,
          2,
          1,
          4,
          4,
          7,
          2,
          6,
          3,
          2,
          3,
          4,
          4,
          3,
          2,
          4,
          3,
          4,
          3,
          3,
          1,
          2,
          3,
          5,
          2,
          1,
          6,
          5,
          2,
          4,
          2,
          3,
          2,
          2,
          2,
          4,
          1,
          5,
          1,
          8,
          4,
          1,
          2,
          3,
          3,
          3,
          5,
          4,
          4,
          2,
          3,
          5,
          2,
          2,
          3,
          3,
          4,
          5,
          2,
          4,
          3,
          2,
          2,
          3,
          4,
          4,
          1,
          1,
          4,
          4,
          3,
          3,
          2,
          6,
          4,
          4,
          3,
          5,
          5,
          1,
          2,
          4,
          8,
          4,
          4,
          2,
          4,
          2,
          1,
          6,
          4,
          1,
          2,
          2,
          5,
          1,
          1,
          1,
          2,
          2,
          1,
          1,
          4,
          5,
          5,
          3,
          1,
          2,
          1,
          1,
          2,
          4,
          6,
          1,
          3,
          1,
          2,
          5,
          2,
          5,
          3,
          3,
          1,
          1,
          2,
          3,
          1,
          1,
          1,
          2,
          1,
          5,
          1,
          2,
          1,
          2,
          6,
          1,
          3,
          3,
          2,
          2,
          2,
          4,
          3,
          5,
          2,
          1,
          5,
          4,
          4,
          5,
          1,
          2,
          1,
          4,
          3,
          4,
          6,
          2,
          1
         ],
         "yaxis": "y2"
        }
       ],
       "layout": {
        "annotations": [
         {
          "font": {
           "size": 16
          },
          "showarrow": false,
          "text": "Daily Sales Value",
          "x": 0.5,
          "xanchor": "center",
          "xref": "paper",
          "y": 1,
          "yanchor": "bottom",
          "yref": "paper"
         },
         {
          "font": {
           "size": 16
          },
          "showarrow": false,
          "text": "Daily Transaction Count",
          "x": 0.5,
          "xanchor": "center",
          "xref": "paper",
          "y": 0.44,
          "yanchor": "bottom",
          "yref": "paper"
         }
        ],
        "autosize": true,
        "showlegend": true,
        "template": {
         "data": {
          "bar": [
           {
            "error_x": {
             "color": "#2a3f5f"
            },
            "error_y": {
             "color": "#2a3f5f"
            },
            "marker": {
             "line": {
              "color": "white",
              "width": 0.5
             },
             "pattern": {
              "fillmode": "overlay",
              "size": 10,
              "solidity": 0.2
             }
            },
            "type": "bar"
           }
          ],
          "barpolar": [
           {
            "marker": {
             "line": {
              "color": "white",
              "width": 0.5
             },
             "pattern": {
              "fillmode": "overlay",
              "size": 10,
              "solidity": 0.2
             }
            },
            "type": "barpolar"
           }
          ],
          "carpet": [
           {
            "aaxis": {
             "endlinecolor": "#2a3f5f",
             "gridcolor": "#C8D4E3",
             "linecolor": "#C8D4E3",
             "minorgridcolor": "#C8D4E3",
             "startlinecolor": "#2a3f5f"
            },
            "baxis": {
             "endlinecolor": "#2a3f5f",
             "gridcolor": "#C8D4E3",
             "linecolor": "#C8D4E3",
             "minorgridcolor": "#C8D4E3",
             "startlinecolor": "#2a3f5f"
            },
            "type": "carpet"
           }
          ],
          "choropleth": [
           {
            "colorbar": {
             "outlinewidth": 0,
             "ticks": ""
            },
            "type": "choropleth"
           }
          ],
          "contour": [
           {
            "colorbar": {
             "outlinewidth": 0,
             "ticks": ""
            },
            "colorscale": [
             [
              0,
              "#0d0887"
             ],
             [
              0.1111111111111111,
              "#46039f"
             ],
             [
              0.2222222222222222,
              "#7201a8"
             ],
             [
              0.3333333333333333,
              "#9c179e"
             ],
             [
              0.4444444444444444,
              "#bd3786"
             ],
             [
              0.5555555555555556,
              "#d8576b"
             ],
             [
              0.6666666666666666,
              "#ed7953"
             ],
             [
              0.7777777777777778,
              "#fb9f3a"
             ],
             [
              0.8888888888888888,
              "#fdca26"
             ],
             [
              1,
              "#f0f921"
             ]
            ],
            "type": "contour"
           }
          ],
          "contourcarpet": [
           {
            "colorbar": {
             "outlinewidth": 0,
             "ticks": ""
            },
            "type": "contourcarpet"
           }
          ],
          "heatmap": [
           {
            "colorbar": {
             "outlinewidth": 0,
             "ticks": ""
            },
            "colorscale": [
             [
              0,
              "#0d0887"
             ],
             [
              0.1111111111111111,
              "#46039f"
             ],
             [
              0.2222222222222222,
              "#7201a8"
             ],
             [
              0.3333333333333333,
              "#9c179e"
             ],
             [
              0.4444444444444444,
              "#bd3786"
             ],
             [
              0.5555555555555556,
              "#d8576b"
             ],
             [
              0.6666666666666666,
              "#ed7953"
             ],
             [
              0.7777777777777778,
              "#fb9f3a"
             ],
             [
              0.8888888888888888,
              "#fdca26"
             ],
             [
              1,
              "#f0f921"
             ]
            ],
            "type": "heatmap"
           }
          ],
          "heatmapgl": [
           {
            "colorbar": {
             "outlinewidth": 0,
             "ticks": ""
            },
            "colorscale": [
             [
              0,
              "#0d0887"
             ],
             [
              0.1111111111111111,
              "#46039f"
             ],
             [
              0.2222222222222222,
              "#7201a8"
             ],
             [
              0.3333333333333333,
              "#9c179e"
             ],
             [
              0.4444444444444444,
              "#bd3786"
             ],
             [
              0.5555555555555556,
              "#d8576b"
             ],
             [
              0.6666666666666666,
              "#ed7953"
             ],
             [
              0.7777777777777778,
              "#fb9f3a"
             ],
             [
              0.8888888888888888,
              "#fdca26"
             ],
             [
              1,
              "#f0f921"
             ]
            ],
            "type": "heatmapgl"
           }
          ],
          "histogram": [
           {
            "marker": {
             "pattern": {
              "fillmode": "overlay",
              "size": 10,
              "solidity": 0.2
             }
            },
            "type": "histogram"
           }
          ],
          "histogram2d": [
           {
            "colorbar": {
             "outlinewidth": 0,
             "ticks": ""
            },
            "colorscale": [
             [
              0,
              "#0d0887"
             ],
             [
              0.1111111111111111,
              "#46039f"
             ],
             [
              0.2222222222222222,
              "#7201a8"
             ],
             [
              0.3333333333333333,
              "#9c179e"
             ],
             [
              0.4444444444444444,
              "#bd3786"
             ],
             [
              0.5555555555555556,
              "#d8576b"
             ],
             [
              0.6666666666666666,
              "#ed7953"
             ],
             [
              0.7777777777777778,
              "#fb9f3a"
             ],
             [
              0.8888888888888888,
              "#fdca26"
             ],
             [
              1,
              "#f0f921"
             ]
            ],
            "type": "histogram2d"
           }
          ],
          "histogram2dcontour": [
           {
            "colorbar": {
             "outlinewidth": 0,
             "ticks": ""
            },
            "colorscale": [
             [
              0,
              "#0d0887"
             ],
             [
              0.1111111111111111,
              "#46039f"
             ],
             [
              0.2222222222222222,
              "#7201a8"
             ],
             [
              0.3333333333333333,
              "#9c179e"
             ],
             [
              0.4444444444444444,
              "#bd3786"
             ],
             [
              0.5555555555555556,
              "#d8576b"
             ],
             [
              0.6666666666666666,
              "#ed7953"
             ],
             [
              0.7777777777777778,
              "#fb9f3a"
             ],
             [
              0.8888888888888888,
              "#fdca26"
             ],
             [
              1,
              "#f0f921"
             ]
            ],
            "type": "histogram2dcontour"
           }
          ],
          "mesh3d": [
           {
            "colorbar": {
             "outlinewidth": 0,
             "ticks": ""
            },
            "type": "mesh3d"
           }
          ],
          "parcoords": [
           {
            "line": {
             "colorbar": {
              "outlinewidth": 0,
              "ticks": ""
             }
            },
            "type": "parcoords"
           }
          ],
          "pie": [
           {
            "automargin": true,
            "type": "pie"
           }
          ],
          "scatter": [
           {
            "fillpattern": {
             "fillmode": "overlay",
             "size": 10,
             "solidity": 0.2
            },
            "type": "scatter"
           }
          ],
          "scatter3d": [
           {
            "line": {
             "colorbar": {
              "outlinewidth": 0,
              "ticks": ""
             }
            },
            "marker": {
             "colorbar": {
              "outlinewidth": 0,
              "ticks": ""
             }
            },
            "type": "scatter3d"
           }
          ],
          "scattercarpet": [
           {
            "marker": {
             "colorbar": {
              "outlinewidth": 0,
              "ticks": ""
             }
            },
            "type": "scattercarpet"
           }
          ],
          "scattergeo": [
           {
            "marker": {
             "colorbar": {
              "outlinewidth": 0,
              "ticks": ""
             }
            },
            "type": "scattergeo"
           }
          ],
          "scattergl": [
           {
            "marker": {
             "colorbar": {
              "outlinewidth": 0,
              "ticks": ""
             }
            },
            "type": "scattergl"
           }
          ],
          "scattermapbox": [
           {
            "marker": {
             "colorbar": {
              "outlinewidth": 0,
              "ticks": ""
             }
            },
            "type": "scattermapbox"
           }
          ],
          "scatterpolar": [
           {
            "marker": {
             "colorbar": {
              "outlinewidth": 0,
              "ticks": ""
             }
            },
            "type": "scatterpolar"
           }
          ],
          "scatterpolargl": [
           {
            "marker": {
             "colorbar": {
              "outlinewidth": 0,
              "ticks": ""
             }
            },
            "type": "scatterpolargl"
           }
          ],
          "scatterternary": [
           {
            "marker": {
             "colorbar": {
              "outlinewidth": 0,
              "ticks": ""
             }
            },
            "type": "scatterternary"
           }
          ],
          "surface": [
           {
            "colorbar": {
             "outlinewidth": 0,
             "ticks": ""
            },
            "colorscale": [
             [
              0,
              "#0d0887"
             ],
             [
              0.1111111111111111,
              "#46039f"
             ],
             [
              0.2222222222222222,
              "#7201a8"
             ],
             [
              0.3333333333333333,
              "#9c179e"
             ],
             [
              0.4444444444444444,
              "#bd3786"
             ],
             [
              0.5555555555555556,
              "#d8576b"
             ],
             [
              0.6666666666666666,
              "#ed7953"
             ],
             [
              0.7777777777777778,
              "#fb9f3a"
             ],
             [
              0.8888888888888888,
              "#fdca26"
             ],
             [
              1,
              "#f0f921"
             ]
            ],
            "type": "surface"
           }
          ],
          "table": [
           {
            "cells": {
             "fill": {
              "color": "#EBF0F8"
             },
             "line": {
              "color": "white"
             }
            },
            "header": {
             "fill": {
              "color": "#C8D4E3"
             },
             "line": {
              "color": "white"
             }
            },
            "type": "table"
           }
          ]
         },
         "layout": {
          "annotationdefaults": {
           "arrowcolor": "#2a3f5f",
           "arrowhead": 0,
           "arrowwidth": 1
          },
          "autotypenumbers": "strict",
          "coloraxis": {
           "colorbar": {
            "outlinewidth": 0,
            "ticks": ""
           }
          },
          "colorscale": {
           "diverging": [
            [
             0,
             "#8e0152"
            ],
            [
             0.1,
             "#c51b7d"
            ],
            [
             0.2,
             "#de77ae"
            ],
            [
             0.3,
             "#f1b6da"
            ],
            [
             0.4,
             "#fde0ef"
            ],
            [
             0.5,
             "#f7f7f7"
            ],
            [
             0.6,
             "#e6f5d0"
            ],
            [
             0.7,
             "#b8e186"
            ],
            [
             0.8,
             "#7fbc41"
            ],
            [
             0.9,
             "#4d9221"
            ],
            [
             1,
             "#276419"
            ]
           ],
           "sequential": [
            [
             0,
             "#0d0887"
            ],
            [
             0.1111111111111111,
             "#46039f"
            ],
            [
             0.2222222222222222,
             "#7201a8"
            ],
            [
             0.3333333333333333,
             "#9c179e"
            ],
            [
             0.4444444444444444,
             "#bd3786"
            ],
            [
             0.5555555555555556,
             "#d8576b"
            ],
            [
             0.6666666666666666,
             "#ed7953"
            ],
            [
             0.7777777777777778,
             "#fb9f3a"
            ],
            [
             0.8888888888888888,
             "#fdca26"
            ],
            [
             1,
             "#f0f921"
            ]
           ],
           "sequentialminus": [
            [
             0,
             "#0d0887"
            ],
            [
             0.1111111111111111,
             "#46039f"
            ],
            [
             0.2222222222222222,
             "#7201a8"
            ],
            [
             0.3333333333333333,
             "#9c179e"
            ],
            [
             0.4444444444444444,
             "#bd3786"
            ],
            [
             0.5555555555555556,
             "#d8576b"
            ],
            [
             0.6666666666666666,
             "#ed7953"
            ],
            [
             0.7777777777777778,
             "#fb9f3a"
            ],
            [
             0.8888888888888888,
             "#fdca26"
            ],
            [
             1,
             "#f0f921"
            ]
           ]
          },
          "colorway": [
           "#636efa",
           "#EF553B",
           "#00cc96",
           "#ab63fa",
           "#FFA15A",
           "#19d3f3",
           "#FF6692",
           "#B6E880",
           "#FF97FF",
           "#FECB52"
          ],
          "font": {
           "color": "#2a3f5f"
          },
          "geo": {
           "bgcolor": "white",
           "lakecolor": "white",
           "landcolor": "white",
           "showlakes": true,
           "showland": true,
           "subunitcolor": "#C8D4E3"
          },
          "hoverlabel": {
           "align": "left"
          },
          "hovermode": "closest",
          "mapbox": {
           "style": "light"
          },
          "paper_bgcolor": "white",
          "plot_bgcolor": "white",
          "polar": {
           "angularaxis": {
            "gridcolor": "#EBF0F8",
            "linecolor": "#EBF0F8",
            "ticks": ""
           },
           "bgcolor": "white",
           "radialaxis": {
            "gridcolor": "#EBF0F8",
            "linecolor": "#EBF0F8",
            "ticks": ""
           }
          },
          "scene": {
           "xaxis": {
            "backgroundcolor": "white",
            "gridcolor": "#DFE8F3",
            "gridwidth": 2,
            "linecolor": "#EBF0F8",
            "showbackground": true,
            "ticks": "",
            "zerolinecolor": "#EBF0F8"
           },
           "yaxis": {
            "backgroundcolor": "white",
            "gridcolor": "#DFE8F3",
            "gridwidth": 2,
            "linecolor": "#EBF0F8",
            "showbackground": true,
            "ticks": "",
            "zerolinecolor": "#EBF0F8"
           },
           "zaxis": {
            "backgroundcolor": "white",
            "gridcolor": "#DFE8F3",
            "gridwidth": 2,
            "linecolor": "#EBF0F8",
            "showbackground": true,
            "ticks": "",
            "zerolinecolor": "#EBF0F8"
           }
          },
          "shapedefaults": {
           "line": {
            "color": "#2a3f5f"
           }
          },
          "ternary": {
           "aaxis": {
            "gridcolor": "#DFE8F3",
            "linecolor": "#A2B1C6",
            "ticks": ""
           },
           "baxis": {
            "gridcolor": "#DFE8F3",
            "linecolor": "#A2B1C6",
            "ticks": ""
           },
           "bgcolor": "white",
           "caxis": {
            "gridcolor": "#DFE8F3",
            "linecolor": "#A2B1C6",
            "ticks": ""
           }
          },
          "title": {
           "x": 0.05
          },
          "xaxis": {
           "automargin": true,
           "gridcolor": "#EBF0F8",
           "linecolor": "#EBF0F8",
           "ticks": "",
           "title": {
            "standoff": 15
           },
           "zerolinecolor": "#EBF0F8",
           "zerolinewidth": 2
          },
          "yaxis": {
           "automargin": true,
           "gridcolor": "#EBF0F8",
           "linecolor": "#EBF0F8",
           "ticks": "",
           "title": {
            "standoff": 15
           },
           "zerolinecolor": "#EBF0F8",
           "zerolinewidth": 2
          }
         }
        },
        "title": {
         "text": "Sales and Transaction Trends",
         "x": 0.5
        },
        "xaxis": {
         "anchor": "y",
         "autorange": true,
         "domain": [
          0,
          1
         ],
         "range": [
          "2023-12-30",
          "2024-12-28"
         ],
         "type": "date"
        },
        "xaxis2": {
         "anchor": "y2",
         "autorange": true,
         "domain": [
          0,
          1
         ],
         "range": [
          "2023-12-30",
          "2024-12-28"
         ],
         "type": "date"
        },
        "yaxis": {
         "anchor": "x",
         "autorange": true,
         "domain": [
          0.56,
          1
         ],
         "range": [
          -377.94888888888886,
          8004.6288888888885
         ],
         "type": "linear"
        },
        "yaxis2": {
         "anchor": "x2",
         "autorange": true,
         "domain": [
          0,
          0.44
         ],
         "range": [
          0.5555555555555556,
          9.444444444444445
         ],
         "type": "linear"
        }
       }
      },
      "image/png": "[encoded data removed]",
      "text/html": [
       "<div>                            <div id=\"9d96c460-d96b-407c-9d61-2c17393a7774\" class=\"plotly-graph-div\" style=\"height:800px; width:100%;\"></div>            <script type=\"text/javascript\">                require([\"plotly\"], function(Plotly) {                    window.PLOTLYENV=window.PLOTLYENV || {};                                    if (document.getElementById(\"9d96c460-d96b-407c-9d61-2c17393a7774\")) {                    Plotly.newPlot(                        \"9d96c460-d96b-407c-9d61-2c17393a7774\",                        [{\"line\":{\"color\":\"#1f77b4\",\"width\":2},\"mode\":\"lines\",\"name\":\"Sales Value\",\"x\":[\"2023-12-30\",\"2023-12-31\",\"2024-01-01\",\"2024-01-02\",\"2024-01-03\",\"2024-01-04\",\"2024-01-05\",\"2024-01-06\",\"2024-01-07\",\"2024-01-08\",\"2024-01-09\",\"2024-01-11\",\"2024-01-12\",\"2024-01-13\",\"2024-01-14\",\"2024-01-15\",\"2024-01-16\",\"2024-01-17\",\"2024-01-18\",\"2024-01-19\",\"2024-01-20\",\"2024-01-21\",\"2024-01-22\",\"2024-01-23\",\"2024-01-24\",\"2024-01-25\",\"2024-01-26\",\"2024-01-27\",\"2024-01-28\",\"2024-01-29\",\"2024-01-30\",\"2024-01-31\",\"2024-02-01\",\"2024-02-02\",\"2024-02-03\",\"2024-02-04\",\"2024-02-05\",\"2024-02-06\",\"2024-02-07\",\"2024-02-08\",\"2024-02-10\",\"2024-02-12\",\"2024-02-13\",\"2024-02-14\",\"2024-02-15\",\"2024-02-16\",\"2024-02-17\",\"2024-02-18\",\"2024-02-20\",\"2024-02-21\",\"2024-02-22\",\"2024-02-23\",\"2024-02-24\",\"2024-02-25\",\"2024-02-27\",\"2024-02-28\",\"2024-02-29\",\"2024-03-01\",\"2024-03-02\",\"2024-03-03\",\"2024-03-04\",\"2024-03-05\",\"2024-03-06\",\"2024-03-07\",\"2024-03-08\",\"2024-03-09\",\"2024-03-10\",\"2024-03-11\",\"2024-03-12\",\"2024-03-13\",\"2024-03-14\",\"2024-03-15\",\"2024-03-16\",\"2024-03-18\",\"2024-03-19\",\"2024-03-20\",\"2024-03-21\",\"2024-03-22\",\"2024-03-23\",\"2024-03-24\",\"2024-03-25\",\"2024-03-26\",\"2024-03-27\",\"2024-03-28\",\"2024-03-29\",\"2024-03-30\",\"2024-03-31\",\"2024-04-01\",\"2024-04-02\",\"2024-04-03\",\"2024-04-04\",\"2024-04-05\",\"2024-04-06\",\"2024-04-07\",\"2024-04-08\",\"2024-04-09\",\"2024-04-11\",\"2024-04-12\",\"2024-04-13\",\"2024-04-14\",\"2024-04-15\",\"2024-04-16\",\"2024-04-17\",\"2024-04-18\",\"2024-04-19\",\"2024-04-20\",\"2024-04-21\",\"2024-04-22\",\"2024-04-23\",\"2024-04-24\",\"2024-04-25\",\"2024-04-26\",\"2024-04-27\",\"2024-04-28\",\"2024-04-29\",\"2024-04-30\",\"2024-05-02\",\"2024-05-03\",\"2024-05-04\",\"2024-05-05\",\"2024-05-06\",\"2024-05-07\",\"2024-05-08\",\"2024-05-09\",\"2024-05-10\",\"2024-05-11\",\"2024-05-12\",\"2024-05-13\",\"2024-05-14\",\"2024-05-15\",\"2024-05-16\",\"2024-05-18\",\"2024-05-19\",\"2024-05-20\",\"2024-05-21\",\"2024-05-22\",\"2024-05-23\",\"2024-05-24\",\"2024-05-25\",\"2024-05-26\",\"2024-05-27\",\"2024-05-28\",\"2024-05-29\",\"2024-05-30\",\"2024-06-02\",\"2024-06-03\",\"2024-06-04\",\"2024-06-05\",\"2024-06-07\",\"2024-06-08\",\"2024-06-09\",\"2024-06-10\",\"2024-06-11\",\"2024-06-12\",\"2024-06-13\",\"2024-06-14\",\"2024-06-15\",\"2024-06-16\",\"2024-06-17\",\"2024-06-18\",\"2024-06-19\",\"2024-06-20\",\"2024-06-21\",\"2024-06-22\",\"2024-06-23\",\"2024-06-24\",\"2024-06-25\",\"2024-06-27\",\"2024-06-29\",\"2024-06-30\",\"2024-07-01\",\"2024-07-02\",\"2024-07-03\",\"2024-07-04\",\"2024-07-05\",\"2024-07-06\",\"2024-07-07\",\"2024-07-08\",\"2024-07-09\",\"2024-07-10\",\"2024-07-11\",\"2024-07-12\",\"2024-07-13\",\"2024-07-14\",\"2024-07-15\",\"2024-07-16\",\"2024-07-17\",\"2024-07-18\",\"2024-07-19\",\"2024-07-20\",\"2024-07-21\",\"2024-07-22\",\"2024-07-23\",\"2024-07-24\",\"2024-07-25\",\"2024-07-26\",\"2024-07-27\",\"2024-07-28\",\"2024-07-29\",\"2024-07-30\",\"2024-07-31\",\"2024-08-01\",\"2024-08-02\",\"2024-08-03\",\"2024-08-04\",\"2024-08-05\",\"2024-08-06\",\"2024-08-07\",\"2024-08-08\",\"2024-08-09\",\"2024-08-10\",\"2024-08-11\",\"2024-08-12\",\"2024-08-13\",\"2024-08-14\",\"2024-08-15\",\"2024-08-16\",\"2024-08-17\",\"2024-08-18\",\"2024-08-19\",\"2024-08-20\",\"2024-08-22\",\"2024-08-23\",\"2024-08-24\",\"2024-08-25\",\"2024-08-26\",\"2024-08-27\",\"2024-08-28\",\"2024-08-29\",\"2024-08-30\",\"2024-08-31\",\"2024-09-01\",\"2024-09-03\",\"2024-09-04\",\"2024-09-05\",\"2024-09-06\",\"2024-09-08\",\"2024-09-09\",\"2024-09-10\",\"2024-09-11\",\"2024-09-12\",\"2024-09-13\",\"2024-09-14\",\"2024-09-15\",\"2024-09-16\",\"2024-09-17\",\"2024-09-18\",\"2024-09-19\",\"2024-09-20\",\"2024-09-21\",\"2024-09-22\",\"2024-09-23\",\"2024-09-24\",\"2024-09-25\",\"2024-09-26\",\"2024-09-27\",\"2024-09-28\",\"2024-09-29\",\"2024-09-30\",\"2024-10-01\",\"2024-10-02\",\"2024-10-03\",\"2024-10-04\",\"2024-10-05\",\"2024-10-06\",\"2024-10-07\",\"2024-10-08\",\"2024-10-09\",\"2024-10-10\",\"2024-10-11\",\"2024-10-12\",\"2024-10-13\",\"2024-10-14\",\"2024-10-15\",\"2024-10-16\",\"2024-10-17\",\"2024-10-19\",\"2024-10-20\",\"2024-10-21\",\"2024-10-22\",\"2024-10-23\",\"2024-10-24\",\"2024-10-26\",\"2024-10-27\",\"2024-10-28\",\"2024-10-29\",\"2024-10-30\",\"2024-11-01\",\"2024-11-02\",\"2024-11-03\",\"2024-11-04\",\"2024-11-05\",\"2024-11-07\",\"2024-11-08\",\"2024-11-09\",\"2024-11-10\",\"2024-11-11\",\"2024-11-13\",\"2024-11-14\",\"2024-11-15\",\"2024-11-16\",\"2024-11-17\",\"2024-11-20\",\"2024-11-21\",\"2024-11-22\",\"2024-11-24\",\"2024-11-26\",\"2024-11-27\",\"2024-11-28\",\"2024-11-29\",\"2024-11-30\",\"2024-12-01\",\"2024-12-03\",\"2024-12-04\",\"2024-12-05\",\"2024-12-06\",\"2024-12-07\",\"2024-12-08\",\"2024-12-09\",\"2024-12-10\",\"2024-12-11\",\"2024-12-12\",\"2024-12-13\",\"2024-12-14\",\"2024-12-15\",\"2024-12-16\",\"2024-12-17\",\"2024-12-18\",\"2024-12-19\",\"2024-12-21\",\"2024-12-22\",\"2024-12-23\",\"2024-12-24\",\"2024-12-25\",\"2024-12-26\",\"2024-12-27\",\"2024-12-28\"],\"y\":[313.92,3455.6,1468.94,1818.03,2224.41,2790.76,1049.92,2325.7400000000002,1395.63,686.15,3846.7999999999997,1803.79,2474.35,4049.45,1506.83,1212.8,2454.63,3350.92,2107.08,114.6,3160.33,2064.18,2460.23,1791.33,3302.32,2544.16,260.86,2134.57,2625.76,1842.8799999999999,2606.18,4902.76,1597.6799999999998,926.81,509.44,3436.86,4170.28,4917.87,1071.85,986.6400000000001,488.63,4349.7,3417.38,1038.9,3625.26,169.0,2165.44,1106.06,1350.21,2453.82,1343.87,1302.47,1312.1100000000001,1766.5099999999998,1974.3200000000002,4522.26,1455.9,1182.32,916.24,421.78,2242.68,2905.99,257.0,1522.66,306.38,1356.16,3133.3999999999996,2947.84,3850.83,3769.29,502.83,2152.95,1371.76,433.90999999999997,1017.73,750.76,902.04,100.77,2048.12,158.93,1892.3,1582.08,995.52,2060.6,3243.84,1201.9,2600.12,2126.16,1747.9,2037.3100000000002,1349.81,2384.29,5000.1900000000005,1026.8799999999999,2180.8700000000003,4308.77,219.74,967.06,2162.17,3694.67,198.96,607.0,1619.9699999999998,454.53,963.56,954.6800000000001,833.38,1927.6999999999998,2791.06,1855.6,3653.8500000000004,3443.07,2828.46,2146.91,1666.22,2368.29,3107.2,3339.3,1880.9199999999998,1772.8000000000002,5408.469999999999,1765.3000000000002,5813.4400000000005,4065.6,883.64,925.4,281.52,769.5699999999999,702.1700000000001,5290.219999999999,4276.860000000001,494.86,1247.28,2656.01,2402.88,1866.06,1249.2,3229.68,891.3800000000001,1152.24,1949.08,2446.6,1493.28,3166.7799999999997,198.59,3387.66,5136.94,306.38,1111.44,1669.6,65.16,1762.8,2115.6,2334.56,3908.6099999999997,3164.13,100.77,2222.2,1098.21,627.84,2917.9700000000003,2284.68,1938.74,1600.09,1291.77,338.6,1114.98,2701.74,1086.18,4285.9400000000005,4368.9400000000005,2172.5499999999997,1174.88,325.01,1602.25,2172.66,1860.92,1069.26,164.72,1829.5900000000001,3716.7,5366.5599999999995,1969.8400000000001,5880.49,1993.98,2185.96,1849.24,5086.96,3994.59,305.01,1773.1499999999999,3396.14,756.67,2475.82,1114.36,2652.14,293.7,1034.08,1437.19,3832.67,3510.3599999999997,447.23,4528.95,3627.3500000000004,1630.4,2461.34,1933.27,4186.94,1511.78,1955.55,500.81,2747.43,886.74,2001.04,290.17,2660.2200000000003,2186.4700000000003,834.74,835.4200000000001,3070.31,2263.8999999999996,1476.71,3232.7,3480.92,2168.42,1363.32,2741.68,4125.54,1364.65,629.6700000000001,2293.0699999999997,3393.04,2371.2599999999998,7585.5,945.72,5051.67,1651.59,626.1300000000001,1731.9199999999998,3462.56,2804.89,3036.47,1351.64,325.01,3090.84,1422.0,789.06,727.52,1708.59,4563.88,2068.4500000000003,3561.18,782.35,2821.22,5151.76,295.9,933.51,3682.58,4667.51,1182.98,4205.96,2105.58,1527.3899999999999,1844.68,274.94,4527.889999999999,2017.2600000000002,1229.88,2267.0,454.34000000000003,3044.4900000000002,307.47,975.03,137.54,1217.9,473.36,977.26,497.76,4424.67,2817.06,4389.73,1245.75,293.7,1121.72,412.62,1367.16,1722.1,5092.5,4078.31,1117.65,1677.6100000000001,662.73,1240.03,1523.8300000000002,454.03999999999996,2470.09,2483.83,972.1700000000001,114.2,416.4,1198.6200000000001,2236.31,1809.68,437.65,855.22,1594.6399999999999,303.2,2022.69,1762.8,2358.48,1341.69,2173.7000000000003,6258.32,612.76,1296.57,2021.7,1647.1399999999999,2026.32,1862.8,2662.21,4556.96,1327.3400000000001,1078.98,41.18,4225.75,1491.49,2540.87,6843.9400000000005,808.8,726.2,1617.6,2957.49,2589.58,1343.9,5108.25,752.56,476.79],\"type\":\"scatter\",\"xaxis\":\"x\",\"yaxis\":\"y\"},{\"line\":{\"color\":\"#2ca02c\",\"width\":2},\"mode\":\"lines\",\"name\":\"Transaction Count\",\"x\":[\"2023-12-30\",\"2023-12-31\",\"2024-01-01\",\"2024-01-02\",\"2024-01-03\",\"2024-01-04\",\"2024-01-05\",\"2024-01-06\",\"2024-01-07\",\"2024-01-08\",\"2024-01-09\",\"2024-01-11\",\"2024-01-12\",\"2024-01-13\",\"2024-01-14\",\"2024-01-15\",\"2024-01-16\",\"2024-01-17\",\"2024-01-18\",\"2024-01-19\",\"2024-01-20\",\"2024-01-21\",\"2024-01-22\",\"2024-01-23\",\"2024-01-24\",\"2024-01-25\",\"2024-01-26\",\"2024-01-27\",\"2024-01-28\",\"2024-01-29\",\"2024-01-30\",\"2024-01-31\",\"2024-02-01\",\"2024-02-02\",\"2024-02-03\",\"2024-02-04\",\"2024-02-05\",\"2024-02-06\",\"2024-02-07\",\"2024-02-08\",\"2024-02-10\",\"2024-02-12\",\"2024-02-13\",\"2024-02-14\",\"2024-02-15\",\"2024-02-16\",\"2024-02-17\",\"2024-02-18\",\"2024-02-20\",\"2024-02-21\",\"2024-02-22\",\"2024-02-23\",\"2024-02-24\",\"2024-02-25\",\"2024-02-27\",\"2024-02-28\",\"2024-02-29\",\"2024-03-01\",\"2024-03-02\",\"2024-03-03\",\"2024-03-04\",\"2024-03-05\",\"2024-03-06\",\"2024-03-07\",\"2024-03-08\",\"2024-03-09\",\"2024-03-10\",\"2024-03-11\",\"2024-03-12\",\"2024-03-13\",\"2024-03-14\",\"2024-03-15\",\"2024-03-16\",\"2024-03-18\",\"2024-03-19\",\"2024-03-20\",\"2024-03-21\",\"2024-03-22\",\"2024-03-23\",\"2024-03-24\",\"2024-03-25\",\"2024-03-26\",\"2024-03-27\",\"2024-03-28\",\"2024-03-29\",\"2024-03-30\",\"2024-03-31\",\"2024-04-01\",\"2024-04-02\",\"2024-04-03\",\"2024-04-04\",\"2024-04-05\",\"2024-04-06\",\"2024-04-07\",\"2024-04-08\",\"2024-04-09\",\"2024-04-11\",\"2024-04-12\",\"2024-04-13\",\"2024-04-14\",\"2024-04-15\",\"2024-04-16\",\"2024-04-17\",\"2024-04-18\",\"2024-04-19\",\"2024-04-20\",\"2024-04-21\",\"2024-04-22\",\"2024-04-23\",\"2024-04-24\",\"2024-04-25\",\"2024-04-26\",\"2024-04-27\",\"2024-04-28\",\"2024-04-29\",\"2024-04-30\",\"2024-05-02\",\"2024-05-03\",\"2024-05-04\",\"2024-05-05\",\"2024-05-06\",\"2024-05-07\",\"2024-05-08\",\"2024-05-09\",\"2024-05-10\",\"2024-05-11\",\"2024-05-12\",\"2024-05-13\",\"2024-05-14\",\"2024-05-15\",\"2024-05-16\",\"2024-05-18\",\"2024-05-19\",\"2024-05-20\",\"2024-05-21\",\"2024-05-22\",\"2024-05-23\",\"2024-05-24\",\"2024-05-25\",\"2024-05-26\",\"2024-05-27\",\"2024-05-28\",\"2024-05-29\",\"2024-05-30\",\"2024-06-02\",\"2024-06-03\",\"2024-06-04\",\"2024-06-05\",\"2024-06-07\",\"2024-06-08\",\"2024-06-09\",\"2024-06-10\",\"2024-06-11\",\"2024-06-12\",\"2024-06-13\",\"2024-06-14\",\"2024-06-15\",\"2024-06-16\",\"2024-06-17\",\"2024-06-18\",\"2024-06-19\",\"2024-06-20\",\"2024-06-21\",\"2024-06-22\",\"2024-06-23\",\"2024-06-24\",\"2024-06-25\",\"2024-06-27\",\"2024-06-29\",\"2024-06-30\",\"2024-07-01\",\"2024-07-02\",\"2024-07-03\",\"2024-07-04\",\"2024-07-05\",\"2024-07-06\",\"2024-07-07\",\"2024-07-08\",\"2024-07-09\",\"2024-07-10\",\"2024-07-11\",\"2024-07-12\",\"2024-07-13\",\"2024-07-14\",\"2024-07-15\",\"2024-07-16\",\"2024-07-17\",\"2024-07-18\",\"2024-07-19\",\"2024-07-20\",\"2024-07-21\",\"2024-07-22\",\"2024-07-23\",\"2024-07-24\",\"2024-07-25\",\"2024-07-26\",\"2024-07-27\",\"2024-07-28\",\"2024-07-29\",\"2024-07-30\",\"2024-07-31\",\"2024-08-01\",\"2024-08-02\",\"2024-08-03\",\"2024-08-04\",\"2024-08-05\",\"2024-08-06\",\"2024-08-07\",\"2024-08-08\",\"2024-08-09\",\"2024-08-10\",\"2024-08-11\",\"2024-08-12\",\"2024-08-13\",\"2024-08-14\",\"2024-08-15\",\"2024-08-16\",\"2024-08-17\",\"2024-08-18\",\"2024-08-19\",\"2024-08-20\",\"2024-08-22\",\"2024-08-23\",\"2024-08-24\",\"2024-08-25\",\"2024-08-26\",\"2024-08-27\",\"2024-08-28\",\"2024-08-29\",\"2024-08-30\",\"2024-08-31\",\"2024-09-01\",\"2024-09-03\",\"2024-09-04\",\"2024-09-05\",\"2024-09-06\",\"2024-09-08\",\"2024-09-09\",\"2024-09-10\",\"2024-09-11\",\"2024-09-12\",\"2024-09-13\",\"2024-09-14\",\"2024-09-15\",\"2024-09-16\",\"2024-09-17\",\"2024-09-18\",\"2024-09-19\",\"2024-09-20\",\"2024-09-21\",\"2024-09-22\",\"2024-09-23\",\"2024-09-24\",\"2024-09-25\",\"2024-09-26\",\"2024-09-27\",\"2024-09-28\",\"2024-09-29\",\"2024-09-30\",\"2024-10-01\",\"2024-10-02\",\"2024-10-03\",\"2024-10-04\",\"2024-10-05\",\"2024-10-06\",\"2024-10-07\",\"2024-10-08\",\"2024-10-09\",\"2024-10-10\",\"2024-10-11\",\"2024-10-12\",\"2024-10-13\",\"2024-10-14\",\"2024-10-15\",\"2024-10-16\",\"2024-10-17\",\"2024-10-19\",\"2024-10-20\",\"2024-10-21\",\"2024-10-22\",\"2024-10-23\",\"2024-10-24\",\"2024-10-26\",\"2024-10-27\",\"2024-10-28\",\"2024-10-29\",\"2024-10-30\",\"2024-11-01\",\"2024-11-02\",\"2024-11-03\",\"2024-11-04\",\"2024-11-05\",\"2024-11-07\",\"2024-11-08\",\"2024-11-09\",\"2024-11-10\",\"2024-11-11\",\"2024-11-13\",\"2024-11-14\",\"2024-11-15\",\"2024-11-16\",\"2024-11-17\",\"2024-11-20\",\"2024-11-21\",\"2024-11-22\",\"2024-11-24\",\"2024-11-26\",\"2024-11-27\",\"2024-11-28\",\"2024-11-29\",\"2024-11-30\",\"2024-12-01\",\"2024-12-03\",\"2024-12-04\",\"2024-12-05\",\"2024-12-06\",\"2024-12-07\",\"2024-12-08\",\"2024-12-09\",\"2024-12-10\",\"2024-12-11\",\"2024-12-12\",\"2024-12-13\",\"2024-12-14\",\"2024-12-15\",\"2024-12-16\",\"2024-12-17\",\"2024-12-18\",\"2024-12-19\",\"2024-12-21\",\"2024-12-22\",\"2024-12-23\",\"2024-12-24\",\"2024-12-25\",\"2024-12-26\",\"2024-12-27\",\"2024-12-28\"],\"y\":[1,3,4,4,4,4,2,3,3,3,4,3,4,5,2,1,4,7,4,1,4,3,4,2,6,2,2,3,4,2,4,9,4,2,1,4,3,5,4,4,1,4,3,1,3,3,2,3,2,5,4,2,3,3,4,5,2,1,1,2,3,4,1,2,1,2,5,5,4,4,3,2,3,3,3,3,1,1,5,1,2,4,1,3,3,3,4,3,4,3,2,3,5,2,3,5,2,2,2,5,1,1,2,1,1,2,3,2,4,2,5,6,4,5,3,3,3,3,2,3,5,2,6,6,1,2,2,2,2,4,5,2,2,5,2,3,1,4,3,2,3,7,1,3,3,3,5,1,1,2,1,1,4,4,6,3,1,4,1,1,6,3,3,3,1,1,2,3,2,4,4,3,2,1,4,3,2,2,1,4,4,7,2,6,3,2,3,4,4,3,2,4,3,4,3,3,1,2,3,5,2,1,6,5,2,4,2,3,2,2,2,4,1,5,1,8,4,1,2,3,3,3,5,4,4,2,3,5,2,2,3,3,4,5,2,4,3,2,2,3,4,4,1,1,4,4,3,3,2,6,4,4,3,5,5,1,2,4,8,4,4,2,4,2,1,6,4,1,2,2,5,1,1,1,2,2,1,1,4,5,5,3,1,2,1,1,2,4,6,1,3,1,2,5,2,5,3,3,1,1,2,3,1,1,1,2,1,5,1,2,1,2,6,1,3,3,2,2,2,4,3,5,2,1,5,4,4,5,1,2,1,4,3,4,6,2,1],\"type\":\"scatter\",\"xaxis\":\"x2\",\"yaxis\":\"y2\"}],                        {\"template\":{\"data\":{\"barpolar\":[{\"marker\":{\"line\":{\"color\":\"white\",\"width\":0.5},\"pattern\":{\"fillmode\":\"overlay\",\"size\":10,\"solidity\":0.2}},\"type\":\"barpolar\"}],\"bar\":[{\"error_x\":{\"color\":\"#2a3f5f\"},\"error_y\":{\"color\":\"#2a3f5f\"},\"marker\":{\"line\":{\"color\":\"white\",\"width\":0.5},\"pattern\":{\"fillmode\":\"overlay\",\"size\":10,\"solidity\":0.2}},\"type\":\"bar\"}],\"carpet\":[{\"aaxis\":{\"endlinecolor\":\"#2a3f5f\",\"gridcolor\":\"#C8D4E3\",\"linecolor\":\"#C8D4E3\",\"minorgridcolor\":\"#C8D4E3\",\"startlinecolor\":\"#2a3f5f\"},\"baxis\":{\"endlinecolor\":\"#2a3f5f\",\"gridcolor\":\"#C8D4E3\",\"linecolor\":\"#C8D4E3\",\"minorgridcolor\":\"#C8D4E3\",\"startlinecolor\":\"#2a3f5f\"},\"type\":\"carpet\"}],\"choropleth\":[{\"colorbar\":{\"outlinewidth\":0,\"ticks\":\"\"},\"type\":\"choropleth\"}],\"contourcarpet\":[{\"colorbar\":{\"outlinewidth\":0,\"ticks\":\"\"},\"type\":\"contourcarpet\"}],\"contour\":[{\"colorbar\":{\"outlinewidth\":0,\"ticks\":\"\"},\"colorscale\":[[0.0,\"#0d0887\"],[0.1111111111111111,\"#46039f\"],[0.2222222222222222,\"#7201a8\"],[0.3333333333333333,\"#9c179e\"],[0.4444444444444444,\"#bd3786\"],[0.5555555555555556,\"#d8576b\"],[0.6666666666666666,\"#ed7953\"],[0.7777777777777778,\"#fb9f3a\"],[0.8888888888888888,\"#fdca26\"],[1.0,\"#f0f921\"]],\"type\":\"contour\"}],\"heatmapgl\":[{\"colorbar\":{\"outlinewidth\":0,\"ticks\":\"\"},\"colorscale\":[[0.0,\"#0d0887\"],[0.1111111111111111,\"#46039f\"],[0.2222222222222222,\"#7201a8\"],[0.3333333333333333,\"#9c179e\"],[0.4444444444444444,\"#bd3786\"],[0.5555555555555556,\"#d8576b\"],[0.6666666666666666,\"#ed7953\"],[0.7777777777777778,\"#fb9f3a\"],[0.8888888888888888,\"#fdca26\"],[1.0,\"#f0f921\"]],\"type\":\"heatmapgl\"}],\"heatmap\":[{\"colorbar\":{\"outlinewidth\":0,\"ticks\":\"\"},\"colorscale\":[[0.0,\"#0d0887\"],[0.1111111111111111,\"#46039f\"],[0.2222222222222222,\"#7201a8\"],[0.3333333333333333,\"#9c179e\"],[0.4444444444444444,\"#bd3786\"],[0.5555555555555556,\"#d8576b\"],[0.6666666666666666,\"#ed7953\"],[0.7777777777777778,\"#fb9f3a\"],[0.8888888888888888,\"#fdca26\"],[1.0,\"#f0f921\"]],\"type\":\"heatmap\"}],\"histogram2dcontour\":[{\"colorbar\":{\"outlinewidth\":0,\"ticks\":\"\"},\"colorscale\":[[0.0,\"#0d0887\"],[0.1111111111111111,\"#46039f\"],[0.2222222222222222,\"#7201a8\"],[0.3333333333333333,\"#9c179e\"],[0.4444444444444444,\"#bd3786\"],[0.5555555555555556,\"#d8576b\"],[0.6666666666666666,\"#ed7953\"],[0.7777777777777778,\"#fb9f3a\"],[0.8888888888888888,\"#fdca26\"],[1.0,\"#f0f921\"]],\"type\":\"histogram2dcontour\"}],\"histogram2d\":[{\"colorbar\":{\"outlinewidth\":0,\"ticks\":\"\"},\"colorscale\":[[0.0,\"#0d0887\"],[0.1111111111111111,\"#46039f\"],[0.2222222222222222,\"#7201a8\"],[0.3333333333333333,\"#9c179e\"],[0.4444444444444444,\"#bd3786\"],[0.5555555555555556,\"#d8576b\"],[0.6666666666666666,\"#ed7953\"],[0.7777777777777778,\"#fb9f3a\"],[0.8888888888888888,\"#fdca26\"],[1.0,\"#f0f921\"]],\"type\":\"histogram2d\"}],\"histogram\":[{\"marker\":{\"pattern\":{\"fillmode\":\"overlay\",\"size\":10,\"solidity\":0.2}},\"type\":\"histogram\"}],\"mesh3d\":[{\"colorbar\":{\"outlinewidth\":0,\"ticks\":\"\"},\"type\":\"mesh3d\"}],\"parcoords\":[{\"line\":{\"colorbar\":{\"outlinewidth\":0,\"ticks\":\"\"}},\"type\":\"parcoords\"}],\"pie\":[{\"automargin\":true,\"type\":\"pie\"}],\"scatter3d\":[{\"line\":{\"colorbar\":{\"outlinewidth\":0,\"ticks\":\"\"}},\"marker\":{\"colorbar\":{\"outlinewidth\":0,\"ticks\":\"\"}},\"type\":\"scatter3d\"}],\"scattercarpet\":[{\"marker\":{\"colorbar\":{\"outlinewidth\":0,\"ticks\":\"\"}},\"type\":\"scattercarpet\"}],\"scattergeo\":[{\"marker\":{\"colorbar\":{\"outlinewidth\":0,\"ticks\":\"\"}},\"type\":\"scattergeo\"}],\"scattergl\":[{\"marker\":{\"colorbar\":{\"outlinewidth\":0,\"ticks\":\"\"}},\"type\":\"scattergl\"}],\"scattermapbox\":[{\"marker\":{\"colorbar\":{\"outlinewidth\":0,\"ticks\":\"\"}},\"type\":\"scattermapbox\"}],\"scatterpolargl\":[{\"marker\":{\"colorbar\":{\"outlinewidth\":0,\"ticks\":\"\"}},\"type\":\"scatterpolargl\"}],\"scatterpolar\":[{\"marker\":{\"colorbar\":{\"outlinewidth\":0,\"ticks\":\"\"}},\"type\":\"scatterpolar\"}],\"scatter\":[{\"fillpattern\":{\"fillmode\":\"overlay\",\"size\":10,\"solidity\":0.2},\"type\":\"scatter\"}],\"scatterternary\":[{\"marker\":{\"colorbar\":{\"outlinewidth\":0,\"ticks\":\"\"}},\"type\":\"scatterternary\"}],\"surface\":[{\"colorbar\":{\"outlinewidth\":0,\"ticks\":\"\"},\"colorscale\":[[0.0,\"#0d0887\"],[0.1111111111111111,\"#46039f\"],[0.2222222222222222,\"#7201a8\"],[0.3333333333333333,\"#9c179e\"],[0.4444444444444444,\"#bd3786\"],[0.5555555555555556,\"#d8576b\"],[0.6666666666666666,\"#ed7953\"],[0.7777777777777778,\"#fb9f3a\"],[0.8888888888888888,\"#fdca26\"],[1.0,\"#f0f921\"]],\"type\":\"surface\"}],\"table\":[{\"cells\":{\"fill\":{\"color\":\"#EBF0F8\"},\"line\":{\"color\":\"white\"}},\"header\":{\"fill\":{\"color\":\"#C8D4E3\"},\"line\":{\"color\":\"white\"}},\"type\":\"table\"}]},\"layout\":{\"annotationdefaults\":{\"arrowcolor\":\"#2a3f5f\",\"arrowhead\":0,\"arrowwidth\":1},\"autotypenumbers\":\"strict\",\"coloraxis\":{\"colorbar\":{\"outlinewidth\":0,\"ticks\":\"\"}},\"colorscale\":{\"diverging\":[[0,\"#8e0152\"],[0.1,\"#c51b7d\"],[0.2,\"#de77ae\"],[0.3,\"#f1b6da\"],[0.4,\"#fde0ef\"],[0.5,\"#f7f7f7\"],[0.6,\"#e6f5d0\"],[0.7,\"#b8e186\"],[0.8,\"#7fbc41\"],[0.9,\"#4d9221\"],[1,\"#276419\"]],\"sequential\":[[0.0,\"#0d0887\"],[0.1111111111111111,\"#46039f\"],[0.2222222222222222,\"#7201a8\"],[0.3333333333333333,\"#9c179e\"],[0.4444444444444444,\"#bd3786\"],[0.5555555555555556,\"#d8576b\"],[0.6666666666666666,\"#ed7953\"],[0.7777777777777778,\"#fb9f3a\"],[0.8888888888888888,\"#fdca26\"],[1.0,\"#f0f921\"]],\"sequentialminus\":[[0.0,\"#0d0887\"],[0.1111111111111111,\"#46039f\"],[0.2222222222222222,\"#7201a8\"],[0.3333333333333333,\"#9c179e\"],[0.4444444444444444,\"#bd3786\"],[0.5555555555555556,\"#d8576b\"],[0.6666666666666666,\"#ed7953\"],[0.7777777777777778,\"#fb9f3a\"],[0.8888888888888888,\"#fdca26\"],[1.0,\"#f0f921\"]]},\"colorway\":[\"#636efa\",\"#EF553B\",\"#00cc96\",\"#ab63fa\",\"#FFA15A\",\"#19d3f3\",\"#FF6692\",\"#B6E880\",\"#FF97FF\",\"#FECB52\"],\"font\":{\"color\":\"#2a3f5f\"},\"geo\":{\"bgcolor\":\"white\",\"lakecolor\":\"white\",\"landcolor\":\"white\",\"showlakes\":true,\"showland\":true,\"subunitcolor\":\"#C8D4E3\"},\"hoverlabel\":{\"align\":\"left\"},\"hovermode\":\"closest\",\"mapbox\":{\"style\":\"light\"},\"paper_bgcolor\":\"white\",\"plot_bgcolor\":\"white\",\"polar\":{\"angularaxis\":{\"gridcolor\":\"#EBF0F8\",\"linecolor\":\"#EBF0F8\",\"ticks\":\"\"},\"bgcolor\":\"white\",\"radialaxis\":{\"gridcolor\":\"#EBF0F8\",\"linecolor\":\"#EBF0F8\",\"ticks\":\"\"}},\"scene\":{\"xaxis\":{\"backgroundcolor\":\"white\",\"gridcolor\":\"#DFE8F3\",\"gridwidth\":2,\"linecolor\":\"#EBF0F8\",\"showbackground\":true,\"ticks\":\"\",\"zerolinecolor\":\"#EBF0F8\"},\"yaxis\":{\"backgroundcolor\":\"white\",\"gridcolor\":\"#DFE8F3\",\"gridwidth\":2,\"linecolor\":\"#EBF0F8\",\"showbackground\":true,\"ticks\":\"\",\"zerolinecolor\":\"#EBF0F8\"},\"zaxis\":{\"backgroundcolor\":\"white\",\"gridcolor\":\"#DFE8F3\",\"gridwidth\":2,\"linecolor\":\"#EBF0F8\",\"showbackground\":true,\"ticks\":\"\",\"zerolinecolor\":\"#EBF0F8\"}},\"shapedefaults\":{\"line\":{\"color\":\"#2a3f5f\"}},\"ternary\":{\"aaxis\":{\"gridcolor\":\"#DFE8F3\",\"linecolor\":\"#A2B1C6\",\"ticks\":\"\"},\"baxis\":{\"gridcolor\":\"#DFE8F3\",\"linecolor\":\"#A2B1C6\",\"ticks\":\"\"},\"bgcolor\":\"white\",\"caxis\":{\"gridcolor\":\"#DFE8F3\",\"linecolor\":\"#A2B1C6\",\"ticks\":\"\"}},\"title\":{\"x\":0.05},\"xaxis\":{\"automargin\":true,\"gridcolor\":\"#EBF0F8\",\"linecolor\":\"#EBF0F8\",\"ticks\":\"\",\"title\":{\"standoff\":15},\"zerolinecolor\":\"#EBF0F8\",\"zerolinewidth\":2},\"yaxis\":{\"automargin\":true,\"gridcolor\":\"#EBF0F8\",\"linecolor\":\"#EBF0F8\",\"ticks\":\"\",\"title\":{\"standoff\":15},\"zerolinecolor\":\"#EBF0F8\",\"zerolinewidth\":2}}},\"xaxis\":{\"anchor\":\"y\",\"domain\":[0.0,1.0]},\"yaxis\":{\"anchor\":\"x\",\"domain\":[0.56,1.0]},\"xaxis2\":{\"anchor\":\"y2\",\"domain\":[0.0,1.0]},\"yaxis2\":{\"anchor\":\"x2\",\"domain\":[0.0,0.44]},\"annotations\":[{\"font\":{\"size\":16},\"showarrow\":false,\"text\":\"Daily Sales Value\",\"x\":0.5,\"xanchor\":\"center\",\"xref\":\"paper\",\"y\":1.0,\"yanchor\":\"bottom\",\"yref\":\"paper\"},{\"font\":{\"size\":16},\"showarrow\":false,\"text\":\"Daily Transaction Count\",\"x\":0.5,\"xanchor\":\"center\",\"xref\":\"paper\",\"y\":0.44,\"yanchor\":\"bottom\",\"yref\":\"paper\"}],\"title\":{\"text\":\"Sales and Transaction Trends\",\"x\":0.5},\"height\":800,\"showlegend\":true},                        {\"responsive\": true}                    ).then(function(){\n",
       "                            \n",
       "var gd = document.getElementById('9d96c460-d96b-407c-9d61-2c17393a7774');\n",
       "var x = new MutationObserver(function (mutations, observer) {{\n",
       "        var display = window.getComputedStyle(gd).display;\n",
       "        if (!display || display === 'none') {{\n",
       "            console.log([gd, 'removed!']);\n",
       "            Plotly.purge(gd);\n",
       "            observer.disconnect();\n",
       "        }}\n",
       "}});\n",
       "\n",
       "// Listen for the removal of the full notebook cells\n",
       "var notebookContainer = gd.closest('#notebook-container');\n",
       "if (notebookContainer) {{\n",
       "    x.observe(notebookContainer, {childList: true});\n",
       "}}\n",
       "\n",
       "// Listen for the clearing of the current output cell\n",
       "var outputEl = gd.closest('.output');\n",
       "if (outputEl) {{\n",
       "    x.observe(outputEl, {childList: true});\n",
       "}}\n",
       "\n",
       "                        })                };                });            </script>        </div>"
      ]
     },
     "metadata": {},
     "output_type": "display_data"
    }
   ],
   "source": [
    "fig_sales = visualizer.plot_sales_trends()\n",
    "fig_sales.show()"
   ]
  },
  {
   "cell_type": "markdown",
   "metadata": {},
   "source": [
    "# **Regional Perfomance Analysis**"
   ]
  },
  {
   "cell_type": "code",
   "execution_count": 265,
   "metadata": {},
   "outputs": [
    {
     "data": {
      "application/vnd.plotly.v1+json": {
       "config": {
        "plotlyServerURL": "https://plot.ly"
       },
       "data": [
        {
         "marker": {
          "color": "#1f77b4"
         },
         "name": "Total Sales",
         "type": "bar",
         "x": [
          "Asia",
          "Europe",
          "North America",
          "South America"
         ],
         "y": [
          152074.97,
          166254.63,
          152313.4,
          219352.56
         ]
        },
        {
         "line": {
          "width": 2
         },
         "marker": {
          "color": "#ff7f0e",
          "size": 8
         },
         "mode": "lines+markers",
         "name": "Avg Order Value",
         "type": "scatter",
         "x": [
          "Asia",
          "Europe",
          "North America",
          "South America"
         ],
         "y": [
          697.5916055045872,
          710.4898717948718,
          624.2352459016394,
          721.5544736842105
         ],
         "yaxis": "y2"
        }
       ],
       "layout": {
        "autosize": true,
        "barmode": "group",
        "template": {
         "data": {
          "bar": [
           {
            "error_x": {
             "color": "#2a3f5f"
            },
            "error_y": {
             "color": "#2a3f5f"
            },
            "marker": {
             "line": {
              "color": "white",
              "width": 0.5
             },
             "pattern": {
              "fillmode": "overlay",
              "size": 10,
              "solidity": 0.2
             }
            },
            "type": "bar"
           }
          ],
          "barpolar": [
           {
            "marker": {
             "line": {
              "color": "white",
              "width": 0.5
             },
             "pattern": {
              "fillmode": "overlay",
              "size": 10,
              "solidity": 0.2
             }
            },
            "type": "barpolar"
           }
          ],
          "carpet": [
           {
            "aaxis": {
             "endlinecolor": "#2a3f5f",
             "gridcolor": "#C8D4E3",
             "linecolor": "#C8D4E3",
             "minorgridcolor": "#C8D4E3",
             "startlinecolor": "#2a3f5f"
            },
            "baxis": {
             "endlinecolor": "#2a3f5f",
             "gridcolor": "#C8D4E3",
             "linecolor": "#C8D4E3",
             "minorgridcolor": "#C8D4E3",
             "startlinecolor": "#2a3f5f"
            },
            "type": "carpet"
           }
          ],
          "choropleth": [
           {
            "colorbar": {
             "outlinewidth": 0,
             "ticks": ""
            },
            "type": "choropleth"
           }
          ],
          "contour": [
           {
            "colorbar": {
             "outlinewidth": 0,
             "ticks": ""
            },
            "colorscale": [
             [
              0,
              "#0d0887"
             ],
             [
              0.1111111111111111,
              "#46039f"
             ],
             [
              0.2222222222222222,
              "#7201a8"
             ],
             [
              0.3333333333333333,
              "#9c179e"
             ],
             [
              0.4444444444444444,
              "#bd3786"
             ],
             [
              0.5555555555555556,
              "#d8576b"
             ],
             [
              0.6666666666666666,
              "#ed7953"
             ],
             [
              0.7777777777777778,
              "#fb9f3a"
             ],
             [
              0.8888888888888888,
              "#fdca26"
             ],
             [
              1,
              "#f0f921"
             ]
            ],
            "type": "contour"
           }
          ],
          "contourcarpet": [
           {
            "colorbar": {
             "outlinewidth": 0,
             "ticks": ""
            },
            "type": "contourcarpet"
           }
          ],
          "heatmap": [
           {
            "colorbar": {
             "outlinewidth": 0,
             "ticks": ""
            },
            "colorscale": [
             [
              0,
              "#0d0887"
             ],
             [
              0.1111111111111111,
              "#46039f"
             ],
             [
              0.2222222222222222,
              "#7201a8"
             ],
             [
              0.3333333333333333,
              "#9c179e"
             ],
             [
              0.4444444444444444,
              "#bd3786"
             ],
             [
              0.5555555555555556,
              "#d8576b"
             ],
             [
              0.6666666666666666,
              "#ed7953"
             ],
             [
              0.7777777777777778,
              "#fb9f3a"
             ],
             [
              0.8888888888888888,
              "#fdca26"
             ],
             [
              1,
              "#f0f921"
             ]
            ],
            "type": "heatmap"
           }
          ],
          "heatmapgl": [
           {
            "colorbar": {
             "outlinewidth": 0,
             "ticks": ""
            },
            "colorscale": [
             [
              0,
              "#0d0887"
             ],
             [
              0.1111111111111111,
              "#46039f"
             ],
             [
              0.2222222222222222,
              "#7201a8"
             ],
             [
              0.3333333333333333,
              "#9c179e"
             ],
             [
              0.4444444444444444,
              "#bd3786"
             ],
             [
              0.5555555555555556,
              "#d8576b"
             ],
             [
              0.6666666666666666,
              "#ed7953"
             ],
             [
              0.7777777777777778,
              "#fb9f3a"
             ],
             [
              0.8888888888888888,
              "#fdca26"
             ],
             [
              1,
              "#f0f921"
             ]
            ],
            "type": "heatmapgl"
           }
          ],
          "histogram": [
           {
            "marker": {
             "pattern": {
              "fillmode": "overlay",
              "size": 10,
              "solidity": 0.2
             }
            },
            "type": "histogram"
           }
          ],
          "histogram2d": [
           {
            "colorbar": {
             "outlinewidth": 0,
             "ticks": ""
            },
            "colorscale": [
             [
              0,
              "#0d0887"
             ],
             [
              0.1111111111111111,
              "#46039f"
             ],
             [
              0.2222222222222222,
              "#7201a8"
             ],
             [
              0.3333333333333333,
              "#9c179e"
             ],
             [
              0.4444444444444444,
              "#bd3786"
             ],
             [
              0.5555555555555556,
              "#d8576b"
             ],
             [
              0.6666666666666666,
              "#ed7953"
             ],
             [
              0.7777777777777778,
              "#fb9f3a"
             ],
             [
              0.8888888888888888,
              "#fdca26"
             ],
             [
              1,
              "#f0f921"
             ]
            ],
            "type": "histogram2d"
           }
          ],
          "histogram2dcontour": [
           {
            "colorbar": {
             "outlinewidth": 0,
             "ticks": ""
            },
            "colorscale": [
             [
              0,
              "#0d0887"
             ],
             [
              0.1111111111111111,
              "#46039f"
             ],
             [
              0.2222222222222222,
              "#7201a8"
             ],
             [
              0.3333333333333333,
              "#9c179e"
             ],
             [
              0.4444444444444444,
              "#bd3786"
             ],
             [
              0.5555555555555556,
              "#d8576b"
             ],
             [
              0.6666666666666666,
              "#ed7953"
             ],
             [
              0.7777777777777778,
              "#fb9f3a"
             ],
             [
              0.8888888888888888,
              "#fdca26"
             ],
             [
              1,
              "#f0f921"
             ]
            ],
            "type": "histogram2dcontour"
           }
          ],
          "mesh3d": [
           {
            "colorbar": {
             "outlinewidth": 0,
             "ticks": ""
            },
            "type": "mesh3d"
           }
          ],
          "parcoords": [
           {
            "line": {
             "colorbar": {
              "outlinewidth": 0,
              "ticks": ""
             }
            },
            "type": "parcoords"
           }
          ],
          "pie": [
           {
            "automargin": true,
            "type": "pie"
           }
          ],
          "scatter": [
           {
            "fillpattern": {
             "fillmode": "overlay",
             "size": 10,
             "solidity": 0.2
            },
            "type": "scatter"
           }
          ],
          "scatter3d": [
           {
            "line": {
             "colorbar": {
              "outlinewidth": 0,
              "ticks": ""
             }
            },
            "marker": {
             "colorbar": {
              "outlinewidth": 0,
              "ticks": ""
             }
            },
            "type": "scatter3d"
           }
          ],
          "scattercarpet": [
           {
            "marker": {
             "colorbar": {
              "outlinewidth": 0,
              "ticks": ""
             }
            },
            "type": "scattercarpet"
           }
          ],
          "scattergeo": [
           {
            "marker": {
             "colorbar": {
              "outlinewidth": 0,
              "ticks": ""
             }
            },
            "type": "scattergeo"
           }
          ],
          "scattergl": [
           {
            "marker": {
             "colorbar": {
              "outlinewidth": 0,
              "ticks": ""
             }
            },
            "type": "scattergl"
           }
          ],
          "scattermapbox": [
           {
            "marker": {
             "colorbar": {
              "outlinewidth": 0,
              "ticks": ""
             }
            },
            "type": "scattermapbox"
           }
          ],
          "scatterpolar": [
           {
            "marker": {
             "colorbar": {
              "outlinewidth": 0,
              "ticks": ""
             }
            },
            "type": "scatterpolar"
           }
          ],
          "scatterpolargl": [
           {
            "marker": {
             "colorbar": {
              "outlinewidth": 0,
              "ticks": ""
             }
            },
            "type": "scatterpolargl"
           }
          ],
          "scatterternary": [
           {
            "marker": {
             "colorbar": {
              "outlinewidth": 0,
              "ticks": ""
             }
            },
            "type": "scatterternary"
           }
          ],
          "surface": [
           {
            "colorbar": {
             "outlinewidth": 0,
             "ticks": ""
            },
            "colorscale": [
             [
              0,
              "#0d0887"
             ],
             [
              0.1111111111111111,
              "#46039f"
             ],
             [
              0.2222222222222222,
              "#7201a8"
             ],
             [
              0.3333333333333333,
              "#9c179e"
             ],
             [
              0.4444444444444444,
              "#bd3786"
             ],
             [
              0.5555555555555556,
              "#d8576b"
             ],
             [
              0.6666666666666666,
              "#ed7953"
             ],
             [
              0.7777777777777778,
              "#fb9f3a"
             ],
             [
              0.8888888888888888,
              "#fdca26"
             ],
             [
              1,
              "#f0f921"
             ]
            ],
            "type": "surface"
           }
          ],
          "table": [
           {
            "cells": {
             "fill": {
              "color": "#EBF0F8"
             },
             "line": {
              "color": "white"
             }
            },
            "header": {
             "fill": {
              "color": "#C8D4E3"
             },
             "line": {
              "color": "white"
             }
            },
            "type": "table"
           }
          ]
         },
         "layout": {
          "annotationdefaults": {
           "arrowcolor": "#2a3f5f",
           "arrowhead": 0,
           "arrowwidth": 1
          },
          "autotypenumbers": "strict",
          "coloraxis": {
           "colorbar": {
            "outlinewidth": 0,
            "ticks": ""
           }
          },
          "colorscale": {
           "diverging": [
            [
             0,
             "#8e0152"
            ],
            [
             0.1,
             "#c51b7d"
            ],
            [
             0.2,
             "#de77ae"
            ],
            [
             0.3,
             "#f1b6da"
            ],
            [
             0.4,
             "#fde0ef"
            ],
            [
             0.5,
             "#f7f7f7"
            ],
            [
             0.6,
             "#e6f5d0"
            ],
            [
             0.7,
             "#b8e186"
            ],
            [
             0.8,
             "#7fbc41"
            ],
            [
             0.9,
             "#4d9221"
            ],
            [
             1,
             "#276419"
            ]
           ],
           "sequential": [
            [
             0,
             "#0d0887"
            ],
            [
             0.1111111111111111,
             "#46039f"
            ],
            [
             0.2222222222222222,
             "#7201a8"
            ],
            [
             0.3333333333333333,
             "#9c179e"
            ],
            [
             0.4444444444444444,
             "#bd3786"
            ],
            [
             0.5555555555555556,
             "#d8576b"
            ],
            [
             0.6666666666666666,
             "#ed7953"
            ],
            [
             0.7777777777777778,
             "#fb9f3a"
            ],
            [
             0.8888888888888888,
             "#fdca26"
            ],
            [
             1,
             "#f0f921"
            ]
           ],
           "sequentialminus": [
            [
             0,
             "#0d0887"
            ],
            [
             0.1111111111111111,
             "#46039f"
            ],
            [
             0.2222222222222222,
             "#7201a8"
            ],
            [
             0.3333333333333333,
             "#9c179e"
            ],
            [
             0.4444444444444444,
             "#bd3786"
            ],
            [
             0.5555555555555556,
             "#d8576b"
            ],
            [
             0.6666666666666666,
             "#ed7953"
            ],
            [
             0.7777777777777778,
             "#fb9f3a"
            ],
            [
             0.8888888888888888,
             "#fdca26"
            ],
            [
             1,
             "#f0f921"
            ]
           ]
          },
          "colorway": [
           "#636efa",
           "#EF553B",
           "#00cc96",
           "#ab63fa",
           "#FFA15A",
           "#19d3f3",
           "#FF6692",
           "#B6E880",
           "#FF97FF",
           "#FECB52"
          ],
          "font": {
           "color": "#2a3f5f"
          },
          "geo": {
           "bgcolor": "white",
           "lakecolor": "white",
           "landcolor": "white",
           "showlakes": true,
           "showland": true,
           "subunitcolor": "#C8D4E3"
          },
          "hoverlabel": {
           "align": "left"
          },
          "hovermode": "closest",
          "mapbox": {
           "style": "light"
          },
          "paper_bgcolor": "white",
          "plot_bgcolor": "white",
          "polar": {
           "angularaxis": {
            "gridcolor": "#EBF0F8",
            "linecolor": "#EBF0F8",
            "ticks": ""
           },
           "bgcolor": "white",
           "radialaxis": {
            "gridcolor": "#EBF0F8",
            "linecolor": "#EBF0F8",
            "ticks": ""
           }
          },
          "scene": {
           "xaxis": {
            "backgroundcolor": "white",
            "gridcolor": "#DFE8F3",
            "gridwidth": 2,
            "linecolor": "#EBF0F8",
            "showbackground": true,
            "ticks": "",
            "zerolinecolor": "#EBF0F8"
           },
           "yaxis": {
            "backgroundcolor": "white",
            "gridcolor": "#DFE8F3",
            "gridwidth": 2,
            "linecolor": "#EBF0F8",
            "showbackground": true,
            "ticks": "",
            "zerolinecolor": "#EBF0F8"
           },
           "zaxis": {
            "backgroundcolor": "white",
            "gridcolor": "#DFE8F3",
            "gridwidth": 2,
            "linecolor": "#EBF0F8",
            "showbackground": true,
            "ticks": "",
            "zerolinecolor": "#EBF0F8"
           }
          },
          "shapedefaults": {
           "line": {
            "color": "#2a3f5f"
           }
          },
          "ternary": {
           "aaxis": {
            "gridcolor": "#DFE8F3",
            "linecolor": "#A2B1C6",
            "ticks": ""
           },
           "baxis": {
            "gridcolor": "#DFE8F3",
            "linecolor": "#A2B1C6",
            "ticks": ""
           },
           "bgcolor": "white",
           "caxis": {
            "gridcolor": "#DFE8F3",
            "linecolor": "#A2B1C6",
            "ticks": ""
           }
          },
          "title": {
           "x": 0.05
          },
          "xaxis": {
           "automargin": true,
           "gridcolor": "#EBF0F8",
           "linecolor": "#EBF0F8",
           "ticks": "",
           "title": {
            "standoff": 15
           },
           "zerolinecolor": "#EBF0F8",
           "zerolinewidth": 2
          },
          "yaxis": {
           "automargin": true,
           "gridcolor": "#EBF0F8",
           "linecolor": "#EBF0F8",
           "ticks": "",
           "title": {
            "standoff": 15
           },
           "zerolinecolor": "#EBF0F8",
           "zerolinewidth": 2
          }
         }
        },
        "title": {
         "text": "Regional Performance Analysis"
        },
        "xaxis": {
         "autorange": true,
         "range": [
          -0.5,
          3.5
         ],
         "type": "category"
        },
        "yaxis": {
         "autorange": true,
         "range": [
          0,
          230897.43157894738
         ],
         "title": {
          "text": "Total Sales Value"
         },
         "type": "linear"
        },
        "yaxis2": {
         "autorange": true,
         "overlaying": "y",
         "range": [
          617.359430895262,
          728.4302886905879
         ],
         "side": "right",
         "title": {
          "text": "Average Order Value"
         },
         "type": "linear"
        }
       }
      },
      "image/png": "[encoded data removed]",
      "text/html": [
       "<div>                            <div id=\"bd520cb0-0557-4f67-b5d8-12582fa900b2\" class=\"plotly-graph-div\" style=\"height:600px; width:100%;\"></div>            <script type=\"text/javascript\">                require([\"plotly\"], function(Plotly) {                    window.PLOTLYENV=window.PLOTLYENV || {};                                    if (document.getElementById(\"bd520cb0-0557-4f67-b5d8-12582fa900b2\")) {                    Plotly.newPlot(                        \"bd520cb0-0557-4f67-b5d8-12582fa900b2\",                        [{\"marker\":{\"color\":\"#1f77b4\"},\"name\":\"Total Sales\",\"x\":[\"Asia\",\"Europe\",\"North America\",\"South America\"],\"y\":[152074.97,166254.63,152313.4,219352.56],\"type\":\"bar\"},{\"line\":{\"width\":2},\"marker\":{\"color\":\"#ff7f0e\",\"size\":8},\"mode\":\"lines+markers\",\"name\":\"Avg Order Value\",\"x\":[\"Asia\",\"Europe\",\"North America\",\"South America\"],\"y\":[697.5916055045872,710.4898717948718,624.2352459016394,721.5544736842105],\"yaxis\":\"y2\",\"type\":\"scatter\"}],                        {\"template\":{\"data\":{\"barpolar\":[{\"marker\":{\"line\":{\"color\":\"white\",\"width\":0.5},\"pattern\":{\"fillmode\":\"overlay\",\"size\":10,\"solidity\":0.2}},\"type\":\"barpolar\"}],\"bar\":[{\"error_x\":{\"color\":\"#2a3f5f\"},\"error_y\":{\"color\":\"#2a3f5f\"},\"marker\":{\"line\":{\"color\":\"white\",\"width\":0.5},\"pattern\":{\"fillmode\":\"overlay\",\"size\":10,\"solidity\":0.2}},\"type\":\"bar\"}],\"carpet\":[{\"aaxis\":{\"endlinecolor\":\"#2a3f5f\",\"gridcolor\":\"#C8D4E3\",\"linecolor\":\"#C8D4E3\",\"minorgridcolor\":\"#C8D4E3\",\"startlinecolor\":\"#2a3f5f\"},\"baxis\":{\"endlinecolor\":\"#2a3f5f\",\"gridcolor\":\"#C8D4E3\",\"linecolor\":\"#C8D4E3\",\"minorgridcolor\":\"#C8D4E3\",\"startlinecolor\":\"#2a3f5f\"},\"type\":\"carpet\"}],\"choropleth\":[{\"colorbar\":{\"outlinewidth\":0,\"ticks\":\"\"},\"type\":\"choropleth\"}],\"contourcarpet\":[{\"colorbar\":{\"outlinewidth\":0,\"ticks\":\"\"},\"type\":\"contourcarpet\"}],\"contour\":[{\"colorbar\":{\"outlinewidth\":0,\"ticks\":\"\"},\"colorscale\":[[0.0,\"#0d0887\"],[0.1111111111111111,\"#46039f\"],[0.2222222222222222,\"#7201a8\"],[0.3333333333333333,\"#9c179e\"],[0.4444444444444444,\"#bd3786\"],[0.5555555555555556,\"#d8576b\"],[0.6666666666666666,\"#ed7953\"],[0.7777777777777778,\"#fb9f3a\"],[0.8888888888888888,\"#fdca26\"],[1.0,\"#f0f921\"]],\"type\":\"contour\"}],\"heatmapgl\":[{\"colorbar\":{\"outlinewidth\":0,\"ticks\":\"\"},\"colorscale\":[[0.0,\"#0d0887\"],[0.1111111111111111,\"#46039f\"],[0.2222222222222222,\"#7201a8\"],[0.3333333333333333,\"#9c179e\"],[0.4444444444444444,\"#bd3786\"],[0.5555555555555556,\"#d8576b\"],[0.6666666666666666,\"#ed7953\"],[0.7777777777777778,\"#fb9f3a\"],[0.8888888888888888,\"#fdca26\"],[1.0,\"#f0f921\"]],\"type\":\"heatmapgl\"}],\"heatmap\":[{\"colorbar\":{\"outlinewidth\":0,\"ticks\":\"\"},\"colorscale\":[[0.0,\"#0d0887\"],[0.1111111111111111,\"#46039f\"],[0.2222222222222222,\"#7201a8\"],[0.3333333333333333,\"#9c179e\"],[0.4444444444444444,\"#bd3786\"],[0.5555555555555556,\"#d8576b\"],[0.6666666666666666,\"#ed7953\"],[0.7777777777777778,\"#fb9f3a\"],[0.8888888888888888,\"#fdca26\"],[1.0,\"#f0f921\"]],\"type\":\"heatmap\"}],\"histogram2dcontour\":[{\"colorbar\":{\"outlinewidth\":0,\"ticks\":\"\"},\"colorscale\":[[0.0,\"#0d0887\"],[0.1111111111111111,\"#46039f\"],[0.2222222222222222,\"#7201a8\"],[0.3333333333333333,\"#9c179e\"],[0.4444444444444444,\"#bd3786\"],[0.5555555555555556,\"#d8576b\"],[0.6666666666666666,\"#ed7953\"],[0.7777777777777778,\"#fb9f3a\"],[0.8888888888888888,\"#fdca26\"],[1.0,\"#f0f921\"]],\"type\":\"histogram2dcontour\"}],\"histogram2d\":[{\"colorbar\":{\"outlinewidth\":0,\"ticks\":\"\"},\"colorscale\":[[0.0,\"#0d0887\"],[0.1111111111111111,\"#46039f\"],[0.2222222222222222,\"#7201a8\"],[0.3333333333333333,\"#9c179e\"],[0.4444444444444444,\"#bd3786\"],[0.5555555555555556,\"#d8576b\"],[0.6666666666666666,\"#ed7953\"],[0.7777777777777778,\"#fb9f3a\"],[0.8888888888888888,\"#fdca26\"],[1.0,\"#f0f921\"]],\"type\":\"histogram2d\"}],\"histogram\":[{\"marker\":{\"pattern\":{\"fillmode\":\"overlay\",\"size\":10,\"solidity\":0.2}},\"type\":\"histogram\"}],\"mesh3d\":[{\"colorbar\":{\"outlinewidth\":0,\"ticks\":\"\"},\"type\":\"mesh3d\"}],\"parcoords\":[{\"line\":{\"colorbar\":{\"outlinewidth\":0,\"ticks\":\"\"}},\"type\":\"parcoords\"}],\"pie\":[{\"automargin\":true,\"type\":\"pie\"}],\"scatter3d\":[{\"line\":{\"colorbar\":{\"outlinewidth\":0,\"ticks\":\"\"}},\"marker\":{\"colorbar\":{\"outlinewidth\":0,\"ticks\":\"\"}},\"type\":\"scatter3d\"}],\"scattercarpet\":[{\"marker\":{\"colorbar\":{\"outlinewidth\":0,\"ticks\":\"\"}},\"type\":\"scattercarpet\"}],\"scattergeo\":[{\"marker\":{\"colorbar\":{\"outlinewidth\":0,\"ticks\":\"\"}},\"type\":\"scattergeo\"}],\"scattergl\":[{\"marker\":{\"colorbar\":{\"outlinewidth\":0,\"ticks\":\"\"}},\"type\":\"scattergl\"}],\"scattermapbox\":[{\"marker\":{\"colorbar\":{\"outlinewidth\":0,\"ticks\":\"\"}},\"type\":\"scattermapbox\"}],\"scatterpolargl\":[{\"marker\":{\"colorbar\":{\"outlinewidth\":0,\"ticks\":\"\"}},\"type\":\"scatterpolargl\"}],\"scatterpolar\":[{\"marker\":{\"colorbar\":{\"outlinewidth\":0,\"ticks\":\"\"}},\"type\":\"scatterpolar\"}],\"scatter\":[{\"fillpattern\":{\"fillmode\":\"overlay\",\"size\":10,\"solidity\":0.2},\"type\":\"scatter\"}],\"scatterternary\":[{\"marker\":{\"colorbar\":{\"outlinewidth\":0,\"ticks\":\"\"}},\"type\":\"scatterternary\"}],\"surface\":[{\"colorbar\":{\"outlinewidth\":0,\"ticks\":\"\"},\"colorscale\":[[0.0,\"#0d0887\"],[0.1111111111111111,\"#46039f\"],[0.2222222222222222,\"#7201a8\"],[0.3333333333333333,\"#9c179e\"],[0.4444444444444444,\"#bd3786\"],[0.5555555555555556,\"#d8576b\"],[0.6666666666666666,\"#ed7953\"],[0.7777777777777778,\"#fb9f3a\"],[0.8888888888888888,\"#fdca26\"],[1.0,\"#f0f921\"]],\"type\":\"surface\"}],\"table\":[{\"cells\":{\"fill\":{\"color\":\"#EBF0F8\"},\"line\":{\"color\":\"white\"}},\"header\":{\"fill\":{\"color\":\"#C8D4E3\"},\"line\":{\"color\":\"white\"}},\"type\":\"table\"}]},\"layout\":{\"annotationdefaults\":{\"arrowcolor\":\"#2a3f5f\",\"arrowhead\":0,\"arrowwidth\":1},\"autotypenumbers\":\"strict\",\"coloraxis\":{\"colorbar\":{\"outlinewidth\":0,\"ticks\":\"\"}},\"colorscale\":{\"diverging\":[[0,\"#8e0152\"],[0.1,\"#c51b7d\"],[0.2,\"#de77ae\"],[0.3,\"#f1b6da\"],[0.4,\"#fde0ef\"],[0.5,\"#f7f7f7\"],[0.6,\"#e6f5d0\"],[0.7,\"#b8e186\"],[0.8,\"#7fbc41\"],[0.9,\"#4d9221\"],[1,\"#276419\"]],\"sequential\":[[0.0,\"#0d0887\"],[0.1111111111111111,\"#46039f\"],[0.2222222222222222,\"#7201a8\"],[0.3333333333333333,\"#9c179e\"],[0.4444444444444444,\"#bd3786\"],[0.5555555555555556,\"#d8576b\"],[0.6666666666666666,\"#ed7953\"],[0.7777777777777778,\"#fb9f3a\"],[0.8888888888888888,\"#fdca26\"],[1.0,\"#f0f921\"]],\"sequentialminus\":[[0.0,\"#0d0887\"],[0.1111111111111111,\"#46039f\"],[0.2222222222222222,\"#7201a8\"],[0.3333333333333333,\"#9c179e\"],[0.4444444444444444,\"#bd3786\"],[0.5555555555555556,\"#d8576b\"],[0.6666666666666666,\"#ed7953\"],[0.7777777777777778,\"#fb9f3a\"],[0.8888888888888888,\"#fdca26\"],[1.0,\"#f0f921\"]]},\"colorway\":[\"#636efa\",\"#EF553B\",\"#00cc96\",\"#ab63fa\",\"#FFA15A\",\"#19d3f3\",\"#FF6692\",\"#B6E880\",\"#FF97FF\",\"#FECB52\"],\"font\":{\"color\":\"#2a3f5f\"},\"geo\":{\"bgcolor\":\"white\",\"lakecolor\":\"white\",\"landcolor\":\"white\",\"showlakes\":true,\"showland\":true,\"subunitcolor\":\"#C8D4E3\"},\"hoverlabel\":{\"align\":\"left\"},\"hovermode\":\"closest\",\"mapbox\":{\"style\":\"light\"},\"paper_bgcolor\":\"white\",\"plot_bgcolor\":\"white\",\"polar\":{\"angularaxis\":{\"gridcolor\":\"#EBF0F8\",\"linecolor\":\"#EBF0F8\",\"ticks\":\"\"},\"bgcolor\":\"white\",\"radialaxis\":{\"gridcolor\":\"#EBF0F8\",\"linecolor\":\"#EBF0F8\",\"ticks\":\"\"}},\"scene\":{\"xaxis\":{\"backgroundcolor\":\"white\",\"gridcolor\":\"#DFE8F3\",\"gridwidth\":2,\"linecolor\":\"#EBF0F8\",\"showbackground\":true,\"ticks\":\"\",\"zerolinecolor\":\"#EBF0F8\"},\"yaxis\":{\"backgroundcolor\":\"white\",\"gridcolor\":\"#DFE8F3\",\"gridwidth\":2,\"linecolor\":\"#EBF0F8\",\"showbackground\":true,\"ticks\":\"\",\"zerolinecolor\":\"#EBF0F8\"},\"zaxis\":{\"backgroundcolor\":\"white\",\"gridcolor\":\"#DFE8F3\",\"gridwidth\":2,\"linecolor\":\"#EBF0F8\",\"showbackground\":true,\"ticks\":\"\",\"zerolinecolor\":\"#EBF0F8\"}},\"shapedefaults\":{\"line\":{\"color\":\"#2a3f5f\"}},\"ternary\":{\"aaxis\":{\"gridcolor\":\"#DFE8F3\",\"linecolor\":\"#A2B1C6\",\"ticks\":\"\"},\"baxis\":{\"gridcolor\":\"#DFE8F3\",\"linecolor\":\"#A2B1C6\",\"ticks\":\"\"},\"bgcolor\":\"white\",\"caxis\":{\"gridcolor\":\"#DFE8F3\",\"linecolor\":\"#A2B1C6\",\"ticks\":\"\"}},\"title\":{\"x\":0.05},\"xaxis\":{\"automargin\":true,\"gridcolor\":\"#EBF0F8\",\"linecolor\":\"#EBF0F8\",\"ticks\":\"\",\"title\":{\"standoff\":15},\"zerolinecolor\":\"#EBF0F8\",\"zerolinewidth\":2},\"yaxis\":{\"automargin\":true,\"gridcolor\":\"#EBF0F8\",\"linecolor\":\"#EBF0F8\",\"ticks\":\"\",\"title\":{\"standoff\":15},\"zerolinecolor\":\"#EBF0F8\",\"zerolinewidth\":2}}},\"yaxis2\":{\"title\":{\"text\":\"Average Order Value\"},\"overlaying\":\"y\",\"side\":\"right\"},\"title\":{\"text\":\"Regional Performance Analysis\"},\"yaxis\":{\"title\":{\"text\":\"Total Sales Value\"}},\"barmode\":\"group\",\"height\":600},                        {\"responsive\": true}                    ).then(function(){\n",
       "                            \n",
       "var gd = document.getElementById('bd520cb0-0557-4f67-b5d8-12582fa900b2');\n",
       "var x = new MutationObserver(function (mutations, observer) {{\n",
       "        var display = window.getComputedStyle(gd).display;\n",
       "        if (!display || display === 'none') {{\n",
       "            console.log([gd, 'removed!']);\n",
       "            Plotly.purge(gd);\n",
       "            observer.disconnect();\n",
       "        }}\n",
       "}});\n",
       "\n",
       "// Listen for the removal of the full notebook cells\n",
       "var notebookContainer = gd.closest('#notebook-container');\n",
       "if (notebookContainer) {{\n",
       "    x.observe(notebookContainer, {childList: true});\n",
       "}}\n",
       "\n",
       "// Listen for the clearing of the current output cell\n",
       "var outputEl = gd.closest('.output');\n",
       "if (outputEl) {{\n",
       "    x.observe(outputEl, {childList: true});\n",
       "}}\n",
       "\n",
       "                        })                };                });            </script>        </div>"
      ]
     },
     "metadata": {},
     "output_type": "display_data"
    }
   ],
   "source": [
    "fig_regional = visualizer.plot_regional_performance()\n",
    "fig_regional.show()"
   ]
  },
  {
   "cell_type": "markdown",
   "metadata": {},
   "source": [
    "# **Category Performance Analysis**"
   ]
  },
  {
   "cell_type": "code",
   "execution_count": 267,
   "metadata": {},
   "outputs": [
    {
     "data": {
      "application/vnd.plotly.v1+json": {
       "config": {
        "plotlyServerURL": "https://plot.ly"
       },
       "data": [
        {
         "branchvalues": "total",
         "customdata": [
          [
           2.522222222222222,
           154,
           711.6572962962963
          ],
          [
           2.587719298245614,
           135,
           728.8186842105264
          ],
          [
           2.468503937007874,
           140,
           711.746062992126
          ],
          [
           2.5766129032258065,
           138,
           608.4432661290323
          ]
         ],
         "domain": {
          "x": [
           0,
           1
          ],
          "y": [
           0,
           1
          ]
         },
         "hovertemplate": "\n            Category: %{label}<br>\n            Total Sales: $%{value:,.2f}<br>\n            Avg Order Value: $%{color:,.2f}<br>\n            Units/Transaction: %{customdata[0]:.1f}<br>\n            Unique Customers: %{customdata[1]}<br>\n            <extra></extra>\n            ",
         "ids": [
          "Books",
          "Clothing",
          "Electronics",
          "Home Decor"
         ],
         "labels": [
          "Books",
          "Clothing",
          "Electronics",
          "Home Decor"
         ],
         "marker": {
          "coloraxis": "coloraxis",
          "colors": [
           711.6572962962963,
           728.8186842105264,
           711.746062992126,
           608.4432661290323
          ]
         },
         "name": "",
         "parents": [
          "",
          "",
          "",
          ""
         ],
         "type": "treemap",
         "values": [
          192147.47,
          166170.66,
          180783.5,
          150893.93
         ]
        }
       ],
       "layout": {
        "autosize": true,
        "coloraxis": {
         "colorbar": {
          "title": {
           "text": "AvgOrderValue"
          }
         },
         "colorscale": [
          [
           0,
           "#440154"
          ],
          [
           0.1111111111111111,
           "#482878"
          ],
          [
           0.2222222222222222,
           "#3e4989"
          ],
          [
           0.3333333333333333,
           "#31688e"
          ],
          [
           0.4444444444444444,
           "#26828e"
          ],
          [
           0.5555555555555556,
           "#1f9e89"
          ],
          [
           0.6666666666666666,
           "#35b779"
          ],
          [
           0.7777777777777778,
           "#6ece58"
          ],
          [
           0.8888888888888888,
           "#b5de2b"
          ],
          [
           1,
           "#fde725"
          ]
         ]
        },
        "legend": {
         "tracegroupgap": 0
        },
        "margin": {
         "t": 60
        },
        "template": {
         "data": {
          "bar": [
           {
            "error_x": {
             "color": "#2a3f5f"
            },
            "error_y": {
             "color": "#2a3f5f"
            },
            "marker": {
             "line": {
              "color": "white",
              "width": 0.5
             },
             "pattern": {
              "fillmode": "overlay",
              "size": 10,
              "solidity": 0.2
             }
            },
            "type": "bar"
           }
          ],
          "barpolar": [
           {
            "marker": {
             "line": {
              "color": "white",
              "width": 0.5
             },
             "pattern": {
              "fillmode": "overlay",
              "size": 10,
              "solidity": 0.2
             }
            },
            "type": "barpolar"
           }
          ],
          "carpet": [
           {
            "aaxis": {
             "endlinecolor": "#2a3f5f",
             "gridcolor": "#C8D4E3",
             "linecolor": "#C8D4E3",
             "minorgridcolor": "#C8D4E3",
             "startlinecolor": "#2a3f5f"
            },
            "baxis": {
             "endlinecolor": "#2a3f5f",
             "gridcolor": "#C8D4E3",
             "linecolor": "#C8D4E3",
             "minorgridcolor": "#C8D4E3",
             "startlinecolor": "#2a3f5f"
            },
            "type": "carpet"
           }
          ],
          "choropleth": [
           {
            "colorbar": {
             "outlinewidth": 0,
             "ticks": ""
            },
            "type": "choropleth"
           }
          ],
          "contour": [
           {
            "colorbar": {
             "outlinewidth": 0,
             "ticks": ""
            },
            "colorscale": [
             [
              0,
              "#0d0887"
             ],
             [
              0.1111111111111111,
              "#46039f"
             ],
             [
              0.2222222222222222,
              "#7201a8"
             ],
             [
              0.3333333333333333,
              "#9c179e"
             ],
             [
              0.4444444444444444,
              "#bd3786"
             ],
             [
              0.5555555555555556,
              "#d8576b"
             ],
             [
              0.6666666666666666,
              "#ed7953"
             ],
             [
              0.7777777777777778,
              "#fb9f3a"
             ],
             [
              0.8888888888888888,
              "#fdca26"
             ],
             [
              1,
              "#f0f921"
             ]
            ],
            "type": "contour"
           }
          ],
          "contourcarpet": [
           {
            "colorbar": {
             "outlinewidth": 0,
             "ticks": ""
            },
            "type": "contourcarpet"
           }
          ],
          "heatmap": [
           {
            "colorbar": {
             "outlinewidth": 0,
             "ticks": ""
            },
            "colorscale": [
             [
              0,
              "#0d0887"
             ],
             [
              0.1111111111111111,
              "#46039f"
             ],
             [
              0.2222222222222222,
              "#7201a8"
             ],
             [
              0.3333333333333333,
              "#9c179e"
             ],
             [
              0.4444444444444444,
              "#bd3786"
             ],
             [
              0.5555555555555556,
              "#d8576b"
             ],
             [
              0.6666666666666666,
              "#ed7953"
             ],
             [
              0.7777777777777778,
              "#fb9f3a"
             ],
             [
              0.8888888888888888,
              "#fdca26"
             ],
             [
              1,
              "#f0f921"
             ]
            ],
            "type": "heatmap"
           }
          ],
          "heatmapgl": [
           {
            "colorbar": {
             "outlinewidth": 0,
             "ticks": ""
            },
            "colorscale": [
             [
              0,
              "#0d0887"
             ],
             [
              0.1111111111111111,
              "#46039f"
             ],
             [
              0.2222222222222222,
              "#7201a8"
             ],
             [
              0.3333333333333333,
              "#9c179e"
             ],
             [
              0.4444444444444444,
              "#bd3786"
             ],
             [
              0.5555555555555556,
              "#d8576b"
             ],
             [
              0.6666666666666666,
              "#ed7953"
             ],
             [
              0.7777777777777778,
              "#fb9f3a"
             ],
             [
              0.8888888888888888,
              "#fdca26"
             ],
             [
              1,
              "#f0f921"
             ]
            ],
            "type": "heatmapgl"
           }
          ],
          "histogram": [
           {
            "marker": {
             "pattern": {
              "fillmode": "overlay",
              "size": 10,
              "solidity": 0.2
             }
            },
            "type": "histogram"
           }
          ],
          "histogram2d": [
           {
            "colorbar": {
             "outlinewidth": 0,
             "ticks": ""
            },
            "colorscale": [
             [
              0,
              "#0d0887"
             ],
             [
              0.1111111111111111,
              "#46039f"
             ],
             [
              0.2222222222222222,
              "#7201a8"
             ],
             [
              0.3333333333333333,
              "#9c179e"
             ],
             [
              0.4444444444444444,
              "#bd3786"
             ],
             [
              0.5555555555555556,
              "#d8576b"
             ],
             [
              0.6666666666666666,
              "#ed7953"
             ],
             [
              0.7777777777777778,
              "#fb9f3a"
             ],
             [
              0.8888888888888888,
              "#fdca26"
             ],
             [
              1,
              "#f0f921"
             ]
            ],
            "type": "histogram2d"
           }
          ],
          "histogram2dcontour": [
           {
            "colorbar": {
             "outlinewidth": 0,
             "ticks": ""
            },
            "colorscale": [
             [
              0,
              "#0d0887"
             ],
             [
              0.1111111111111111,
              "#46039f"
             ],
             [
              0.2222222222222222,
              "#7201a8"
             ],
             [
              0.3333333333333333,
              "#9c179e"
             ],
             [
              0.4444444444444444,
              "#bd3786"
             ],
             [
              0.5555555555555556,
              "#d8576b"
             ],
             [
              0.6666666666666666,
              "#ed7953"
             ],
             [
              0.7777777777777778,
              "#fb9f3a"
             ],
             [
              0.8888888888888888,
              "#fdca26"
             ],
             [
              1,
              "#f0f921"
             ]
            ],
            "type": "histogram2dcontour"
           }
          ],
          "mesh3d": [
           {
            "colorbar": {
             "outlinewidth": 0,
             "ticks": ""
            },
            "type": "mesh3d"
           }
          ],
          "parcoords": [
           {
            "line": {
             "colorbar": {
              "outlinewidth": 0,
              "ticks": ""
             }
            },
            "type": "parcoords"
           }
          ],
          "pie": [
           {
            "automargin": true,
            "type": "pie"
           }
          ],
          "scatter": [
           {
            "fillpattern": {
             "fillmode": "overlay",
             "size": 10,
             "solidity": 0.2
            },
            "type": "scatter"
           }
          ],
          "scatter3d": [
           {
            "line": {
             "colorbar": {
              "outlinewidth": 0,
              "ticks": ""
             }
            },
            "marker": {
             "colorbar": {
              "outlinewidth": 0,
              "ticks": ""
             }
            },
            "type": "scatter3d"
           }
          ],
          "scattercarpet": [
           {
            "marker": {
             "colorbar": {
              "outlinewidth": 0,
              "ticks": ""
             }
            },
            "type": "scattercarpet"
           }
          ],
          "scattergeo": [
           {
            "marker": {
             "colorbar": {
              "outlinewidth": 0,
              "ticks": ""
             }
            },
            "type": "scattergeo"
           }
          ],
          "scattergl": [
           {
            "marker": {
             "colorbar": {
              "outlinewidth": 0,
              "ticks": ""
             }
            },
            "type": "scattergl"
           }
          ],
          "scattermapbox": [
           {
            "marker": {
             "colorbar": {
              "outlinewidth": 0,
              "ticks": ""
             }
            },
            "type": "scattermapbox"
           }
          ],
          "scatterpolar": [
           {
            "marker": {
             "colorbar": {
              "outlinewidth": 0,
              "ticks": ""
             }
            },
            "type": "scatterpolar"
           }
          ],
          "scatterpolargl": [
           {
            "marker": {
             "colorbar": {
              "outlinewidth": 0,
              "ticks": ""
             }
            },
            "type": "scatterpolargl"
           }
          ],
          "scatterternary": [
           {
            "marker": {
             "colorbar": {
              "outlinewidth": 0,
              "ticks": ""
             }
            },
            "type": "scatterternary"
           }
          ],
          "surface": [
           {
            "colorbar": {
             "outlinewidth": 0,
             "ticks": ""
            },
            "colorscale": [
             [
              0,
              "#0d0887"
             ],
             [
              0.1111111111111111,
              "#46039f"
             ],
             [
              0.2222222222222222,
              "#7201a8"
             ],
             [
              0.3333333333333333,
              "#9c179e"
             ],
             [
              0.4444444444444444,
              "#bd3786"
             ],
             [
              0.5555555555555556,
              "#d8576b"
             ],
             [
              0.6666666666666666,
              "#ed7953"
             ],
             [
              0.7777777777777778,
              "#fb9f3a"
             ],
             [
              0.8888888888888888,
              "#fdca26"
             ],
             [
              1,
              "#f0f921"
             ]
            ],
            "type": "surface"
           }
          ],
          "table": [
           {
            "cells": {
             "fill": {
              "color": "#EBF0F8"
             },
             "line": {
              "color": "white"
             }
            },
            "header": {
             "fill": {
              "color": "#C8D4E3"
             },
             "line": {
              "color": "white"
             }
            },
            "type": "table"
           }
          ]
         },
         "layout": {
          "annotationdefaults": {
           "arrowcolor": "#2a3f5f",
           "arrowhead": 0,
           "arrowwidth": 1
          },
          "autotypenumbers": "strict",
          "coloraxis": {
           "colorbar": {
            "outlinewidth": 0,
            "ticks": ""
           }
          },
          "colorscale": {
           "diverging": [
            [
             0,
             "#8e0152"
            ],
            [
             0.1,
             "#c51b7d"
            ],
            [
             0.2,
             "#de77ae"
            ],
            [
             0.3,
             "#f1b6da"
            ],
            [
             0.4,
             "#fde0ef"
            ],
            [
             0.5,
             "#f7f7f7"
            ],
            [
             0.6,
             "#e6f5d0"
            ],
            [
             0.7,
             "#b8e186"
            ],
            [
             0.8,
             "#7fbc41"
            ],
            [
             0.9,
             "#4d9221"
            ],
            [
             1,
             "#276419"
            ]
           ],
           "sequential": [
            [
             0,
             "#0d0887"
            ],
            [
             0.1111111111111111,
             "#46039f"
            ],
            [
             0.2222222222222222,
             "#7201a8"
            ],
            [
             0.3333333333333333,
             "#9c179e"
            ],
            [
             0.4444444444444444,
             "#bd3786"
            ],
            [
             0.5555555555555556,
             "#d8576b"
            ],
            [
             0.6666666666666666,
             "#ed7953"
            ],
            [
             0.7777777777777778,
             "#fb9f3a"
            ],
            [
             0.8888888888888888,
             "#fdca26"
            ],
            [
             1,
             "#f0f921"
            ]
           ],
           "sequentialminus": [
            [
             0,
             "#0d0887"
            ],
            [
             0.1111111111111111,
             "#46039f"
            ],
            [
             0.2222222222222222,
             "#7201a8"
            ],
            [
             0.3333333333333333,
             "#9c179e"
            ],
            [
             0.4444444444444444,
             "#bd3786"
            ],
            [
             0.5555555555555556,
             "#d8576b"
            ],
            [
             0.6666666666666666,
             "#ed7953"
            ],
            [
             0.7777777777777778,
             "#fb9f3a"
            ],
            [
             0.8888888888888888,
             "#fdca26"
            ],
            [
             1,
             "#f0f921"
            ]
           ]
          },
          "colorway": [
           "#636efa",
           "#EF553B",
           "#00cc96",
           "#ab63fa",
           "#FFA15A",
           "#19d3f3",
           "#FF6692",
           "#B6E880",
           "#FF97FF",
           "#FECB52"
          ],
          "font": {
           "color": "#2a3f5f"
          },
          "geo": {
           "bgcolor": "white",
           "lakecolor": "white",
           "landcolor": "white",
           "showlakes": true,
           "showland": true,
           "subunitcolor": "#C8D4E3"
          },
          "hoverlabel": {
           "align": "left"
          },
          "hovermode": "closest",
          "mapbox": {
           "style": "light"
          },
          "paper_bgcolor": "white",
          "plot_bgcolor": "white",
          "polar": {
           "angularaxis": {
            "gridcolor": "#EBF0F8",
            "linecolor": "#EBF0F8",
            "ticks": ""
           },
           "bgcolor": "white",
           "radialaxis": {
            "gridcolor": "#EBF0F8",
            "linecolor": "#EBF0F8",
            "ticks": ""
           }
          },
          "scene": {
           "xaxis": {
            "backgroundcolor": "white",
            "gridcolor": "#DFE8F3",
            "gridwidth": 2,
            "linecolor": "#EBF0F8",
            "showbackground": true,
            "ticks": "",
            "zerolinecolor": "#EBF0F8"
           },
           "yaxis": {
            "backgroundcolor": "white",
            "gridcolor": "#DFE8F3",
            "gridwidth": 2,
            "linecolor": "#EBF0F8",
            "showbackground": true,
            "ticks": "",
            "zerolinecolor": "#EBF0F8"
           },
           "zaxis": {
            "backgroundcolor": "white",
            "gridcolor": "#DFE8F3",
            "gridwidth": 2,
            "linecolor": "#EBF0F8",
            "showbackground": true,
            "ticks": "",
            "zerolinecolor": "#EBF0F8"
           }
          },
          "shapedefaults": {
           "line": {
            "color": "#2a3f5f"
           }
          },
          "ternary": {
           "aaxis": {
            "gridcolor": "#DFE8F3",
            "linecolor": "#A2B1C6",
            "ticks": ""
           },
           "baxis": {
            "gridcolor": "#DFE8F3",
            "linecolor": "#A2B1C6",
            "ticks": ""
           },
           "bgcolor": "white",
           "caxis": {
            "gridcolor": "#DFE8F3",
            "linecolor": "#A2B1C6",
            "ticks": ""
           }
          },
          "title": {
           "x": 0.05
          },
          "xaxis": {
           "automargin": true,
           "gridcolor": "#EBF0F8",
           "linecolor": "#EBF0F8",
           "ticks": "",
           "title": {
            "standoff": 15
           },
           "zerolinecolor": "#EBF0F8",
           "zerolinewidth": 2
          },
          "yaxis": {
           "automargin": true,
           "gridcolor": "#EBF0F8",
           "linecolor": "#EBF0F8",
           "ticks": "",
           "title": {
            "standoff": 15
           },
           "zerolinecolor": "#EBF0F8",
           "zerolinewidth": 2
          }
         }
        },
        "title": {
         "text": "Category Performance Analysis"
        }
       }
      },
      "image/png": "[encoded data removed]",
      "text/html": [
       "<div>                            <div id=\"663488fb-a446-41f8-b299-645220e7f738\" class=\"plotly-graph-div\" style=\"height:600px; width:100%;\"></div>            <script type=\"text/javascript\">                require([\"plotly\"], function(Plotly) {                    window.PLOTLYENV=window.PLOTLYENV || {};                                    if (document.getElementById(\"663488fb-a446-41f8-b299-645220e7f738\")) {                    Plotly.newPlot(                        \"663488fb-a446-41f8-b299-645220e7f738\",                        [{\"branchvalues\":\"total\",\"customdata\":[[2.522222222222222,154.0,711.6572962962963],[2.587719298245614,135.0,728.8186842105264],[2.468503937007874,140.0,711.746062992126],[2.5766129032258065,138.0,608.4432661290323]],\"domain\":{\"x\":[0.0,1.0],\"y\":[0.0,1.0]},\"hovertemplate\":\"\\n            Category: %{label}\\u003cbr\\u003e\\n            Total Sales: $%{value:,.2f}\\u003cbr\\u003e\\n            Avg Order Value: $%{color:,.2f}\\u003cbr\\u003e\\n            Units\\u002fTransaction: %{customdata[0]:.1f}\\u003cbr\\u003e\\n            Unique Customers: %{customdata[1]}\\u003cbr\\u003e\\n            \\u003cextra\\u003e\\u003c\\u002fextra\\u003e\\n            \",\"ids\":[\"Books\",\"Clothing\",\"Electronics\",\"Home Decor\"],\"labels\":[\"Books\",\"Clothing\",\"Electronics\",\"Home Decor\"],\"marker\":{\"coloraxis\":\"coloraxis\",\"colors\":[711.6572962962963,728.8186842105264,711.746062992126,608.4432661290323]},\"name\":\"\",\"parents\":[\"\",\"\",\"\",\"\"],\"values\":[192147.47,166170.66,180783.5,150893.93],\"type\":\"treemap\"}],                        {\"template\":{\"data\":{\"barpolar\":[{\"marker\":{\"line\":{\"color\":\"white\",\"width\":0.5},\"pattern\":{\"fillmode\":\"overlay\",\"size\":10,\"solidity\":0.2}},\"type\":\"barpolar\"}],\"bar\":[{\"error_x\":{\"color\":\"#2a3f5f\"},\"error_y\":{\"color\":\"#2a3f5f\"},\"marker\":{\"line\":{\"color\":\"white\",\"width\":0.5},\"pattern\":{\"fillmode\":\"overlay\",\"size\":10,\"solidity\":0.2}},\"type\":\"bar\"}],\"carpet\":[{\"aaxis\":{\"endlinecolor\":\"#2a3f5f\",\"gridcolor\":\"#C8D4E3\",\"linecolor\":\"#C8D4E3\",\"minorgridcolor\":\"#C8D4E3\",\"startlinecolor\":\"#2a3f5f\"},\"baxis\":{\"endlinecolor\":\"#2a3f5f\",\"gridcolor\":\"#C8D4E3\",\"linecolor\":\"#C8D4E3\",\"minorgridcolor\":\"#C8D4E3\",\"startlinecolor\":\"#2a3f5f\"},\"type\":\"carpet\"}],\"choropleth\":[{\"colorbar\":{\"outlinewidth\":0,\"ticks\":\"\"},\"type\":\"choropleth\"}],\"contourcarpet\":[{\"colorbar\":{\"outlinewidth\":0,\"ticks\":\"\"},\"type\":\"contourcarpet\"}],\"contour\":[{\"colorbar\":{\"outlinewidth\":0,\"ticks\":\"\"},\"colorscale\":[[0.0,\"#0d0887\"],[0.1111111111111111,\"#46039f\"],[0.2222222222222222,\"#7201a8\"],[0.3333333333333333,\"#9c179e\"],[0.4444444444444444,\"#bd3786\"],[0.5555555555555556,\"#d8576b\"],[0.6666666666666666,\"#ed7953\"],[0.7777777777777778,\"#fb9f3a\"],[0.8888888888888888,\"#fdca26\"],[1.0,\"#f0f921\"]],\"type\":\"contour\"}],\"heatmapgl\":[{\"colorbar\":{\"outlinewidth\":0,\"ticks\":\"\"},\"colorscale\":[[0.0,\"#0d0887\"],[0.1111111111111111,\"#46039f\"],[0.2222222222222222,\"#7201a8\"],[0.3333333333333333,\"#9c179e\"],[0.4444444444444444,\"#bd3786\"],[0.5555555555555556,\"#d8576b\"],[0.6666666666666666,\"#ed7953\"],[0.7777777777777778,\"#fb9f3a\"],[0.8888888888888888,\"#fdca26\"],[1.0,\"#f0f921\"]],\"type\":\"heatmapgl\"}],\"heatmap\":[{\"colorbar\":{\"outlinewidth\":0,\"ticks\":\"\"},\"colorscale\":[[0.0,\"#0d0887\"],[0.1111111111111111,\"#46039f\"],[0.2222222222222222,\"#7201a8\"],[0.3333333333333333,\"#9c179e\"],[0.4444444444444444,\"#bd3786\"],[0.5555555555555556,\"#d8576b\"],[0.6666666666666666,\"#ed7953\"],[0.7777777777777778,\"#fb9f3a\"],[0.8888888888888888,\"#fdca26\"],[1.0,\"#f0f921\"]],\"type\":\"heatmap\"}],\"histogram2dcontour\":[{\"colorbar\":{\"outlinewidth\":0,\"ticks\":\"\"},\"colorscale\":[[0.0,\"#0d0887\"],[0.1111111111111111,\"#46039f\"],[0.2222222222222222,\"#7201a8\"],[0.3333333333333333,\"#9c179e\"],[0.4444444444444444,\"#bd3786\"],[0.5555555555555556,\"#d8576b\"],[0.6666666666666666,\"#ed7953\"],[0.7777777777777778,\"#fb9f3a\"],[0.8888888888888888,\"#fdca26\"],[1.0,\"#f0f921\"]],\"type\":\"histogram2dcontour\"}],\"histogram2d\":[{\"colorbar\":{\"outlinewidth\":0,\"ticks\":\"\"},\"colorscale\":[[0.0,\"#0d0887\"],[0.1111111111111111,\"#46039f\"],[0.2222222222222222,\"#7201a8\"],[0.3333333333333333,\"#9c179e\"],[0.4444444444444444,\"#bd3786\"],[0.5555555555555556,\"#d8576b\"],[0.6666666666666666,\"#ed7953\"],[0.7777777777777778,\"#fb9f3a\"],[0.8888888888888888,\"#fdca26\"],[1.0,\"#f0f921\"]],\"type\":\"histogram2d\"}],\"histogram\":[{\"marker\":{\"pattern\":{\"fillmode\":\"overlay\",\"size\":10,\"solidity\":0.2}},\"type\":\"histogram\"}],\"mesh3d\":[{\"colorbar\":{\"outlinewidth\":0,\"ticks\":\"\"},\"type\":\"mesh3d\"}],\"parcoords\":[{\"line\":{\"colorbar\":{\"outlinewidth\":0,\"ticks\":\"\"}},\"type\":\"parcoords\"}],\"pie\":[{\"automargin\":true,\"type\":\"pie\"}],\"scatter3d\":[{\"line\":{\"colorbar\":{\"outlinewidth\":0,\"ticks\":\"\"}},\"marker\":{\"colorbar\":{\"outlinewidth\":0,\"ticks\":\"\"}},\"type\":\"scatter3d\"}],\"scattercarpet\":[{\"marker\":{\"colorbar\":{\"outlinewidth\":0,\"ticks\":\"\"}},\"type\":\"scattercarpet\"}],\"scattergeo\":[{\"marker\":{\"colorbar\":{\"outlinewidth\":0,\"ticks\":\"\"}},\"type\":\"scattergeo\"}],\"scattergl\":[{\"marker\":{\"colorbar\":{\"outlinewidth\":0,\"ticks\":\"\"}},\"type\":\"scattergl\"}],\"scattermapbox\":[{\"marker\":{\"colorbar\":{\"outlinewidth\":0,\"ticks\":\"\"}},\"type\":\"scattermapbox\"}],\"scatterpolargl\":[{\"marker\":{\"colorbar\":{\"outlinewidth\":0,\"ticks\":\"\"}},\"type\":\"scatterpolargl\"}],\"scatterpolar\":[{\"marker\":{\"colorbar\":{\"outlinewidth\":0,\"ticks\":\"\"}},\"type\":\"scatterpolar\"}],\"scatter\":[{\"fillpattern\":{\"fillmode\":\"overlay\",\"size\":10,\"solidity\":0.2},\"type\":\"scatter\"}],\"scatterternary\":[{\"marker\":{\"colorbar\":{\"outlinewidth\":0,\"ticks\":\"\"}},\"type\":\"scatterternary\"}],\"surface\":[{\"colorbar\":{\"outlinewidth\":0,\"ticks\":\"\"},\"colorscale\":[[0.0,\"#0d0887\"],[0.1111111111111111,\"#46039f\"],[0.2222222222222222,\"#7201a8\"],[0.3333333333333333,\"#9c179e\"],[0.4444444444444444,\"#bd3786\"],[0.5555555555555556,\"#d8576b\"],[0.6666666666666666,\"#ed7953\"],[0.7777777777777778,\"#fb9f3a\"],[0.8888888888888888,\"#fdca26\"],[1.0,\"#f0f921\"]],\"type\":\"surface\"}],\"table\":[{\"cells\":{\"fill\":{\"color\":\"#EBF0F8\"},\"line\":{\"color\":\"white\"}},\"header\":{\"fill\":{\"color\":\"#C8D4E3\"},\"line\":{\"color\":\"white\"}},\"type\":\"table\"}]},\"layout\":{\"annotationdefaults\":{\"arrowcolor\":\"#2a3f5f\",\"arrowhead\":0,\"arrowwidth\":1},\"autotypenumbers\":\"strict\",\"coloraxis\":{\"colorbar\":{\"outlinewidth\":0,\"ticks\":\"\"}},\"colorscale\":{\"diverging\":[[0,\"#8e0152\"],[0.1,\"#c51b7d\"],[0.2,\"#de77ae\"],[0.3,\"#f1b6da\"],[0.4,\"#fde0ef\"],[0.5,\"#f7f7f7\"],[0.6,\"#e6f5d0\"],[0.7,\"#b8e186\"],[0.8,\"#7fbc41\"],[0.9,\"#4d9221\"],[1,\"#276419\"]],\"sequential\":[[0.0,\"#0d0887\"],[0.1111111111111111,\"#46039f\"],[0.2222222222222222,\"#7201a8\"],[0.3333333333333333,\"#9c179e\"],[0.4444444444444444,\"#bd3786\"],[0.5555555555555556,\"#d8576b\"],[0.6666666666666666,\"#ed7953\"],[0.7777777777777778,\"#fb9f3a\"],[0.8888888888888888,\"#fdca26\"],[1.0,\"#f0f921\"]],\"sequentialminus\":[[0.0,\"#0d0887\"],[0.1111111111111111,\"#46039f\"],[0.2222222222222222,\"#7201a8\"],[0.3333333333333333,\"#9c179e\"],[0.4444444444444444,\"#bd3786\"],[0.5555555555555556,\"#d8576b\"],[0.6666666666666666,\"#ed7953\"],[0.7777777777777778,\"#fb9f3a\"],[0.8888888888888888,\"#fdca26\"],[1.0,\"#f0f921\"]]},\"colorway\":[\"#636efa\",\"#EF553B\",\"#00cc96\",\"#ab63fa\",\"#FFA15A\",\"#19d3f3\",\"#FF6692\",\"#B6E880\",\"#FF97FF\",\"#FECB52\"],\"font\":{\"color\":\"#2a3f5f\"},\"geo\":{\"bgcolor\":\"white\",\"lakecolor\":\"white\",\"landcolor\":\"white\",\"showlakes\":true,\"showland\":true,\"subunitcolor\":\"#C8D4E3\"},\"hoverlabel\":{\"align\":\"left\"},\"hovermode\":\"closest\",\"mapbox\":{\"style\":\"light\"},\"paper_bgcolor\":\"white\",\"plot_bgcolor\":\"white\",\"polar\":{\"angularaxis\":{\"gridcolor\":\"#EBF0F8\",\"linecolor\":\"#EBF0F8\",\"ticks\":\"\"},\"bgcolor\":\"white\",\"radialaxis\":{\"gridcolor\":\"#EBF0F8\",\"linecolor\":\"#EBF0F8\",\"ticks\":\"\"}},\"scene\":{\"xaxis\":{\"backgroundcolor\":\"white\",\"gridcolor\":\"#DFE8F3\",\"gridwidth\":2,\"linecolor\":\"#EBF0F8\",\"showbackground\":true,\"ticks\":\"\",\"zerolinecolor\":\"#EBF0F8\"},\"yaxis\":{\"backgroundcolor\":\"white\",\"gridcolor\":\"#DFE8F3\",\"gridwidth\":2,\"linecolor\":\"#EBF0F8\",\"showbackground\":true,\"ticks\":\"\",\"zerolinecolor\":\"#EBF0F8\"},\"zaxis\":{\"backgroundcolor\":\"white\",\"gridcolor\":\"#DFE8F3\",\"gridwidth\":2,\"linecolor\":\"#EBF0F8\",\"showbackground\":true,\"ticks\":\"\",\"zerolinecolor\":\"#EBF0F8\"}},\"shapedefaults\":{\"line\":{\"color\":\"#2a3f5f\"}},\"ternary\":{\"aaxis\":{\"gridcolor\":\"#DFE8F3\",\"linecolor\":\"#A2B1C6\",\"ticks\":\"\"},\"baxis\":{\"gridcolor\":\"#DFE8F3\",\"linecolor\":\"#A2B1C6\",\"ticks\":\"\"},\"bgcolor\":\"white\",\"caxis\":{\"gridcolor\":\"#DFE8F3\",\"linecolor\":\"#A2B1C6\",\"ticks\":\"\"}},\"title\":{\"x\":0.05},\"xaxis\":{\"automargin\":true,\"gridcolor\":\"#EBF0F8\",\"linecolor\":\"#EBF0F8\",\"ticks\":\"\",\"title\":{\"standoff\":15},\"zerolinecolor\":\"#EBF0F8\",\"zerolinewidth\":2},\"yaxis\":{\"automargin\":true,\"gridcolor\":\"#EBF0F8\",\"linecolor\":\"#EBF0F8\",\"ticks\":\"\",\"title\":{\"standoff\":15},\"zerolinecolor\":\"#EBF0F8\",\"zerolinewidth\":2}}},\"coloraxis\":{\"colorbar\":{\"title\":{\"text\":\"AvgOrderValue\"}},\"colorscale\":[[0.0,\"#440154\"],[0.1111111111111111,\"#482878\"],[0.2222222222222222,\"#3e4989\"],[0.3333333333333333,\"#31688e\"],[0.4444444444444444,\"#26828e\"],[0.5555555555555556,\"#1f9e89\"],[0.6666666666666666,\"#35b779\"],[0.7777777777777778,\"#6ece58\"],[0.8888888888888888,\"#b5de2b\"],[1.0,\"#fde725\"]]},\"legend\":{\"tracegroupgap\":0},\"margin\":{\"t\":60},\"title\":{\"text\":\"Category Performance Analysis\"},\"height\":600},                        {\"responsive\": true}                    ).then(function(){\n",
       "                            \n",
       "var gd = document.getElementById('663488fb-a446-41f8-b299-645220e7f738');\n",
       "var x = new MutationObserver(function (mutations, observer) {{\n",
       "        var display = window.getComputedStyle(gd).display;\n",
       "        if (!display || display === 'none') {{\n",
       "            console.log([gd, 'removed!']);\n",
       "            Plotly.purge(gd);\n",
       "            observer.disconnect();\n",
       "        }}\n",
       "}});\n",
       "\n",
       "// Listen for the removal of the full notebook cells\n",
       "var notebookContainer = gd.closest('#notebook-container');\n",
       "if (notebookContainer) {{\n",
       "    x.observe(notebookContainer, {childList: true});\n",
       "}}\n",
       "\n",
       "// Listen for the clearing of the current output cell\n",
       "var outputEl = gd.closest('.output');\n",
       "if (outputEl) {{\n",
       "    x.observe(outputEl, {childList: true});\n",
       "}}\n",
       "\n",
       "                        })                };                });            </script>        </div>"
      ]
     },
     "metadata": {},
     "output_type": "display_data"
    }
   ],
   "source": [
    "fig_category = visualizer.plot_category_analysis()\n",
    "fig_category.show()"
   ]
  },
  {
   "cell_type": "markdown",
   "metadata": {},
   "source": [
    "# **Insights**"
   ]
  },
  {
   "cell_type": "code",
   "execution_count": 269,
   "metadata": {},
   "outputs": [],
   "source": [
    "import pandas as pd\n",
    "import numpy as np\n",
    "from datetime import datetime, timedelta\n",
    "import networkx as nx\n",
    "from scipy.stats import entropy\n",
    "import warnings\n",
    "warnings.filterwarnings('ignore')\n",
    "\n",
    "class EcommerceAnalyzer:\n",
    "    def __init__(self, customers_df, products_df, transactions_df):\n",
    "        \n",
    "        self.customers_df = customers_df.copy()\n",
    "        self.products_df = products_df.copy()\n",
    "        self.transactions_df = transactions_df.copy()\n",
    "        self.preprocess_data()\n",
    "        \n",
    "    def preprocess_data(self):\n",
    "        \n",
    "        \n",
    "        self.customers_df['SignupDate'] = pd.to_datetime(self.customers_df['SignupDate'])\n",
    "        self.transactions_df['TransactionDate'] = pd.to_datetime(self.transactions_df['TransactionDate'])\n",
    "        \n",
    "        \n",
    "        self.enriched_transactions = self.transactions_df.merge(\n",
    "            self.customers_df[['CustomerID', 'Region', 'SignupDate']], \n",
    "            on='CustomerID'\n",
    "        ).merge(\n",
    "            self.products_df[['ProductID', 'Category']], \n",
    "            on='ProductID'\n",
    "        )\n",
    "        \n",
    "        \n",
    "        self.enriched_transactions['CustomerAge'] = (\n",
    "            self.enriched_transactions['TransactionDate'] - \n",
    "            self.enriched_transactions['SignupDate']\n",
    "        ).dt.days\n",
    "        \n",
    "    def analyze_regional_category_affinity(self):\n",
    "       \n",
    "        \n",
    "        regional_category = self.enriched_transactions.groupby(\n",
    "            ['Region', 'Category']\n",
    "        ).agg({\n",
    "            'TransactionID': 'count',\n",
    "            'TotalValue': 'sum'\n",
    "        }).reset_index()\n",
    "        \n",
    "        \n",
    "        region_totals = self.enriched_transactions.groupby('Region').agg({\n",
    "            'TransactionID': 'count',\n",
    "            'TotalValue': 'sum'\n",
    "        })\n",
    "        \n",
    "        \n",
    "        regional_category['PurchaseShare'] = regional_category.apply(\n",
    "            lambda x: x['TransactionID'] / region_totals.loc[x['Region'], 'TransactionID'],\n",
    "            axis=1\n",
    "        )\n",
    "        \n",
    "        regional_category['ValueShare'] = regional_category.apply(\n",
    "            lambda x: x['TotalValue'] / region_totals.loc[x['Region'], 'TotalValue'],\n",
    "            axis=1\n",
    "        )\n",
    "        \n",
    "        \n",
    "        regional_category['AffinityScore'] = (\n",
    "            regional_category['PurchaseShare'] * 0.6 + \n",
    "            regional_category['ValueShare'] * 0.4\n",
    "        )\n",
    "        \n",
    "        return regional_category\n",
    "    \n",
    "    def analyze_customer_lifecycle_value(self):\n",
    "       \n",
    "        \n",
    "        windows = range(0, 180, 30)\n",
    "        lifecycle_values = []\n",
    "        \n",
    "        for start in windows:\n",
    "            end = start + 30\n",
    "            window_data = self.enriched_transactions[\n",
    "                (self.enriched_transactions['CustomerAge'] >= start) &\n",
    "                (self.enriched_transactions['CustomerAge'] < end)\n",
    "            ]\n",
    "            \n",
    "            window_metrics = window_data.groupby('CustomerID').agg({\n",
    "                'TotalValue': 'sum',\n",
    "                'TransactionID': 'count',\n",
    "                'Quantity': 'sum'\n",
    "            }).reset_index()\n",
    "            \n",
    "            window_metrics['WindowStart'] = start\n",
    "            window_metrics['WindowEnd'] = end\n",
    "            \n",
    "            lifecycle_values.append(window_metrics)\n",
    "        \n",
    "        return pd.concat(lifecycle_values)\n",
    "    \n",
    "    def analyze_category_relationships(self):\n",
    "       \n",
    "  \n",
    "        customer_categories = self.enriched_transactions.groupby(\n",
    "            ['CustomerID', 'Category']\n",
    "        )['TransactionID'].count().reset_index()\n",
    "        \n",
    "\n",
    "        category_matrix = pd.pivot_table(\n",
    "            customer_categories,\n",
    "            values='TransactionID',\n",
    "            index='CustomerID',\n",
    "            columns='Category',\n",
    "            fill_value=0\n",
    "        )\n",
    "        \n",
    "\n",
    "        category_correlations = category_matrix.corr()\n",
    " \n",
    "        G = nx.Graph()\n",
    "        categories = category_correlations.index\n",
    "        \n",
    "        for cat1 in categories:\n",
    "            for cat2 in categories:\n",
    "                if cat1 < cat2: \n",
    "                    correlation = category_correlations.loc[cat1, cat2]\n",
    "                    if correlation > 0.1:  \n",
    "                        G.add_edge(cat1, cat2, weight=correlation)\n",
    "        \n",
    "        return G, category_correlations\n",
    "    \n",
    "    def analyze_purchase_velocity(self):\n",
    "   \n",
    "        customer_purchases = self.enriched_transactions.groupby('CustomerID').agg({\n",
    "            'TransactionDate': lambda x: list(sorted(x)),\n",
    "            'TotalValue': 'sum'\n",
    "        })\n",
    "        \n",
    "        def calculate_velocity_metrics(dates):\n",
    "            if len(dates) < 2:\n",
    "                return pd.Series({\n",
    "                    'avg_days_between': np.nan,\n",
    "                    'purchase_consistency': np.nan,\n",
    "                    'velocity_score': 0\n",
    "                })\n",
    "            \n",
    "           \n",
    "            days_between = [(dates[i+1] - dates[i]).days \n",
    "                          for i in range(len(dates)-1)]\n",
    "            \n",
    "            \n",
    "            avg_days = np.mean(days_between)\n",
    "            consistency = 1 - (np.std(days_between) / avg_days) if avg_days > 0 else 0\n",
    "            \n",
    "            \n",
    "            velocity_score = (1 / avg_days) * consistency if avg_days > 0 else 0\n",
    "            \n",
    "            return pd.Series({\n",
    "                'avg_days_between': avg_days,\n",
    "                'purchase_consistency': consistency,\n",
    "                'velocity_score': velocity_score\n",
    "            })\n",
    "        \n",
    "        velocity_metrics = customer_purchases['TransactionDate'].apply(calculate_velocity_metrics)\n",
    "        return velocity_metrics\n",
    "    \n",
    "    def generate_insights(self):\n",
    "       \n",
    "        insights = []\n",
    "        \n",
    "        \n",
    "        regional_affinity = self.analyze_regional_category_affinity()\n",
    "        top_affinities = regional_affinity.nlargest(5, 'AffinityScore')\n",
    "        insights.append({\n",
    "            'title': 'Regional Category Preferences',\n",
    "            'description': f\"Strongest regional category affinity: {top_affinities.iloc[0]['Region']} \"\n",
    "                         f\"for {top_affinities.iloc[0]['Category']} \"\n",
    "                         f\"(Affinity Score: {top_affinities.iloc[0]['AffinityScore']:.2f})\"\n",
    "        })\n",
    "        \n",
    "        \n",
    "        lifecycle_values = self.analyze_customer_lifecycle_value()\n",
    "        peak_window = lifecycle_values.groupby(['WindowStart', 'WindowEnd'])['TotalValue'].mean().idxmax()\n",
    "        insights.append({\n",
    "            'title': 'Customer Lifecycle Peak',\n",
    "            'description': f\"Customer spending peaks between days {peak_window[0]} and {peak_window[1]} \"\n",
    "                         f\"after signup, suggesting optimal engagement window\"\n",
    "        })\n",
    "        \n",
    "\n",
    "        G, correlations = self.analyze_category_relationships()\n",
    "        strongest_pair = np.where(correlations == correlations.max().max())\n",
    "        cat1, cat2 = correlations.index[strongest_pair[0][0]], correlations.index[strongest_pair[1][0]]\n",
    "        insights.append({\n",
    "            'title': 'Category Relationships',\n",
    "            'description': f\"Strongest category relationship: {cat1} and {cat2} \"\n",
    "                         f\"(correlation: {correlations.loc[cat1, cat2]:.2f})\"\n",
    "        })\n",
    "        \n",
    "        \n",
    "        velocity_metrics = self.analyze_purchase_velocity()\n",
    "        avg_velocity = velocity_metrics['velocity_score'].mean()\n",
    "        insights.append({\n",
    "            'title': 'Purchase Velocity',\n",
    "            'description': f\"Average customer purchase velocity score: {avg_velocity:.2f}, \"\n",
    "                         f\"indicating typical purchase frequency and consistency patterns\"\n",
    "        })\n",
    "        \n",
    "        return insights"
   ]
  },
  {
   "cell_type": "code",
   "execution_count": 271,
   "metadata": {},
   "outputs": [],
   "source": [
    "def preprocess_data(self):\n",
    "    \n",
    "        \n",
    "        self.customers_df['SignupDate'] = pd.to_datetime(self.customers_df['SignupDate'])\n",
    "        self.transactions_df['TransactionDate'] = pd.to_datetime(self.transactions_df['TransactionDate'])\n",
    "        \n",
    "        \n",
    "        self.enriched_transactions = self.transactions_df.merge(\n",
    "            self.customers_df[['CustomerID', 'Region', 'SignupDate']], \n",
    "            on='CustomerID'\n",
    "        ).merge(\n",
    "            self.products_df[['ProductID', 'Category']], \n",
    "            on='ProductID'\n",
    "        )\n",
    "        \n",
    "        \n",
    "        self.enriched_transactions['CustomerAge'] = (\n",
    "            self.enriched_transactions['TransactionDate'] - \n",
    "            self.enriched_transactions['SignupDate']\n",
    "        ).dt.days"
   ]
  },
  {
   "cell_type": "markdown",
   "metadata": {},
   "source": [
    "# **Analyzing**"
   ]
  },
  {
   "cell_type": "code",
   "execution_count": 273,
   "metadata": {},
   "outputs": [],
   "source": [
    "analyzer = EcommerceAnalyzer(customers_df, products_df, transactions_df)\n",
    "insights = analyzer.generate_insights()"
   ]
  },
  {
   "cell_type": "code",
   "execution_count": 275,
   "metadata": {},
   "outputs": [
    {
     "name": "stdout",
     "output_type": "stream",
     "text": [
      "\n",
      "Regional Category Preferences:\n",
      "Strongest regional category affinity: South America for Books (Affinity Score: 0.30)\n",
      "\n",
      "Customer Lifecycle Peak:\n",
      "Customer spending peaks between days 150 and 180 after signup, suggesting optimal engagement window\n",
      "\n",
      "Category Relationships:\n",
      "Strongest category relationship: Books and Books (correlation: 1.00)\n",
      "\n",
      "Purchase Velocity:\n",
      "Average customer purchase velocity score: 0.01, indicating typical purchase frequency and consistency patterns\n"
     ]
    }
   ],
   "source": [
    "\n",
    "customers_df = pd.read_csv('Customers.csv')\n",
    "products_df = pd.read_csv('Products.csv')\n",
    "transactions_df = pd.read_csv('Transactions.csv')\n",
    "\n",
    "\n",
    "analyzer = EcommerceAnalyzer(customers_df, products_df, transactions_df)\n",
    "\n",
    "\n",
    "insights = analyzer.generate_insights()\n",
    "\n",
    "\n",
    "for insight in insights:\n",
    "    print(f\"\\n{insight['title']}:\")\n",
    "    print(insight['description'])"
   ]
  },
  {
   "cell_type": "markdown",
   "metadata": {},
   "source": [
    "# **PDF Report Generation**"
   ]
  },
  {
   "cell_type": "code",
   "execution_count": 279,
   "metadata": {},
   "outputs": [
    {
     "name": "stdout",
     "output_type": "stream",
     "text": [
      "Requirement already satisfied: reportlab in /Users/vastav/anaconda3/lib/python3.10/site-packages (4.2.5)\n",
      "Requirement already satisfied: pillow>=9.0.0 in /Users/vastav/anaconda3/lib/python3.10/site-packages (from reportlab) (10.4.0)\n",
      "Requirement already satisfied: chardet in /Users/vastav/anaconda3/lib/python3.10/site-packages (from reportlab) (4.0.0)\n"
     ]
    }
   ],
   "source": [
    "!pip install reportlab"
   ]
  },
  {
   "cell_type": "code",
   "execution_count": 305,
   "metadata": {},
   "outputs": [],
   "source": [
    "from reportlab.lib import colors\n",
    "from reportlab.lib.pagesizes import letter\n",
    "from reportlab.platypus import SimpleDocTemplate, Paragraph, Spacer, Table, TableStyle, Image\n",
    "from reportlab.lib.styles import getSampleStyleSheet, ParagraphStyle\n",
    "from reportlab.lib.units import inch\n",
    "import matplotlib.pyplot as plt\n",
    "import seaborn as sns\n",
    "import io\n",
    "\n",
    "def generate_eda_insights_pdf(self, filename=\"ecommerce_insights_report.pdf\"):\n",
    "    \n",
    "    doc = SimpleDocTemplate(filename, pagesize=letter)\n",
    "    styles = getSampleStyleSheet()\n",
    "    story = []\n",
    "\n",
    "   \n",
    "    title_style = ParagraphStyle(\n",
    "        'CustomTitle',\n",
    "        parent=styles['Heading1'],\n",
    "        fontSize=24,\n",
    "        spaceAfter=30,\n",
    "        alignment=1 \n",
    "    )\n",
    "    story.append(Paragraph(\"E-commerce Business Insights Report --- Vastav Bishnoi\", title_style))\n",
    "    story.append(Spacer(1, 20))\n",
    "\n",
    "    \n",
    "    lifecycle_values = self.analyze_customer_lifecycle_value()\n",
    "    story.append(Paragraph(\"1. Customer Lifecycle Value Analysis\", styles['Heading2']))\n",
    "    story.append(Spacer(1, 12))\n",
    "    \n",
    "    avg_values = lifecycle_values.groupby(['WindowStart', 'WindowEnd'])['TotalValue'].mean().reset_index()\n",
    "    peak_window = avg_values.loc[avg_values['TotalValue'].idxmax()]\n",
    "    \n",
    "    insight = f\"\"\"Customer spending patterns show peak activity between days {int(peak_window['WindowStart'])} and \n",
    "    {int(peak_window['WindowEnd'])} after signup. This represents the optimal engagement window for targeted marketing \n",
    "    campaigns and customer retention efforts. The average transaction value during this peak period is \n",
    "    ${peak_window['TotalValue']:.2f}, suggesting a prime opportunity for maximizing customer lifetime value.\"\"\"\n",
    "    \n",
    "    story.append(Paragraph(insight, styles['Normal']))\n",
    "    story.append(Spacer(1, 20))\n",
    "\n",
    "    \n",
    "    regional_affinity = self.analyze_regional_category_affinity()\n",
    "    story.append(Paragraph(\"2. Regional Category Preferences\", styles['Heading2']))\n",
    "    story.append(Spacer(1, 12))\n",
    "    \n",
    "    top_regions = regional_affinity.nlargest(3, 'AffinityScore')\n",
    "    insight = f\"\"\"Regional analysis reveals distinct category preferences across different markets. \n",
    "    The strongest affinity is in {top_regions.iloc[0]['Region']} for {top_regions.iloc[0]['Category']} \n",
    "    (Affinity Score: {top_regions.iloc[0]['AffinityScore']:.2f}), followed by {top_regions.iloc[1]['Region']} \n",
    "    for {top_regions.iloc[1]['Category']}. This suggests opportunities for region-specific marketing and \n",
    "    inventory optimization.\"\"\"\n",
    "    \n",
    "    story.append(Paragraph(insight, styles['Normal']))\n",
    "    story.append(Spacer(1, 20))\n",
    "\n",
    "    \n",
    "    story.append(Paragraph(\"3. Product Category Relationships\", styles['Heading2']))\n",
    "    story.append(Spacer(1, 12))\n",
    "    \n",
    "    G, correlations = self.analyze_category_relationships()\n",
    "    strongest_pair = np.where(correlations == correlations.max().max())\n",
    "    cat1, cat2 = correlations.index[strongest_pair[0][0]], correlations.index[strongest_pair[1][0]]\n",
    "    \n",
    "    insight = f\"\"\"Analysis of purchase patterns reveals strong relationships between product categories. \n",
    "    The strongest correlation ({correlations.loc[cat1, cat2]:.2f}) exists between {cat1} and {cat2}, \n",
    "    indicating a significant cross-selling opportunity. This insight can be leveraged for product bundling, \n",
    "    recommendation systems, and strategic product placement.\"\"\"\n",
    "    \n",
    "    story.append(Paragraph(insight, styles['Normal']))\n",
    "    story.append(Spacer(1, 20))\n",
    "\n",
    "    \n",
    "    story.append(Paragraph(\"4. Customer Purchase Velocity\", styles['Heading2']))\n",
    "    story.append(Spacer(1, 12))\n",
    "    \n",
    "    velocity_metrics = self.analyze_purchase_velocity()\n",
    "    avg_velocity = velocity_metrics['velocity_score'].mean()\n",
    "    consistency = velocity_metrics['purchase_consistency'].mean()\n",
    "    \n",
    "    insight = f\"\"\"Customer purchase velocity analysis shows an average velocity score of {avg_velocity:.2f} \n",
    "    with a consistency rating of {consistency:.2f}. This indicates the typical purchase frequency and \n",
    "    repurchase patterns across the customer base. Understanding these patterns enables better inventory \n",
    "    planning and targeted retention campaigns.\"\"\"\n",
    "    \n",
    "    story.append(Paragraph(insight, styles['Normal']))\n",
    "    story.append(Spacer(1, 20))\n",
    "\n",
    "  \n",
    "    story.append(Paragraph(\"5. Customer Value Distribution\", styles['Heading2']))\n",
    "    story.append(Spacer(1, 12))\n",
    "    \n",
    "    customer_totals = self.enriched_transactions.groupby('CustomerID')['TotalValue'].sum()\n",
    "    percentiles = customer_totals.quantile([0.2, 0.4, 0.6, 0.8])\n",
    "    \n",
    "    insight = f\"\"\"Customer value analysis reveals distinct spending tiers. The top 20% of customers spend \n",
    "    more than ${percentiles[0.8]:.2f}, while the bottom 20% spend less than ${percentiles[0.2]:.2f}. \n",
    "    This significant variation in customer value suggests opportunities for tier-specific marketing \n",
    "    strategies and personalized engagement programs.\"\"\"\n",
    "    \n",
    "    story.append(Paragraph(insight, styles['Normal']))\n",
    "    story.append(Spacer(1, 20))\n",
    "\n",
    "   \n",
    "    doc.build(story)\n",
    "\n",
    "\n",
    "EcommerceAnalyzer.generate_eda_insights_pdf = generate_eda_insights_pdf"
   ]
  },
  {
   "cell_type": "code",
   "execution_count": 307,
   "metadata": {},
   "outputs": [],
   "source": [
    "\n",
    "analyzer = EcommerceAnalyzer(customers_df, products_df, transactions_df)\n",
    "\n",
    "\n",
    "analyzer.generate_eda_insights_pdf(\"Vastav_Bishnoi_EDA.pdf\")"
   ]
  },
  {
   "cell_type": "code",
   "execution_count": null,
   "metadata": {},
   "outputs": [],
   "source": []
  }
 ],
 "metadata": {
  "kernelspec": {
   "display_name": "Python 3 (ipykernel)",
   "language": "python",
   "name": "python3"
  },
  "language_info": {
   "codemirror_mode": {
    "name": "ipython",
    "version": 3
   },
   "file_extension": ".py",
   "mimetype": "text/x-python",
   "name": "python",
   "nbconvert_exporter": "python",
   "pygments_lexer": "ipython3",
   "version": "3.10.9"
  }
 },
 "nbformat": 4,
 "nbformat_minor": 4
}
